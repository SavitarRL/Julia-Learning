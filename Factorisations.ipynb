{
 "cells": [
  {
   "cell_type": "markdown",
   "id": "computational-science",
   "metadata": {},
   "source": [
    "# Factorizations and other fun\n",
    "Based on work by Andreas Noack\n",
    "\n",
    "## Outline\n",
    " - Factorizations\n",
    " - Special matrix structures\n",
    " - Generic linear algebra"
   ]
  },
  {
   "cell_type": "markdown",
   "id": "naval-ethiopia",
   "metadata": {},
   "source": [
    "Before we get started, let's set up a linear system and use `LinearAlgebra` to bring in\n",
    "the factorizations and special matrix structures."
   ]
  },
  {
   "cell_type": "code",
   "execution_count": 1,
   "id": "likely-latter",
   "metadata": {},
   "outputs": [
    {
     "data": {
      "text/plain": [
       "3×3 Matrix{Float64}:\n",
       " 0.521905  0.64962   0.411551\n",
       " 0.781397  0.277215  0.642124\n",
       " 0.698167  0.4245    0.184165"
      ]
     },
     "execution_count": 1,
     "metadata": {},
     "output_type": "execute_result"
    }
   ],
   "source": [
    "using LinearAlgebra\n",
    "A = rand(3, 3)"
   ]
  },
  {
   "cell_type": "code",
   "execution_count": 2,
   "id": "expressed-remark",
   "metadata": {},
   "outputs": [
    {
     "data": {
      "text/plain": [
       "3-element Vector{Int64}:\n",
       " 1\n",
       " 1\n",
       " 1"
      ]
     },
     "execution_count": 2,
     "metadata": {},
     "output_type": "execute_result"
    }
   ],
   "source": [
    "x = fill(1, (3,))"
   ]
  },
  {
   "cell_type": "code",
   "execution_count": 3,
   "id": "specialized-mentor",
   "metadata": {},
   "outputs": [
    {
     "data": {
      "text/plain": [
       "3-element Vector{Float64}:\n",
       " 1.5830758261194118\n",
       " 1.7007363670853206\n",
       " 1.3068324024890654"
      ]
     },
     "execution_count": 3,
     "metadata": {},
     "output_type": "execute_result"
    }
   ],
   "source": [
    "b = A * x"
   ]
  },
  {
   "cell_type": "markdown",
   "id": "directed-county",
   "metadata": {},
   "source": [
    "## Factorizations\n",
    "#### LU factorizations"
   ]
  },
  {
   "cell_type": "markdown",
   "id": "polyphonic-maintenance",
   "metadata": {},
   "source": [
    "In Julia we can perform an LU factorization\n",
    "```julia\n",
    "PA = LU\n",
    "```\n",
    "where `P` is a permutation matrix, `L` is lower triangular unit diagonal and `U` is upper\n",
    "triangular, using `lufact`.\n",
    "\n",
    "Julia allows computing the LU factorization and defines a composite factorization type for\n",
    "storing it."
   ]
  },
  {
   "cell_type": "code",
   "execution_count": 4,
   "id": "caroline-collectible",
   "metadata": {},
   "outputs": [
    {
     "data": {
      "text/plain": [
       "LU{Float64, Matrix{Float64}}\n",
       "L factor:\n",
       "3×3 Matrix{Float64}:\n",
       " 1.0       0.0       0.0\n",
       " 0.667912  1.0       0.0\n",
       " 0.893486  0.380681  1.0\n",
       "U factor:\n",
       "3×3 Matrix{Float64}:\n",
       " 0.781397  0.277215   0.642124\n",
       " 0.0       0.464465  -0.0173317\n",
       " 0.0       0.0       -0.382966"
      ]
     },
     "execution_count": 4,
     "metadata": {},
     "output_type": "execute_result"
    }
   ],
   "source": [
    "Alu = lu(A)"
   ]
  },
  {
   "cell_type": "code",
   "execution_count": 5,
   "id": "acceptable-reserve",
   "metadata": {},
   "outputs": [
    {
     "data": {
      "text/plain": [
       "LU{Float64, Matrix{Float64}}"
      ]
     },
     "execution_count": 5,
     "metadata": {},
     "output_type": "execute_result"
    }
   ],
   "source": [
    "typeof(Alu)"
   ]
  },
  {
   "cell_type": "markdown",
   "id": "hundred-proof",
   "metadata": {},
   "source": [
    "The different parts of the factorization can be extracted by accessing their special\n",
    "properties"
   ]
  },
  {
   "cell_type": "code",
   "execution_count": 6,
   "id": "abroad-significance",
   "metadata": {
    "scrolled": true
   },
   "outputs": [
    {
     "data": {
      "text/plain": [
       "3×3 Matrix{Float64}:\n",
       " 0.0  1.0  0.0\n",
       " 1.0  0.0  0.0\n",
       " 0.0  0.0  1.0"
      ]
     },
     "execution_count": 6,
     "metadata": {},
     "output_type": "execute_result"
    }
   ],
   "source": [
    "Alu.P"
   ]
  },
  {
   "cell_type": "code",
   "execution_count": 7,
   "id": "graphic-adjustment",
   "metadata": {},
   "outputs": [
    {
     "data": {
      "text/plain": [
       "3×3 Matrix{Float64}:\n",
       " 1.0       0.0       0.0\n",
       " 0.667912  1.0       0.0\n",
       " 0.893486  0.380681  1.0"
      ]
     },
     "execution_count": 7,
     "metadata": {},
     "output_type": "execute_result"
    }
   ],
   "source": [
    "Alu.L"
   ]
  },
  {
   "cell_type": "code",
   "execution_count": 8,
   "id": "conditional-color",
   "metadata": {},
   "outputs": [
    {
     "data": {
      "text/plain": [
       "3×3 Matrix{Float64}:\n",
       " 0.781397  0.277215   0.642124\n",
       " 0.0       0.464465  -0.0173317\n",
       " 0.0       0.0       -0.382966"
      ]
     },
     "execution_count": 8,
     "metadata": {},
     "output_type": "execute_result"
    }
   ],
   "source": [
    "Alu.U"
   ]
  },
  {
   "cell_type": "code",
   "execution_count": null,
   "id": "confused-pipeline",
   "metadata": {},
   "outputs": [],
   "source": [
    "Julia can dispatch methods on factorization objects.\n",
    "\n",
    "For example, we can solve the linear system using either the original matrix or the\n",
    "factorization object."
   ]
  },
  {
   "cell_type": "code",
   "execution_count": 9,
   "id": "informal-appendix",
   "metadata": {},
   "outputs": [
    {
     "data": {
      "text/plain": [
       "3-element Vector{Float64}:\n",
       " 1.0\n",
       " 1.0000000000000002\n",
       " 1.0"
      ]
     },
     "execution_count": 9,
     "metadata": {},
     "output_type": "execute_result"
    }
   ],
   "source": [
    "A\\b"
   ]
  },
  {
   "cell_type": "code",
   "execution_count": 10,
   "id": "unusual-theorem",
   "metadata": {
    "scrolled": true
   },
   "outputs": [
    {
     "data": {
      "text/plain": [
       "3-element Vector{Float64}:\n",
       " 1.0\n",
       " 1.0000000000000002\n",
       " 1.0"
      ]
     },
     "execution_count": 10,
     "metadata": {},
     "output_type": "execute_result"
    }
   ],
   "source": [
    "Alu\\b"
   ]
  },
  {
   "cell_type": "markdown",
   "id": "faced-barcelona",
   "metadata": {},
   "source": [
    "Similarly, we can calculate the determinant of `A` using either `A` or the factorization\n",
    "object"
   ]
  },
  {
   "cell_type": "code",
   "execution_count": 12,
   "id": "premium-infrastructure",
   "metadata": {},
   "outputs": [
    {
     "data": {
      "text/plain": [
       "true"
      ]
     },
     "execution_count": 12,
     "metadata": {},
     "output_type": "execute_result"
    }
   ],
   "source": [
    "det(A) ≈ det(Alu)"
   ]
  },
  {
   "cell_type": "markdown",
   "id": "distant-actress",
   "metadata": {},
   "source": [
    "## QR factorizations"
   ]
  },
  {
   "cell_type": "markdown",
   "id": "behavioral-parks",
   "metadata": {},
   "source": [
    "In Julia we can perform a QR factorization\n",
    "```\n",
    "A=QR\n",
    "```\n",
    "\n",
    "where `Q` is unitary/orthogonal and `R` is upper triangular, using `qrfact`."
   ]
  },
  {
   "cell_type": "code",
   "execution_count": 14,
   "id": "occupied-society",
   "metadata": {
    "scrolled": true
   },
   "outputs": [
    {
     "data": {
      "text/plain": [
       "LinearAlgebra.QRCompactWY{Float64, Matrix{Float64}}\n",
       "Q factor:\n",
       "3×3 LinearAlgebra.QRCompactWYQ{Float64, Matrix{Float64}}:\n",
       " -0.445828   0.8414     -0.305423\n",
       " -0.667494  -0.539844   -0.512854\n",
       " -0.596397  -0.0247767   0.802307\n",
       "R factor:\n",
       "3×3 Matrix{Float64}:\n",
       " -1.17064  -0.727828  -0.721931\n",
       "  0.0       0.38642   -0.00493079\n",
       "  0.0       0.0       -0.307256"
      ]
     },
     "execution_count": 14,
     "metadata": {},
     "output_type": "execute_result"
    }
   ],
   "source": [
    "Aqr = qr(A)"
   ]
  },
  {
   "cell_type": "markdown",
   "id": "owned-lingerie",
   "metadata": {},
   "source": [
    "Similarly to the LU factorization, the matrices `Q` and `R` can be extracted from the QR\n",
    "factorization object via"
   ]
  },
  {
   "cell_type": "code",
   "execution_count": 17,
   "id": "light-bridges",
   "metadata": {},
   "outputs": [
    {
     "data": {
      "text/plain": [
       "3×3 LinearAlgebra.QRCompactWYQ{Float64, Matrix{Float64}}:\n",
       " -0.445828   0.8414     -0.305423\n",
       " -0.667494  -0.539844   -0.512854\n",
       " -0.596397  -0.0247767   0.802307"
      ]
     },
     "execution_count": 17,
     "metadata": {},
     "output_type": "execute_result"
    }
   ],
   "source": [
    "Aqr.Q"
   ]
  },
  {
   "cell_type": "code",
   "execution_count": 16,
   "id": "instrumental-sensitivity",
   "metadata": {},
   "outputs": [
    {
     "data": {
      "text/plain": [
       "3×3 Matrix{Float64}:\n",
       " -1.17064  -0.727828  -0.721931\n",
       "  0.0       0.38642   -0.00493079\n",
       "  0.0       0.0       -0.307256"
      ]
     },
     "execution_count": 16,
     "metadata": {},
     "output_type": "execute_result"
    }
   ],
   "source": [
    "Aqr.R"
   ]
  },
  {
   "cell_type": "markdown",
   "id": "unlimited-champagne",
   "metadata": {},
   "source": [
    "## Eigendecompositions\n",
    "------------------------------------------------------------------------------------------\n",
    "The results from eigendecompositions, singular value decompositions, Hessenberg\n",
    "factorizations, and Schur decompositions are all stored in `Factorization` types.\n",
    "\n",
    "The eigendecomposition can be computed"
   ]
  },
  {
   "cell_type": "code",
   "execution_count": 19,
   "id": "authorized-destruction",
   "metadata": {
    "scrolled": true
   },
   "outputs": [
    {
     "data": {
      "text/plain": [
       "3×3 Matrix{Float64}:\n",
       " 1.04381  1.43102  1.10972\n",
       " 1.43102  0.55443  1.06662\n",
       " 1.10972  1.06662  0.368331"
      ]
     },
     "execution_count": 19,
     "metadata": {},
     "output_type": "execute_result"
    }
   ],
   "source": [
    "Asym = A + A'"
   ]
  },
  {
   "cell_type": "code",
   "execution_count": 20,
   "id": "blind-gibson",
   "metadata": {},
   "outputs": [
    {
     "data": {
      "text/plain": [
       "Eigen{Float64, Float64, Matrix{Float64}, Vector{Float64}}\n",
       "values:\n",
       "3-element Vector{Float64}:\n",
       " -0.6912970749772775\n",
       " -0.4538343500081906\n",
       "  3.111701252561132\n",
       "vectors:\n",
       "3×3 Matrix{Float64}:\n",
       "  0.449319  -0.603849   -0.658391\n",
       " -0.819911   0.0139278  -0.572322\n",
       "  0.354766   0.796977   -0.488844"
      ]
     },
     "execution_count": 20,
     "metadata": {},
     "output_type": "execute_result"
    }
   ],
   "source": [
    "AsymEig = eigen(Asym)"
   ]
  },
  {
   "cell_type": "markdown",
   "id": "complete-architect",
   "metadata": {},
   "source": [
    "The values and the vectors can be extracted from the Eigen type by special indexing"
   ]
  },
  {
   "cell_type": "code",
   "execution_count": 21,
   "id": "choice-isaac",
   "metadata": {},
   "outputs": [
    {
     "data": {
      "text/plain": [
       "3-element Vector{Float64}:\n",
       " -0.6912970749772775\n",
       " -0.4538343500081906\n",
       "  3.111701252561132"
      ]
     },
     "execution_count": 21,
     "metadata": {},
     "output_type": "execute_result"
    }
   ],
   "source": [
    "AsymEig.values"
   ]
  },
  {
   "cell_type": "code",
   "execution_count": 22,
   "id": "suburban-butterfly",
   "metadata": {
    "scrolled": true
   },
   "outputs": [
    {
     "data": {
      "text/plain": [
       "3×3 Matrix{Float64}:\n",
       "  0.449319  -0.603849   -0.658391\n",
       " -0.819911   0.0139278  -0.572322\n",
       "  0.354766   0.796977   -0.488844"
      ]
     },
     "execution_count": 22,
     "metadata": {},
     "output_type": "execute_result"
    }
   ],
   "source": [
    "AsymEig.vectors"
   ]
  },
  {
   "cell_type": "markdown",
   "id": "tamil-recipient",
   "metadata": {},
   "source": [
    "Once again, when the factorization is stored in a type, we can dispatch on it and write\n",
    "specialized methods that exploit the properties of the factorization, e.g. that\n",
    "$A^{-1}=(V\\Lambda V^{-1})^{-1}=V\\Lambda^{-1}V^{-1}$."
   ]
  },
  {
   "cell_type": "code",
   "execution_count": 23,
   "id": "prescribed-family",
   "metadata": {},
   "outputs": [
    {
     "data": {
      "text/plain": [
       "3×3 Matrix{Float64}:\n",
       "  1.0           1.22125e-15  1.44329e-15\n",
       "  4.44089e-16   1.0          5.82867e-16\n",
       " -4.44089e-16  -2.22045e-16  1.0"
      ]
     },
     "execution_count": 23,
     "metadata": {},
     "output_type": "execute_result"
    }
   ],
   "source": [
    "inv(AsymEig)*Asym"
   ]
  },
  {
   "cell_type": "markdown",
   "id": "least-applicant",
   "metadata": {},
   "source": [
    "## Special matrix structures\n",
    "Matrix structure is very important in linear algebra. To see *how* important it is, let's\n",
    "work with a larger linear system\n",
    "------------------------------------------------------------------------------------------"
   ]
  },
  {
   "cell_type": "code",
   "execution_count": 24,
   "id": "cheap-executive",
   "metadata": {},
   "outputs": [],
   "source": [
    "n = 1000\n",
    "A = randn(n,n);"
   ]
  },
  {
   "cell_type": "markdown",
   "id": "parliamentary-royalty",
   "metadata": {},
   "source": [
    "Julia can often infer special matrix structure"
   ]
  },
  {
   "cell_type": "code",
   "execution_count": 26,
   "id": "rolled-volleyball",
   "metadata": {
    "scrolled": true
   },
   "outputs": [
    {
     "data": {
      "text/plain": [
       "1000×1000 Matrix{Float64}:\n",
       "  0.212384    0.351992    0.740238  …   0.0710936   1.48039     0.0183181\n",
       "  0.351992    0.409664   -2.91203       0.786942   -2.29537     1.92755\n",
       "  0.740238   -2.91203    -1.01796       1.36935     2.12182     0.529441\n",
       "  1.03806     0.479584    0.86796       1.48758     1.81496     1.59836\n",
       "  0.0378875  -0.736518    0.94469       1.7791     -2.17086    -1.12327\n",
       "  1.25587    -0.162386   -0.10195   …   1.01989    -0.652687   -0.191295\n",
       "  1.17272     0.727657    0.880561     -1.98283    -1.36636    -0.00388742\n",
       " -1.52448    -0.565067   -2.04891       1.85992    -1.4926     -0.467734\n",
       "  0.124958    1.01075     0.133343     -0.311929   -2.00228     0.319393\n",
       " -1.22054    -0.37314     0.7127        0.223299   -3.08771    -1.52312\n",
       " -1.95505    -0.137799    1.15906   …  -0.117518    0.771952   -0.255924\n",
       " -0.248557   -1.28385     1.98864       0.12906    -0.844841   -1.56817\n",
       "  1.87215    -0.389776   -2.14782      -1.26624     1.6726     -1.1206\n",
       "  ⋮                                 ⋱                          \n",
       "  0.670077   -1.51237     0.27237       0.522934    0.557864   -0.859521\n",
       " -1.10695     1.05222    -2.24461      -2.72194     1.53584     0.764411\n",
       "  0.212788   -0.423968   -0.732108  …   1.37984    -2.06478    -1.10939\n",
       "  1.28775     0.426301    1.03495       0.649171   -2.74596    -1.55594\n",
       " -1.25373    -1.04569     0.904653     -0.114008   -0.292224    0.292776\n",
       " -0.463624   -1.7962     -2.45969       1.07404    -0.934792   -1.41743\n",
       " -1.42138     0.42805    -0.6175       -2.64643     1.23141     1.90458\n",
       " -0.290795   -0.0903703   0.243984  …  -2.33069     1.36145     1.81663\n",
       "  0.860246   -0.65387    -0.604051     -0.982339   -0.836067    0.650525\n",
       "  0.0710936   0.786942    1.36935       3.0014     -3.57992    -1.61444\n",
       "  1.48039    -2.29537     2.12182      -3.57992     0.0499711  -0.42726\n",
       "  0.0183181   1.92755     0.529441     -1.61444    -0.42726    -1.32101"
      ]
     },
     "execution_count": 26,
     "metadata": {},
     "output_type": "execute_result"
    }
   ],
   "source": [
    "Asym = A + A'"
   ]
  },
  {
   "cell_type": "code",
   "execution_count": 27,
   "id": "toxic-science",
   "metadata": {},
   "outputs": [
    {
     "data": {
      "text/plain": [
       "true"
      ]
     },
     "execution_count": 27,
     "metadata": {},
     "output_type": "execute_result"
    }
   ],
   "source": [
    "issymmetric(Asym)"
   ]
  },
  {
   "cell_type": "markdown",
   "id": "false-victim",
   "metadata": {},
   "source": [
    "but sometimes floating point error might get in the way."
   ]
  },
  {
   "cell_type": "code",
   "execution_count": 28,
   "id": "personalized-diameter",
   "metadata": {},
   "outputs": [
    {
     "data": {
      "text/plain": [
       "1000×1000 Matrix{Float64}:\n",
       "  0.212384    0.351992    0.740238  …   0.0710936   1.48039     0.0183181\n",
       "  0.351992    0.409664   -2.91203       0.786942   -2.29537     1.92755\n",
       "  0.740238   -2.91203    -1.01796       1.36935     2.12182     0.529441\n",
       "  1.03806     0.479584    0.86796       1.48758     1.81496     1.59836\n",
       "  0.0378875  -0.736518    0.94469       1.7791     -2.17086    -1.12327\n",
       "  1.25587    -0.162386   -0.10195   …   1.01989    -0.652687   -0.191295\n",
       "  1.17272     0.727657    0.880561     -1.98283    -1.36636    -0.00388742\n",
       " -1.52448    -0.565067   -2.04891       1.85992    -1.4926     -0.467734\n",
       "  0.124958    1.01075     0.133343     -0.311929   -2.00228     0.319393\n",
       " -1.22054    -0.37314     0.7127        0.223299   -3.08771    -1.52312\n",
       " -1.95505    -0.137799    1.15906   …  -0.117518    0.771952   -0.255924\n",
       " -0.248557   -1.28385     1.98864       0.12906    -0.844841   -1.56817\n",
       "  1.87215    -0.389776   -2.14782      -1.26624     1.6726     -1.1206\n",
       "  ⋮                                 ⋱                          \n",
       "  0.670077   -1.51237     0.27237       0.522934    0.557864   -0.859521\n",
       " -1.10695     1.05222    -2.24461      -2.72194     1.53584     0.764411\n",
       "  0.212788   -0.423968   -0.732108  …   1.37984    -2.06478    -1.10939\n",
       "  1.28775     0.426301    1.03495       0.649171   -2.74596    -1.55594\n",
       " -1.25373    -1.04569     0.904653     -0.114008   -0.292224    0.292776\n",
       " -0.463624   -1.7962     -2.45969       1.07404    -0.934792   -1.41743\n",
       " -1.42138     0.42805    -0.6175       -2.64643     1.23141     1.90458\n",
       " -0.290795   -0.0903703   0.243984  …  -2.33069     1.36145     1.81663\n",
       "  0.860246   -0.65387    -0.604051     -0.982339   -0.836067    0.650525\n",
       "  0.0710936   0.786942    1.36935       3.0014     -3.57992    -1.61444\n",
       "  1.48039    -2.29537     2.12182      -3.57992     0.0499711  -0.42726\n",
       "  0.0183181   1.92755     0.529441     -1.61444    -0.42726    -1.32101"
      ]
     },
     "execution_count": 28,
     "metadata": {},
     "output_type": "execute_result"
    }
   ],
   "source": [
    "Asym_noisy = copy(Asym)"
   ]
  },
  {
   "cell_type": "code",
   "execution_count": 29,
   "id": "comprehensive-productivity",
   "metadata": {
    "scrolled": true
   },
   "outputs": [
    {
     "data": {
      "text/plain": [
       "0.35199177188641184"
      ]
     },
     "execution_count": 29,
     "metadata": {},
     "output_type": "execute_result"
    }
   ],
   "source": [
    "Asym_noisy[1,2] += 5eps()"
   ]
  },
  {
   "cell_type": "code",
   "execution_count": 30,
   "id": "infrared-isolation",
   "metadata": {},
   "outputs": [
    {
     "data": {
      "text/plain": [
       "false"
      ]
     },
     "execution_count": 30,
     "metadata": {},
     "output_type": "execute_result"
    }
   ],
   "source": [
    "issymmetric(Asym_noisy)"
   ]
  },
  {
   "cell_type": "markdown",
   "id": "institutional-authority",
   "metadata": {},
   "source": [
    "Luckily we can declare structure explicitly with, for example, `Diagonal`, `Triangular`,\n",
    "`Symmetric`, `Hermitian`, `Tridiagonal` and `SymTridiagonal`."
   ]
  },
  {
   "cell_type": "code",
   "execution_count": 31,
   "id": "searching-uncle",
   "metadata": {},
   "outputs": [
    {
     "data": {
      "text/plain": [
       "1000×1000 Symmetric{Float64, Matrix{Float64}}:\n",
       "  0.212384    0.351992    0.740238  …   0.0710936   1.48039     0.0183181\n",
       "  0.351992    0.409664   -2.91203       0.786942   -2.29537     1.92755\n",
       "  0.740238   -2.91203    -1.01796       1.36935     2.12182     0.529441\n",
       "  1.03806     0.479584    0.86796       1.48758     1.81496     1.59836\n",
       "  0.0378875  -0.736518    0.94469       1.7791     -2.17086    -1.12327\n",
       "  1.25587    -0.162386   -0.10195   …   1.01989    -0.652687   -0.191295\n",
       "  1.17272     0.727657    0.880561     -1.98283    -1.36636    -0.00388742\n",
       " -1.52448    -0.565067   -2.04891       1.85992    -1.4926     -0.467734\n",
       "  0.124958    1.01075     0.133343     -0.311929   -2.00228     0.319393\n",
       " -1.22054    -0.37314     0.7127        0.223299   -3.08771    -1.52312\n",
       " -1.95505    -0.137799    1.15906   …  -0.117518    0.771952   -0.255924\n",
       " -0.248557   -1.28385     1.98864       0.12906    -0.844841   -1.56817\n",
       "  1.87215    -0.389776   -2.14782      -1.26624     1.6726     -1.1206\n",
       "  ⋮                                 ⋱                          \n",
       "  0.670077   -1.51237     0.27237       0.522934    0.557864   -0.859521\n",
       " -1.10695     1.05222    -2.24461      -2.72194     1.53584     0.764411\n",
       "  0.212788   -0.423968   -0.732108  …   1.37984    -2.06478    -1.10939\n",
       "  1.28775     0.426301    1.03495       0.649171   -2.74596    -1.55594\n",
       " -1.25373    -1.04569     0.904653     -0.114008   -0.292224    0.292776\n",
       " -0.463624   -1.7962     -2.45969       1.07404    -0.934792   -1.41743\n",
       " -1.42138     0.42805    -0.6175       -2.64643     1.23141     1.90458\n",
       " -0.290795   -0.0903703   0.243984  …  -2.33069     1.36145     1.81663\n",
       "  0.860246   -0.65387    -0.604051     -0.982339   -0.836067    0.650525\n",
       "  0.0710936   0.786942    1.36935       3.0014     -3.57992    -1.61444\n",
       "  1.48039    -2.29537     2.12182      -3.57992     0.0499711  -0.42726\n",
       "  0.0183181   1.92755     0.529441     -1.61444    -0.42726    -1.32101"
      ]
     },
     "execution_count": 31,
     "metadata": {},
     "output_type": "execute_result"
    }
   ],
   "source": [
    "Asym_explicit = Symmetric(Asym_noisy)"
   ]
  },
  {
   "cell_type": "markdown",
   "id": "global-phase",
   "metadata": {},
   "source": [
    "Let's compare how long it takes Julia to compute the eigenvalues of `Asym`, `Asym_noisy`,\n",
    "and `Asym_explicit`"
   ]
  },
  {
   "cell_type": "code",
   "execution_count": 32,
   "id": "matched-secretary",
   "metadata": {},
   "outputs": [
    {
     "name": "stdout",
     "output_type": "stream",
     "text": [
      "  0.326067 seconds (134.03 k allocations: 15.456 MiB, 41.88% compilation time)\n"
     ]
    },
    {
     "data": {
      "text/plain": [
       "1000-element Vector{Float64}:\n",
       " -89.08239816760975\n",
       " -87.71789666346558\n",
       " -87.16704542913939\n",
       " -86.6713967196414\n",
       " -86.43599600451695\n",
       " -85.51408407906422\n",
       " -85.1321253532146\n",
       " -84.63603190629436\n",
       " -84.28363415840535\n",
       " -83.67331117017142\n",
       " -83.60776969860707\n",
       " -83.06769461629374\n",
       " -82.33779479878274\n",
       "   ⋮\n",
       "  82.97968195613905\n",
       "  83.666849302901\n",
       "  83.78434331851602\n",
       "  84.43374314945719\n",
       "  84.64600744487545\n",
       "  85.20830653348904\n",
       "  85.6578712144852\n",
       "  86.41484890532566\n",
       "  86.72780306763015\n",
       "  87.80207521331461\n",
       "  87.95051255356664\n",
       "  89.87303025918587"
      ]
     },
     "execution_count": 32,
     "metadata": {},
     "output_type": "execute_result"
    }
   ],
   "source": [
    "@time eigvals(Asym)"
   ]
  },
  {
   "cell_type": "code",
   "execution_count": 33,
   "id": "cleared-sweden",
   "metadata": {},
   "outputs": [
    {
     "name": "stdout",
     "output_type": "stream",
     "text": [
      "  0.883573 seconds (13 allocations: 7.920 MiB)\n"
     ]
    },
    {
     "data": {
      "text/plain": [
       "1000-element Vector{Float64}:\n",
       " -89.08239816761083\n",
       " -87.71789666346635\n",
       " -87.16704542913895\n",
       " -86.67139671964144\n",
       " -86.43599600451796\n",
       " -85.5140840790638\n",
       " -85.1321253532153\n",
       " -84.63603190629485\n",
       " -84.28363415840582\n",
       " -83.67331117017129\n",
       " -83.60776969860694\n",
       " -83.06769461629386\n",
       " -82.33779479878315\n",
       "   ⋮\n",
       "  82.97968195613969\n",
       "  83.66684930290093\n",
       "  83.78434331851591\n",
       "  84.43374314945773\n",
       "  84.64600744487518\n",
       "  85.20830653348948\n",
       "  85.657871214485\n",
       "  86.4148489053254\n",
       "  86.72780306762994\n",
       "  87.80207521331525\n",
       "  87.95051255356594\n",
       "  89.87303025918762"
      ]
     },
     "execution_count": 33,
     "metadata": {},
     "output_type": "execute_result"
    }
   ],
   "source": [
    "@time eigvals(Asym_noisy)"
   ]
  },
  {
   "cell_type": "code",
   "execution_count": 34,
   "id": "sharing-grade",
   "metadata": {
    "scrolled": true
   },
   "outputs": [
    {
     "name": "stdout",
     "output_type": "stream",
     "text": [
      "  0.234086 seconds (4.90 k allocations: 8.283 MiB, 2.22% compilation time)\n"
     ]
    },
    {
     "data": {
      "text/plain": [
       "1000-element Vector{Float64}:\n",
       " -89.08239816760923\n",
       " -87.71789666346619\n",
       " -87.16704542913935\n",
       " -86.67139671964149\n",
       " -86.4359960045168\n",
       " -85.51408407906446\n",
       " -85.1321253532148\n",
       " -84.6360319062945\n",
       " -84.2836341584055\n",
       " -83.67331117017167\n",
       " -83.60776969860707\n",
       " -83.06769461629354\n",
       " -82.33779479878335\n",
       "   ⋮\n",
       "  82.97968195613926\n",
       "  83.66684930290101\n",
       "  83.78434331851628\n",
       "  84.43374314945707\n",
       "  84.64600744487558\n",
       "  85.20830653348878\n",
       "  85.65787121448469\n",
       "  86.41484890532602\n",
       "  86.72780306763055\n",
       "  87.80207521331427\n",
       "  87.95051255356695\n",
       "  89.87303025918564"
      ]
     },
     "execution_count": 34,
     "metadata": {},
     "output_type": "execute_result"
    }
   ],
   "source": [
    "@time eigvals(Asym_explicit)"
   ]
  },
  {
   "cell_type": "markdown",
   "id": "optional-capability",
   "metadata": {},
   "source": [
    "In this example, using `Symmetric()` on `Asym_noisy` made our calculations about `5x` more\n",
    "efficient :)"
   ]
  },
  {
   "cell_type": "markdown",
   "id": "interim-grill",
   "metadata": {},
   "source": [
    "### A big problem\n",
    "Using the `Tridiagonal` and `SymTridiagonal` types to store tridiagonal matrices makes it\n",
    "possible to work with potentially very large tridiagonal problems. The following problem\n",
    "would not be possible to solve on a laptop if the matrix had to be stored as a (dense)\n",
    "`Matrix` type."
   ]
  },
  {
   "cell_type": "code",
   "execution_count": 36,
   "id": "written-balloon",
   "metadata": {},
   "outputs": [
    {
     "name": "stdout",
     "output_type": "stream",
     "text": [
      "  0.749370 seconds (828.32 k allocations: 229.665 MiB, 8.11% gc time, 32.48% compilation time)\n"
     ]
    },
    {
     "data": {
      "text/plain": [
       "6.489499767586157"
      ]
     },
     "execution_count": 36,
     "metadata": {},
     "output_type": "execute_result"
    }
   ],
   "source": [
    "n = 1_000_000;\n",
    "A = SymTridiagonal(randn(n), randn(n-1));\n",
    "@time eigmax(A)"
   ]
  },
  {
   "cell_type": "markdown",
   "id": "expired-circular",
   "metadata": {},
   "source": [
    "------------------------------------------------------------------------------------------\n",
    "## Generic linear algebra\n",
    "The usual way of adding support for numerical linear algebra is by wrapping BLAS and\n",
    "LAPACK subroutines. For matrices with elements of `Float32`, `Float64`, `Complex{Float32}`\n",
    "or `Complex{Float64}` this is also what Julia does.\n",
    "\n",
    "However, Julia also supports generic linear algebra, allowing you to, for example, work\n",
    "with matrices and vectors of rational numbers.\n",
    "------------------------------------------------------------------------------------------"
   ]
  },
  {
   "cell_type": "markdown",
   "id": "median-melbourne",
   "metadata": {},
   "source": [
    "## Rational numbers\n",
    "Julia has rational numbers built in. To construct a rational number, use double forward\n",
    "slashes:"
   ]
  },
  {
   "cell_type": "code",
   "execution_count": 38,
   "id": "recent-strip",
   "metadata": {
    "scrolled": true
   },
   "outputs": [
    {
     "data": {
      "text/plain": [
       "1//2"
      ]
     },
     "execution_count": 38,
     "metadata": {},
     "output_type": "execute_result"
    }
   ],
   "source": [
    "1//2"
   ]
  },
  {
   "cell_type": "markdown",
   "id": "dedicated-solution",
   "metadata": {},
   "source": [
    "### Example: Rational linear system of equations\n",
    "The following example shows how linear system of equations with rational elements can be\n",
    "solved without promoting to floating point element types. Overflow can easily become a\n",
    "problem when working with rational numbers so we use `BigInt`s.\n",
    "------------------------------------------------------------------------------------------"
   ]
  },
  {
   "cell_type": "code",
   "execution_count": 39,
   "id": "administrative-muslim",
   "metadata": {},
   "outputs": [
    {
     "data": {
      "text/plain": [
       "3×3 Matrix{Rational{BigInt}}:\n",
       " 3//10  9//10  4//5\n",
       " 4//5   1//1   1//10\n",
       " 2//5   3//5   7//10"
      ]
     },
     "execution_count": 39,
     "metadata": {},
     "output_type": "execute_result"
    }
   ],
   "source": [
    "Arational = Matrix{Rational{BigInt}}(rand(1:10, 3, 3))/10"
   ]
  },
  {
   "cell_type": "code",
   "execution_count": 40,
   "id": "duplicate-portable",
   "metadata": {},
   "outputs": [
    {
     "data": {
      "text/plain": [
       "3-element Vector{Int64}:\n",
       " 1\n",
       " 1\n",
       " 1"
      ]
     },
     "execution_count": 40,
     "metadata": {},
     "output_type": "execute_result"
    }
   ],
   "source": [
    "x = fill(1, 3)"
   ]
  },
  {
   "cell_type": "code",
   "execution_count": 41,
   "id": "interested-treatment",
   "metadata": {},
   "outputs": [
    {
     "data": {
      "text/plain": [
       "3-element Vector{Rational{BigInt}}:\n",
       "  2//1\n",
       " 19//10\n",
       " 17//10"
      ]
     },
     "execution_count": 41,
     "metadata": {},
     "output_type": "execute_result"
    }
   ],
   "source": [
    "b = Arational*x"
   ]
  },
  {
   "cell_type": "code",
   "execution_count": 42,
   "id": "thermal-vampire",
   "metadata": {},
   "outputs": [
    {
     "data": {
      "text/plain": [
       "3-element Vector{Rational{BigInt}}:\n",
       " 1//1\n",
       " 1//1\n",
       " 1//1"
      ]
     },
     "execution_count": 42,
     "metadata": {},
     "output_type": "execute_result"
    }
   ],
   "source": [
    "Arational\\b"
   ]
  },
  {
   "cell_type": "code",
   "execution_count": 43,
   "id": "muslim-kitchen",
   "metadata": {
    "scrolled": true
   },
   "outputs": [
    {
     "data": {
      "text/plain": [
       "LU{Rational{BigInt}, Matrix{Rational{BigInt}}}\n",
       "L factor:\n",
       "3×3 Matrix{Rational{BigInt}}:\n",
       " 1//1  0//1   0//1\n",
       " 3//8  1//1   0//1\n",
       " 1//2  4//21  1//1\n",
       "U factor:\n",
       "3×3 Matrix{Rational{BigInt}}:\n",
       " 4//5   1//1    1//10\n",
       " 0//1  21//40  61//80\n",
       " 0//1   0//1   53//105"
      ]
     },
     "execution_count": 43,
     "metadata": {},
     "output_type": "execute_result"
    }
   ],
   "source": [
    "lu(Arational)"
   ]
  },
  {
   "cell_type": "markdown",
   "id": "brazilian-ladder",
   "metadata": {},
   "source": [
    "\n",
    "### Exercises\n",
    "\n",
    "#### 11.1\n",
    "What are the eigenvalues of matrix A?\n",
    "\n",
    "```\n",
    "A =\n",
    "[\n",
    " 140   97   74  168  131\n",
    "  97  106   89  131   36\n",
    "  74   89  152  144   71\n",
    " 168  131  144   54  142\n",
    " 131   36   71  142   36\n",
    "]\n",
    "```\n",
    "and assign it a variable `A_eigv`\n"
   ]
  },
  {
   "cell_type": "code",
   "execution_count": null,
   "id": "unavailable-novel",
   "metadata": {},
   "outputs": [],
   "source": [
    "using LinearAlgebra\n",
    "\n",
    "\n",
    "\n",
    "@assert A_eigv ==  [-128.49322764802145, -55.887784553056875, 42.7521672793189, 87.16111477514521, 542.4677301466143]\n",
    "Un-comment this code to run it locally. "
   ]
  },
  {
   "cell_type": "markdown",
   "id": "accurate-electronics",
   "metadata": {},
   "source": [
    "#### 11.2\n",
    "\n",
    "Create a `Diagonal` matrix from the eigenvalues of `A`."
   ]
  },
  {
   "cell_type": "code",
   "execution_count": null,
   "id": "informed-hayes",
   "metadata": {},
   "outputs": [],
   "source": [
    "@assert A_diag ==  [-128.493    0.0      0.0      0.0       0.0;\n",
    "    0.0    -55.8878   0.0      0.0       0.0;\n",
    "    0.0      0.0     42.7522   0.0       0.0;\n",
    "    0.0      0.0      0.0     87.1611    0.0;\n",
    "    0.0 0.0      0.0      0.0     542.468]"
   ]
  },
  {
   "cell_type": "markdown",
   "id": "exceptional-prayer",
   "metadata": {},
   "source": [
    "#### 11.3\n",
    "Create a `LowerTriangular` matrix from `A` and store it in `A_lowertri`"
   ]
  },
  {
   "cell_type": "code",
   "execution_count": 44,
   "id": "injured-scholar",
   "metadata": {},
   "outputs": [
    {
     "ename": "LoadError",
     "evalue": "UndefVarError: A_lowertri not defined",
     "output_type": "error",
     "traceback": [
      "UndefVarError: A_lowertri not defined",
      "",
      "Stacktrace:",
      " [1] top-level scope",
      "   @ In[44]:1",
      " [2] eval",
      "   @ .\\boot.jl:360 [inlined]",
      " [3] include_string(mapexpr::typeof(REPL.softscope), mod::Module, code::String, filename::String)",
      "   @ Base .\\loading.jl:1094"
     ]
    }
   ],
   "source": [
    "@assert A_lowertri ==  [140    0    0    0   0;\n",
    " 97  106    0    0   0;\n",
    " 74   89  152    0   0;\n",
    "168  131  144   54   0;\n",
    "131   36   71  142  36]"
   ]
  },
  {
   "cell_type": "code",
   "execution_count": null,
   "id": "superb-triumph",
   "metadata": {},
   "outputs": [],
   "source": []
  }
 ],
 "metadata": {
  "kernelspec": {
   "display_name": "Julia 1.6.0",
   "language": "julia",
   "name": "julia-1.6"
  },
  "language_info": {
   "file_extension": ".jl",
   "mimetype": "application/julia",
   "name": "julia",
   "version": "1.6.0"
  }
 },
 "nbformat": 4,
 "nbformat_minor": 5
}

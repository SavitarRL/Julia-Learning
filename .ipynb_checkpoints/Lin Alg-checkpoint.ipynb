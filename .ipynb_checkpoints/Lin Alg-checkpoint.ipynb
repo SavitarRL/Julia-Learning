{
 "cells": [
  {
   "cell_type": "markdown",
   "id": "sweet-paradise",
   "metadata": {},
   "source": [
    "------------------------------------------------------------------------------------------\n",
    "# Basic linear algebra in Julia\n",
    "Author: Andreas Noack Jensen (MIT) (http://www.econ.ku.dk/phdstudent/noack/)\n",
    "(with edits from Jane Herriman)\n",
    "------------------------------------------------------------------------------------------"
   ]
  },
  {
   "cell_type": "markdown",
   "id": "rational-november",
   "metadata": {},
   "source": [
    "## First let's define a random matrix"
   ]
  },
  {
   "cell_type": "code",
   "execution_count": 1,
   "id": "biological-width",
   "metadata": {
    "scrolled": false
   },
   "outputs": [
    {
     "data": {
      "text/plain": [
       "3×3 Matrix{Int64}:\n",
       " 1  3  2\n",
       " 1  3  4\n",
       " 1  4  1"
      ]
     },
     "execution_count": 1,
     "metadata": {},
     "output_type": "execute_result"
    }
   ],
   "source": [
    "A = rand(1:4,3,3)"
   ]
  },
  {
   "cell_type": "markdown",
   "id": "reverse-cambridge",
   "metadata": {},
   "source": [
    "## Define a vector of ones"
   ]
  },
  {
   "cell_type": "code",
   "execution_count": 3,
   "id": "amended-fourth",
   "metadata": {},
   "outputs": [
    {
     "data": {
      "text/plain": [
       "3-element Vector{Float64}:\n",
       " 1.0\n",
       " 1.0\n",
       " 1.0"
      ]
     },
     "execution_count": 3,
     "metadata": {},
     "output_type": "execute_result"
    }
   ],
   "source": [
    "x1 = fill(1.0, (3,)) # = fill(1.0, 3)"
   ]
  },
  {
   "cell_type": "code",
   "execution_count": 5,
   "id": "played-modification",
   "metadata": {
    "scrolled": true
   },
   "outputs": [
    {
     "data": {
      "text/plain": [
       "3-element Vector{Float64}:\n",
       " 1.0\n",
       " 1.0\n",
       " 1.0"
      ]
     },
     "execution_count": 5,
     "metadata": {},
     "output_type": "execute_result"
    }
   ],
   "source": [
    "x2 = fill(1.0, 3)"
   ]
  },
  {
   "cell_type": "markdown",
   "id": "catholic-anaheim",
   "metadata": {},
   "source": [
    "------------------------------------------------------------------------------------------\n",
    "Notice that $A$ has type Array{Int64,2} but $x$ has type Array{Float64,1}. Julia defines\n",
    "the aliases Vector{Type}=Array{Type,1} and Matrix{Type}=Array{Type,2}.\n",
    "\n",
    "Many of the basic operations are the same as in other languages"
   ]
  },
  {
   "cell_type": "markdown",
   "id": "atlantic-librarian",
   "metadata": {},
   "source": [
    "## Multiplication"
   ]
  },
  {
   "cell_type": "code",
   "execution_count": 6,
   "id": "horizontal-easter",
   "metadata": {
    "scrolled": true
   },
   "outputs": [
    {
     "data": {
      "text/plain": [
       "3-element Vector{Float64}:\n",
       " 6.0\n",
       " 8.0\n",
       " 6.0"
      ]
     },
     "execution_count": 6,
     "metadata": {},
     "output_type": "execute_result"
    }
   ],
   "source": [
    "b = A*x"
   ]
  },
  {
   "cell_type": "markdown",
   "id": "toxic-owner",
   "metadata": {},
   "source": [
    "## Transposition\n",
    " As in other languages `A'` is the conjugate transpose, or adjoint"
   ]
  },
  {
   "cell_type": "code",
   "execution_count": 7,
   "id": "juvenile-navigation",
   "metadata": {
    "scrolled": false
   },
   "outputs": [
    {
     "data": {
      "text/plain": [
       "3×3 adjoint(::Matrix{Int64}) with eltype Int64:\n",
       " 1  1  1\n",
       " 3  3  4\n",
       " 2  4  1"
      ]
     },
     "execution_count": 7,
     "metadata": {},
     "output_type": "execute_result"
    }
   ],
   "source": [
    "A'"
   ]
  },
  {
   "cell_type": "markdown",
   "id": "emotional-gnome",
   "metadata": {},
   "source": [
    "and we can get the transpose with"
   ]
  },
  {
   "cell_type": "code",
   "execution_count": null,
   "id": "referenced-layer",
   "metadata": {},
   "outputs": [],
   "source": [
    "transpose(A)"
   ]
  },
  {
   "cell_type": "markdown",
   "id": "sudden-minority",
   "metadata": {},
   "source": [
    "## Transposed multiplication"
   ]
  },
  {
   "cell_type": "code",
   "execution_count": 8,
   "id": "square-translation",
   "metadata": {
    "scrolled": true
   },
   "outputs": [
    {
     "data": {
      "text/plain": [
       "3×3 Matrix{Int64}:\n",
       "  3  10   7\n",
       " 10  34  22\n",
       "  7  22  21"
      ]
     },
     "execution_count": 8,
     "metadata": {},
     "output_type": "execute_result"
    }
   ],
   "source": [
    "A'A # Julia allows us to write this without *"
   ]
  },
  {
   "cell_type": "markdown",
   "id": "involved-provincial",
   "metadata": {},
   "source": [
    "## Solving linear systems\n",
    " The problem $Ax=b$ for ***square*** $A$ is solved by the \\ function."
   ]
  },
  {
   "cell_type": "code",
   "execution_count": 9,
   "id": "preliminary-channel",
   "metadata": {},
   "outputs": [
    {
     "data": {
      "text/plain": [
       "3-element Vector{Float64}:\n",
       " 1.0\n",
       " 1.0\n",
       " 1.0"
      ]
     },
     "execution_count": 9,
     "metadata": {},
     "output_type": "execute_result"
    }
   ],
   "source": [
    "A\\b"
   ]
  },
  {
   "cell_type": "markdown",
   "id": "split-memory",
   "metadata": {},
   "source": [
    "`A\\b` gives us the *least squares solution* if we have an overdetermined linear system (a\n",
    " \"tall\" matrix)"
   ]
  },
  {
   "cell_type": "code",
   "execution_count": 10,
   "id": "built-lying",
   "metadata": {},
   "outputs": [
    {
     "data": {
      "text/plain": [
       "3×2 Matrix{Float64}:\n",
       " 0.913517   0.224794\n",
       " 0.690732   0.230252\n",
       " 0.0988791  0.820706"
      ]
     },
     "execution_count": 10,
     "metadata": {},
     "output_type": "execute_result"
    }
   ],
   "source": [
    "Atall = rand(3, 2)"
   ]
  },
  {
   "cell_type": "code",
   "execution_count": 11,
   "id": "identified-turner",
   "metadata": {},
   "outputs": [
    {
     "data": {
      "text/plain": [
       "2-element Vector{Float64}:\n",
       " 6.517720915892222\n",
       " 6.705734628885539"
      ]
     },
     "execution_count": 11,
     "metadata": {},
     "output_type": "execute_result"
    }
   ],
   "source": [
    "Atall\\b"
   ]
  },
  {
   "cell_type": "markdown",
   "id": "friendly-stream",
   "metadata": {},
   "source": [
    "and the *minimum norm least squares solution* if we have a rank-deficient least squares\n",
    "problem"
   ]
  },
  {
   "cell_type": "code",
   "execution_count": 12,
   "id": "lasting-salon",
   "metadata": {
    "scrolled": true
   },
   "outputs": [
    {
     "data": {
      "text/plain": [
       "3-element Vector{Float64}:\n",
       " 0.9864489676850632\n",
       " 0.5179746434018455\n",
       " 0.8960095797350995"
      ]
     },
     "execution_count": 12,
     "metadata": {},
     "output_type": "execute_result"
    }
   ],
   "source": [
    "v = rand(3)"
   ]
  },
  {
   "cell_type": "code",
   "execution_count": 13,
   "id": "tropical-uruguay",
   "metadata": {},
   "outputs": [
    {
     "data": {
      "text/plain": [
       "3×2 Matrix{Float64}:\n",
       " 0.986449  0.986449\n",
       " 0.517975  0.517975\n",
       " 0.89601   0.89601"
      ]
     },
     "execution_count": 13,
     "metadata": {},
     "output_type": "execute_result"
    }
   ],
   "source": [
    "rankdef = hcat(v, v)"
   ]
  },
  {
   "cell_type": "code",
   "execution_count": 14,
   "id": "electronic-representative",
   "metadata": {},
   "outputs": [
    {
     "data": {
      "text/plain": [
       "2-element Vector{Float64}:\n",
       " 3.776160429354375\n",
       " 3.7761604293543747"
      ]
     },
     "execution_count": 14,
     "metadata": {},
     "output_type": "execute_result"
    }
   ],
   "source": [
    "rankdef\\b"
   ]
  },
  {
   "cell_type": "markdown",
   "id": "meaning-withdrawal",
   "metadata": {},
   "source": [
    "Julia also gives us the minimum norm solution when we have an underdetermined solution (a\n",
    "\"short\" matrix)"
   ]
  },
  {
   "cell_type": "code",
   "execution_count": 15,
   "id": "preliminary-claim",
   "metadata": {
    "scrolled": true
   },
   "outputs": [
    {
     "data": {
      "text/plain": [
       "2-element Vector{Float64}:\n",
       " 0.10050087312600797\n",
       " 0.3624661612660316"
      ]
     },
     "execution_count": 15,
     "metadata": {},
     "output_type": "execute_result"
    }
   ],
   "source": [
    "bshort = rand(2)"
   ]
  },
  {
   "cell_type": "code",
   "execution_count": 16,
   "id": "registered-radiation",
   "metadata": {},
   "outputs": [
    {
     "data": {
      "text/plain": [
       "2×3 Matrix{Float64}:\n",
       " 0.778139  0.0892096  0.696964\n",
       " 0.181262  0.128282   0.197936"
      ]
     },
     "execution_count": 16,
     "metadata": {},
     "output_type": "execute_result"
    }
   ],
   "source": [
    "Ashort = rand(2, 3)"
   ]
  },
  {
   "cell_type": "code",
   "execution_count": 17,
   "id": "regulation-sullivan",
   "metadata": {},
   "outputs": [
    {
     "data": {
      "text/plain": [
       "3-element Vector{Float64}:\n",
       " -0.6250279651475397\n",
       "  3.0024632178194333\n",
       "  0.4577154879078441"
      ]
     },
     "execution_count": 17,
     "metadata": {},
     "output_type": "execute_result"
    }
   ],
   "source": [
    "Ashort\\bshort"
   ]
  },
  {
   "cell_type": "markdown",
   "id": "commercial-metallic",
   "metadata": {},
   "source": [
    "## The LinearAlgebra library\n",
    "\n",
    "While much of linear algebra is available in Julia by default (as shown above), there's a\n",
    "standard library named `LinearAlgebra` that brings in many more relevant names and\n",
    "functions. In particular, it provides factorizations and some structured matrix types.  As\n",
    "with all packages, you can bring these additional features into your session with a `using\n",
    "LinearAlgebra`."
   ]
  },
  {
   "cell_type": "markdown",
   "id": "sharp-checkout",
   "metadata": {},
   "source": [
    "## Exercises\n",
    "\n",
    "#### 10.1\n",
    "Take the inner product (or \"dot\" product) of a vector `v` with itself and assign it to\n",
    "variable `dot_v`."
   ]
  },
  {
   "cell_type": "code",
   "execution_count": 18,
   "id": "hundred-fundamentals",
   "metadata": {},
   "outputs": [
    {
     "data": {
      "text/plain": [
       "3-element Vector{Int64}:\n",
       " 2\n",
       " 4\n",
       " 6"
      ]
     },
     "execution_count": 18,
     "metadata": {},
     "output_type": "execute_result"
    }
   ],
   "source": [
    "v = [1,2,3]\n",
    "dot_v = v .+ v"
   ]
  },
  {
   "cell_type": "code",
   "execution_count": 19,
   "id": "immune-blood",
   "metadata": {
    "scrolled": true
   },
   "outputs": [
    {
     "ename": "LoadError",
     "evalue": "AssertionError: dot_v == 14",
     "output_type": "error",
     "traceback": [
      "AssertionError: dot_v == 14",
      "",
      "Stacktrace:",
      " [1] top-level scope",
      "   @ In[19]:1",
      " [2] eval",
      "   @ .\\boot.jl:360 [inlined]",
      " [3] include_string(mapexpr::typeof(REPL.softscope), mod::Module, code::String, filename::String)",
      "   @ Base .\\loading.jl:1094"
     ]
    }
   ],
   "source": [
    "@assert dot_v == 14"
   ]
  },
  {
   "cell_type": "markdown",
   "id": "bulgarian-affect",
   "metadata": {},
   "source": [
    "#### 10.2\n",
    "Take the outer product of a vector v with itself and assign it to variable `outer_v`"
   ]
  },
  {
   "cell_type": "code",
   "execution_count": null,
   "id": "separated-windows",
   "metadata": {},
   "outputs": [],
   "source": [
    "@assert outer_v == [1 2 3\n",
    "                    2 4 6\n",
    "                    3 6 9]"
   ]
  },
  {
   "cell_type": "code",
   "execution_count": null,
   "id": "threatened-kruger",
   "metadata": {},
   "outputs": [],
   "source": [
    "@assert cross_v == [0, 0, 0] \n",
    "println(\"Everything worked as expected. As previously noted, if you want to see the output of a paticular operation, add println() around that part of the code.\")"
   ]
  }
 ],
 "metadata": {
  "kernelspec": {
   "display_name": "Julia 1.6.0",
   "language": "julia",
   "name": "julia-1.6"
  },
  "language_info": {
   "file_extension": ".jl",
   "mimetype": "application/julia",
   "name": "julia",
   "version": "1.6.0"
  }
 },
 "nbformat": 4,
 "nbformat_minor": 5
}

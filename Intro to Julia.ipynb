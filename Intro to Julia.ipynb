{
 "cells": [
  {
   "cell_type": "markdown",
   "id": "portuguese-egyptian",
   "metadata": {},
   "source": [
    " https://juliaacademy.com/\n",
    " \n",
    " ## Advanced Topics"
   ]
  },
  {
   "cell_type": "markdown",
   "id": "monetary-conservation",
   "metadata": {},
   "source": [
    "### Multiple Dispatch"
   ]
  },
  {
   "cell_type": "code",
   "execution_count": 1,
   "id": "jewish-trunk",
   "metadata": {},
   "outputs": [
    {
     "data": {
      "text/html": [
       "# 190 methods for generic function <b>+</b>:<ul><li> +(x::<b>T</b>, y::<b>T</b>)<i> where T<:Union{Int128, Int16, Int32, Int64, Int8, UInt128, UInt16, UInt32, UInt64, UInt8}</i> in Base at <a href=\"https://github.com/JuliaLang/julia/tree/f9720dc2ebd6cd9e3086365f281e62506444ef37/base/int.jl#L87\" target=\"_blank\">int.jl:87</a></li> <li> +(c::<b>Union{UInt16, UInt32, UInt8}</b>, x::<b>BigInt</b>) in Base.GMP at <a href=\"https://github.com/JuliaLang/julia/tree/f9720dc2ebd6cd9e3086365f281e62506444ef37/base/gmp.jl#L528\" target=\"_blank\">gmp.jl:528</a></li> <li> +(c::<b>Union{Int16, Int32, Int8}</b>, x::<b>BigInt</b>) in Base.GMP at <a href=\"https://github.com/JuliaLang/julia/tree/f9720dc2ebd6cd9e3086365f281e62506444ef37/base/gmp.jl#L534\" target=\"_blank\">gmp.jl:534</a></li> <li> +(c::<b>Union{UInt16, UInt32, UInt8}</b>, x::<b>BigFloat</b>) in Base.MPFR at <a href=\"https://github.com/JuliaLang/julia/tree/f9720dc2ebd6cd9e3086365f281e62506444ef37/base/mpfr.jl#L376\" target=\"_blank\">mpfr.jl:376</a></li> <li> +(c::<b>Union{Int16, Int32, Int8}</b>, x::<b>BigFloat</b>) in Base.MPFR at <a href=\"https://github.com/JuliaLang/julia/tree/f9720dc2ebd6cd9e3086365f281e62506444ef37/base/mpfr.jl#L384\" target=\"_blank\">mpfr.jl:384</a></li> <li> +(c::<b>Union{Float16, Float32, Float64}</b>, x::<b>BigFloat</b>) in Base.MPFR at <a href=\"https://github.com/JuliaLang/julia/tree/f9720dc2ebd6cd9e3086365f281e62506444ef37/base/mpfr.jl#L392\" target=\"_blank\">mpfr.jl:392</a></li> <li> +(x::<b>Union{Dates.CompoundPeriod, Dates.Period}</b>) in Dates at <a href=\"file://C:/buildbot/worker/package_win64/build/usr/share/julia/stdlib/v1.6/Dates/src/periods.jl\" target=\"_blank\">C:\\Users\\Ryan\\AppData\\Local\\Programs\\Julia-1.6.0\\share\\julia\\stdlib\\v1.6\\Dates\\src\\periods.jl:362</a></li> <li> +(A::<b>LinearAlgebra.UnitLowerTriangular</b>, B::<b>LinearAlgebra.LowerTriangular</b>) in LinearAlgebra at <a href=\"file://C:/buildbot/worker/package_win64/build/usr/share/julia/stdlib/v1.6/LinearAlgebra/src/triangular.jl\" target=\"_blank\">C:\\Users\\Ryan\\AppData\\Local\\Programs\\Julia-1.6.0\\share\\julia\\stdlib\\v1.6\\LinearAlgebra\\src\\triangular.jl:653</a></li> <li> +(A::<b>LinearAlgebra.UnitLowerTriangular</b>, B::<b>LinearAlgebra.UnitLowerTriangular</b>) in LinearAlgebra at <a href=\"file://C:/buildbot/worker/package_win64/build/usr/share/julia/stdlib/v1.6/LinearAlgebra/src/triangular.jl\" target=\"_blank\">C:\\Users\\Ryan\\AppData\\Local\\Programs\\Julia-1.6.0\\share\\julia\\stdlib\\v1.6\\LinearAlgebra\\src\\triangular.jl:655</a></li> <li> +(UL::<b>LinearAlgebra.UnitLowerTriangular</b>, J::<b>LinearAlgebra.UniformScaling</b>) in LinearAlgebra at <a href=\"file://C:/buildbot/worker/package_win64/build/usr/share/julia/stdlib/v1.6/LinearAlgebra/src/uniformscaling.jl\" target=\"_blank\">C:\\Users\\Ryan\\AppData\\Local\\Programs\\Julia-1.6.0\\share\\julia\\stdlib\\v1.6\\LinearAlgebra\\src\\uniformscaling.jl:182</a></li> <li> +(A::<b>LinearAlgebra.UnitLowerTriangular</b>, B::<b>LinearAlgebra.Bidiagonal</b>) in LinearAlgebra at <a href=\"file://C:/buildbot/worker/package_win64/build/usr/share/julia/stdlib/v1.6/LinearAlgebra/src/special.jl\" target=\"_blank\">C:\\Users\\Ryan\\AppData\\Local\\Programs\\Julia-1.6.0\\share\\julia\\stdlib\\v1.6\\LinearAlgebra\\src\\special.jl:86</a></li> <li> +(r1::<b>StepRangeLen{T, R, S} where S</b>, r2::<b>StepRangeLen{T, R, S} where S</b>)<i> where {R<:Base.TwicePrecision, T}</i> in Base at <a href=\"https://github.com/JuliaLang/julia/tree/f9720dc2ebd6cd9e3086365f281e62506444ef37/base/twiceprecision.jl#L574\" target=\"_blank\">twiceprecision.jl:574</a></li> <li> +(r1::<b>StepRangeLen{T, S, S1} where S1</b>, r2::<b>StepRangeLen{T, S, S1} where S1</b>)<i> where {T, S}</i> in Base at <a href=\"https://github.com/JuliaLang/julia/tree/f9720dc2ebd6cd9e3086365f281e62506444ef37/base/range.jl#L1124\" target=\"_blank\">range.jl:1124</a></li> <li> +(x::<b>Rational</b>, y::<b>Integer</b>) in Base at <a href=\"https://github.com/JuliaLang/julia/tree/f9720dc2ebd6cd9e3086365f281e62506444ef37/base/rational.jl#L288\" target=\"_blank\">rational.jl:288</a></li> <li> +(x::<b>Base.TwicePrecision</b>, y::<b>Number</b>) in Base at <a href=\"https://github.com/JuliaLang/julia/tree/f9720dc2ebd6cd9e3086365f281e62506444ef37/base/twiceprecision.jl#L267\" target=\"_blank\">twiceprecision.jl:267</a></li> <li> +(x::<b>Base.TwicePrecision{T}</b>, y::<b>Base.TwicePrecision{T}</b>)<i> where T</i> in Base at <a href=\"https://github.com/JuliaLang/julia/tree/f9720dc2ebd6cd9e3086365f281e62506444ef37/base/twiceprecision.jl#L273\" target=\"_blank\">twiceprecision.jl:273</a></li> <li> +(x::<b>Base.TwicePrecision</b>, y::<b>Base.TwicePrecision</b>) in Base at <a href=\"https://github.com/JuliaLang/julia/tree/f9720dc2ebd6cd9e3086365f281e62506444ef37/base/twiceprecision.jl#L278\" target=\"_blank\">twiceprecision.jl:278</a></li> <li> +(Da::<b>LinearAlgebra.Diagonal</b>, Db::<b>LinearAlgebra.Diagonal</b>) in LinearAlgebra at <a href=\"file://C:/buildbot/worker/package_win64/build/usr/share/julia/stdlib/v1.6/LinearAlgebra/src/diagonal.jl\" target=\"_blank\">C:\\Users\\Ryan\\AppData\\Local\\Programs\\Julia-1.6.0\\share\\julia\\stdlib\\v1.6\\LinearAlgebra\\src\\diagonal.jl:156</a></li> <li> +(D::<b>LinearAlgebra.Diagonal</b>, S::<b>LinearAlgebra.Symmetric</b>) in LinearAlgebra at <a href=\"file://C:/buildbot/worker/package_win64/build/usr/share/julia/stdlib/v1.6/LinearAlgebra/src/diagonal.jl\" target=\"_blank\">C:\\Users\\Ryan\\AppData\\Local\\Programs\\Julia-1.6.0\\share\\julia\\stdlib\\v1.6\\LinearAlgebra\\src\\diagonal.jl:160</a></li> <li> +(D::<b>LinearAlgebra.Diagonal{var\"#s832\", V} where {var\"#s832\"<:Real, V<:AbstractVector{var\"#s832\"}}</b>, H::<b>LinearAlgebra.Hermitian</b>) in LinearAlgebra at <a href=\"file://C:/buildbot/worker/package_win64/build/usr/share/julia/stdlib/v1.6/LinearAlgebra/src/diagonal.jl\" target=\"_blank\">C:\\Users\\Ryan\\AppData\\Local\\Programs\\Julia-1.6.0\\share\\julia\\stdlib\\v1.6\\LinearAlgebra\\src\\diagonal.jl:166</a></li> <li> +(A::<b>LinearAlgebra.Diagonal</b>, B::<b>LinearAlgebra.Bidiagonal</b>) in LinearAlgebra at <a href=\"file://C:/buildbot/worker/package_win64/build/usr/share/julia/stdlib/v1.6/LinearAlgebra/src/special.jl\" target=\"_blank\">C:\\Users\\Ryan\\AppData\\Local\\Programs\\Julia-1.6.0\\share\\julia\\stdlib\\v1.6\\LinearAlgebra\\src\\special.jl:125</a></li> <li> +(A::<b>LinearAlgebra.Diagonal</b>, B::<b>LinearAlgebra.SymTridiagonal</b>) in LinearAlgebra at <a href=\"file://C:/buildbot/worker/package_win64/build/usr/share/julia/stdlib/v1.6/LinearAlgebra/src/special.jl\" target=\"_blank\">C:\\Users\\Ryan\\AppData\\Local\\Programs\\Julia-1.6.0\\share\\julia\\stdlib\\v1.6\\LinearAlgebra\\src\\special.jl:135</a></li> <li> +(A::<b>LinearAlgebra.Diagonal</b>, B::<b>LinearAlgebra.Tridiagonal</b>) in LinearAlgebra at <a href=\"file://C:/buildbot/worker/package_win64/build/usr/share/julia/stdlib/v1.6/LinearAlgebra/src/special.jl\" target=\"_blank\">C:\\Users\\Ryan\\AppData\\Local\\Programs\\Julia-1.6.0\\share\\julia\\stdlib\\v1.6\\LinearAlgebra\\src\\special.jl:163</a></li> <li> +(A::<b>LinearAlgebra.Diagonal{var\"#s832\", V} where {var\"#s832\"<:Number, V<:AbstractVector{var\"#s832\"}}</b>, B::<b>LinearAlgebra.UniformScaling</b>) in LinearAlgebra at <a href=\"file://C:/buildbot/worker/package_win64/build/usr/share/julia/stdlib/v1.6/LinearAlgebra/src/special.jl\" target=\"_blank\">C:\\Users\\Ryan\\AppData\\Local\\Programs\\Julia-1.6.0\\share\\julia\\stdlib\\v1.6\\LinearAlgebra\\src\\special.jl:241</a></li> <li> +(x::<b>T</b>, y::<b>Integer</b>)<i> where T<:AbstractChar</i> in Base at <a href=\"https://github.com/JuliaLang/julia/tree/f9720dc2ebd6cd9e3086365f281e62506444ef37/base/char.jl#L223\" target=\"_blank\">char.jl:223</a></li> <li> +(A::<b>SparseArrays.AbstractSparseMatrix{Tv, Ti} where {Tv, Ti}</b>, B::<b>LinearAlgebra.Hermitian{var\"#s832\", var\"#s831\"} where {var\"#s832\", var\"#s831\"<:(SparseArrays.AbstractSparseMatrix{Tv, Ti} where {Tv, Ti})}</b>) in SparseArrays at <a href=\"file://C:/buildbot/worker/package_win64/build/usr/share/julia/stdlib/v1.6/SparseArrays/src/linalg.jl\" target=\"_blank\">C:\\Users\\Ryan\\AppData\\Local\\Programs\\Julia-1.6.0\\share\\julia\\stdlib\\v1.6\\SparseArrays\\src\\linalg.jl:14</a></li> <li> +(A::<b>SparseArrays.AbstractSparseMatrix{Tv, Ti} where {Tv, Ti}</b>, B::<b>LinearAlgebra.Hermitian</b>) in SparseArrays at <a href=\"file://C:/buildbot/worker/package_win64/build/usr/share/julia/stdlib/v1.6/SparseArrays/src/linalg.jl\" target=\"_blank\">C:\\Users\\Ryan\\AppData\\Local\\Programs\\Julia-1.6.0\\share\\julia\\stdlib\\v1.6\\SparseArrays\\src\\linalg.jl:17</a></li> <li> +(A::<b>SparseArrays.AbstractSparseMatrix{Tv, Ti} where {Tv, Ti}</b>, B::<b>LinearAlgebra.Symmetric{var\"#s832\", var\"#s831\"} where {var\"#s832\", var\"#s831\"<:(SparseArrays.AbstractSparseMatrix{Tv, Ti} where {Tv, Ti})}</b>) in SparseArrays at <a href=\"file://C:/buildbot/worker/package_win64/build/usr/share/julia/stdlib/v1.6/SparseArrays/src/linalg.jl\" target=\"_blank\">C:\\Users\\Ryan\\AppData\\Local\\Programs\\Julia-1.6.0\\share\\julia\\stdlib\\v1.6\\SparseArrays\\src\\linalg.jl:14</a></li> <li> +(A::<b>SparseArrays.AbstractSparseMatrix{Tv, Ti} where {Tv, Ti}</b>, B::<b>LinearAlgebra.Symmetric</b>) in SparseArrays at <a href=\"file://C:/buildbot/worker/package_win64/build/usr/share/julia/stdlib/v1.6/SparseArrays/src/linalg.jl\" target=\"_blank\">C:\\Users\\Ryan\\AppData\\Local\\Programs\\Julia-1.6.0\\share\\julia\\stdlib\\v1.6\\SparseArrays\\src\\linalg.jl:17</a></li> <li> +(A::<b>SparseArrays.AbstractSparseMatrixCSC</b>, B::<b>SparseArrays.AbstractSparseMatrixCSC</b>) in SparseArrays at <a href=\"file://C:/buildbot/worker/package_win64/build/usr/share/julia/stdlib/v1.6/SparseArrays/src/sparsematrix.jl\" target=\"_blank\">C:\\Users\\Ryan\\AppData\\Local\\Programs\\Julia-1.6.0\\share\\julia\\stdlib\\v1.6\\SparseArrays\\src\\sparsematrix.jl:1741</a></li> <li> +(x::<b>SparseArrays.AbstractSparseVector{Tv, Ti} where {Tv, Ti}</b>, y::<b>SparseArrays.AbstractSparseVector{Tv, Ti} where {Tv, Ti}</b>) in SparseArrays at <a href=\"file://C:/buildbot/worker/package_win64/build/usr/share/julia/stdlib/v1.6/SparseArrays/src/sparsevector.jl\" target=\"_blank\">C:\\Users\\Ryan\\AppData\\Local\\Programs\\Julia-1.6.0\\share\\julia\\stdlib\\v1.6\\SparseArrays\\src\\sparsevector.jl:1345</a></li> <li> +(A::<b>SparseArrays.AbstractSparseMatrixCSC</b>, B::<b>Array</b>) in SparseArrays at <a href=\"file://C:/buildbot/worker/package_win64/build/usr/share/julia/stdlib/v1.6/SparseArrays/src/sparsematrix.jl\" target=\"_blank\">C:\\Users\\Ryan\\AppData\\Local\\Programs\\Julia-1.6.0\\share\\julia\\stdlib\\v1.6\\SparseArrays\\src\\sparsematrix.jl:1744</a></li> <li> +(A::<b>SparseArrays.AbstractSparseMatrixCSC</b>, J::<b>LinearAlgebra.UniformScaling</b>) in SparseArrays at <a href=\"file://C:/buildbot/worker/package_win64/build/usr/share/julia/stdlib/v1.6/SparseArrays/src/sparsematrix.jl\" target=\"_blank\">C:\\Users\\Ryan\\AppData\\Local\\Programs\\Julia-1.6.0\\share\\julia\\stdlib\\v1.6\\SparseArrays\\src\\sparsematrix.jl:3797</a></li> <li> +(r::<b>AbstractRange{var\"#s832\"} where var\"#s832\"<:Dates.TimeType</b>, x::<b>Dates.Period</b>) in Dates at <a href=\"file://C:/buildbot/worker/package_win64/build/usr/share/julia/stdlib/v1.6/Dates/src/ranges.jl\" target=\"_blank\">C:\\Users\\Ryan\\AppData\\Local\\Programs\\Julia-1.6.0\\share\\julia\\stdlib\\v1.6\\Dates\\src\\ranges.jl:63</a></li> <li> +(x::<b>Dates.Instant</b>) in Dates at <a href=\"file://C:/buildbot/worker/package_win64/build/usr/share/julia/stdlib/v1.6/Dates/src/arithmetic.jl\" target=\"_blank\">C:\\Users\\Ryan\\AppData\\Local\\Programs\\Julia-1.6.0\\share\\julia\\stdlib\\v1.6\\Dates\\src\\arithmetic.jl:4</a></li> <li> +(A::<b>LinearAlgebra.Bidiagonal</b>, B::<b>LinearAlgebra.Bidiagonal</b>) in LinearAlgebra at <a href=\"file://C:/buildbot/worker/package_win64/build/usr/share/julia/stdlib/v1.6/LinearAlgebra/src/bidiag.jl\" target=\"_blank\">C:\\Users\\Ryan\\AppData\\Local\\Programs\\Julia-1.6.0\\share\\julia\\stdlib\\v1.6\\LinearAlgebra\\src\\bidiag.jl:354</a></li> <li> +(A::<b>LinearAlgebra.Bidiagonal</b>, B::<b>LinearAlgebra.UpperTriangular</b>) in LinearAlgebra at <a href=\"file://C:/buildbot/worker/package_win64/build/usr/share/julia/stdlib/v1.6/LinearAlgebra/src/special.jl\" target=\"_blank\">C:\\Users\\Ryan\\AppData\\Local\\Programs\\Julia-1.6.0\\share\\julia\\stdlib\\v1.6\\LinearAlgebra\\src\\special.jl:94</a></li> <li> +(A::<b>LinearAlgebra.Bidiagonal</b>, B::<b>LinearAlgebra.UnitUpperTriangular</b>) in LinearAlgebra at <a href=\"file://C:/buildbot/worker/package_win64/build/usr/share/julia/stdlib/v1.6/LinearAlgebra/src/special.jl\" target=\"_blank\">C:\\Users\\Ryan\\AppData\\Local\\Programs\\Julia-1.6.0\\share\\julia\\stdlib\\v1.6\\LinearAlgebra\\src\\special.jl:94</a></li> <li> +(A::<b>LinearAlgebra.Bidiagonal</b>, B::<b>LinearAlgebra.LowerTriangular</b>) in LinearAlgebra at <a href=\"file://C:/buildbot/worker/package_win64/build/usr/share/julia/stdlib/v1.6/LinearAlgebra/src/special.jl\" target=\"_blank\">C:\\Users\\Ryan\\AppData\\Local\\Programs\\Julia-1.6.0\\share\\julia\\stdlib\\v1.6\\LinearAlgebra\\src\\special.jl:94</a></li> <li> +(A::<b>LinearAlgebra.Bidiagonal</b>, B::<b>LinearAlgebra.UnitLowerTriangular</b>) in LinearAlgebra at <a href=\"file://C:/buildbot/worker/package_win64/build/usr/share/julia/stdlib/v1.6/LinearAlgebra/src/special.jl\" target=\"_blank\">C:\\Users\\Ryan\\AppData\\Local\\Programs\\Julia-1.6.0\\share\\julia\\stdlib\\v1.6\\LinearAlgebra\\src\\special.jl:94</a></li> <li> +(A::<b>LinearAlgebra.Bidiagonal</b>, B::<b>LinearAlgebra.Diagonal</b>) in LinearAlgebra at <a href=\"file://C:/buildbot/worker/package_win64/build/usr/share/julia/stdlib/v1.6/LinearAlgebra/src/special.jl\" target=\"_blank\">C:\\Users\\Ryan\\AppData\\Local\\Programs\\Julia-1.6.0\\share\\julia\\stdlib\\v1.6\\LinearAlgebra\\src\\special.jl:115</a></li> <li> +(A::<b>LinearAlgebra.Bidiagonal</b>, B::<b>LinearAlgebra.Tridiagonal</b>) in LinearAlgebra at <a href=\"file://C:/buildbot/worker/package_win64/build/usr/share/julia/stdlib/v1.6/LinearAlgebra/src/special.jl\" target=\"_blank\">C:\\Users\\Ryan\\AppData\\Local\\Programs\\Julia-1.6.0\\share\\julia\\stdlib\\v1.6\\LinearAlgebra\\src\\special.jl:183</a></li> <li> +(A::<b>LinearAlgebra.Bidiagonal</b>, B::<b>LinearAlgebra.SymTridiagonal</b>) in LinearAlgebra at <a href=\"file://C:/buildbot/worker/package_win64/build/usr/share/julia/stdlib/v1.6/LinearAlgebra/src/special.jl\" target=\"_blank\">C:\\Users\\Ryan\\AppData\\Local\\Programs\\Julia-1.6.0\\share\\julia\\stdlib\\v1.6\\LinearAlgebra\\src\\special.jl:203</a></li> <li> +(A::<b>LinearAlgebra.Bidiagonal{var\"#s832\", V} where {var\"#s832\"<:Number, V<:AbstractVector{var\"#s832\"}}</b>, B::<b>LinearAlgebra.UniformScaling</b>) in LinearAlgebra at <a href=\"file://C:/buildbot/worker/package_win64/build/usr/share/julia/stdlib/v1.6/LinearAlgebra/src/special.jl\" target=\"_blank\">C:\\Users\\Ryan\\AppData\\Local\\Programs\\Julia-1.6.0\\share\\julia\\stdlib\\v1.6\\LinearAlgebra\\src\\special.jl:236</a></li> <li> +(z::<b>Complex</b>, w::<b>Complex</b>) in Base at <a href=\"https://github.com/JuliaLang/julia/tree/f9720dc2ebd6cd9e3086365f281e62506444ef37/base/complex.jl#L275\" target=\"_blank\">complex.jl:275</a></li> <li> +(A::<b>LinearAlgebra.Hermitian</b>, B::<b>LinearAlgebra.Hermitian</b>) in LinearAlgebra at <a href=\"file://C:/buildbot/worker/package_win64/build/usr/share/julia/stdlib/v1.6/LinearAlgebra/src/symmetric.jl\" target=\"_blank\">C:\\Users\\Ryan\\AppData\\Local\\Programs\\Julia-1.6.0\\share\\julia\\stdlib\\v1.6\\LinearAlgebra\\src\\symmetric.jl:469</a></li> <li> +(H::<b>LinearAlgebra.Hermitian</b>, D::<b>LinearAlgebra.Diagonal{var\"#s832\", V} where {var\"#s832\"<:Real, V<:AbstractVector{var\"#s832\"}}</b>) in LinearAlgebra at <a href=\"file://C:/buildbot/worker/package_win64/build/usr/share/julia/stdlib/v1.6/LinearAlgebra/src/diagonal.jl\" target=\"_blank\">C:\\Users\\Ryan\\AppData\\Local\\Programs\\Julia-1.6.0\\share\\julia\\stdlib\\v1.6\\LinearAlgebra\\src\\diagonal.jl:169</a></li> <li> +(A::<b>LinearAlgebra.Hermitian</b>, J::<b>LinearAlgebra.UniformScaling{var\"#s832\"} where var\"#s832\"<:Complex</b>) in LinearAlgebra at <a href=\"file://C:/buildbot/worker/package_win64/build/usr/share/julia/stdlib/v1.6/LinearAlgebra/src/uniformscaling.jl\" target=\"_blank\">C:\\Users\\Ryan\\AppData\\Local\\Programs\\Julia-1.6.0\\share\\julia\\stdlib\\v1.6\\LinearAlgebra\\src\\uniformscaling.jl:196</a></li> <li> +(A::<b>LinearAlgebra.Hermitian{var\"#s830\", var\"#s829\"} where {var\"#s830\", var\"#s829\"<:(SparseArrays.AbstractSparseMatrix{Tv, Ti} where {Tv, Ti})}</b>, B::<b>SparseArrays.AbstractSparseMatrix{Tv, Ti} where {Tv, Ti}</b>) in SparseArrays at <a href=\"file://C:/buildbot/worker/package_win64/build/usr/share/julia/stdlib/v1.6/SparseArrays/src/linalg.jl\" target=\"_blank\">C:\\Users\\Ryan\\AppData\\Local\\Programs\\Julia-1.6.0\\share\\julia\\stdlib\\v1.6\\SparseArrays\\src\\linalg.jl:15</a></li> <li> +(A::<b>LinearAlgebra.Hermitian</b>, B::<b>SparseArrays.AbstractSparseMatrix{Tv, Ti} where {Tv, Ti}</b>) in SparseArrays at <a href=\"file://C:/buildbot/worker/package_win64/build/usr/share/julia/stdlib/v1.6/SparseArrays/src/linalg.jl\" target=\"_blank\">C:\\Users\\Ryan\\AppData\\Local\\Programs\\Julia-1.6.0\\share\\julia\\stdlib\\v1.6\\SparseArrays\\src\\linalg.jl:18</a></li> <li> +(A::<b>LinearAlgebra.Hermitian{var\"#s820\", var\"#s819\"} where {var\"#s820\", var\"#s819\"<:(SparseArrays.AbstractSparseMatrix{Tv, Ti} where {Tv, Ti})}</b>, B::<b>LinearAlgebra.Symmetric{var\"#s818\", var\"#s817\"} where {var\"#s818\"<:Real, var\"#s817\"<:(SparseArrays.AbstractSparseMatrix{Tv, Ti} where {Tv, Ti})}</b>) in SparseArrays at <a href=\"file://C:/buildbot/worker/package_win64/build/usr/share/julia/stdlib/v1.6/SparseArrays/src/linalg.jl\" target=\"_blank\">C:\\Users\\Ryan\\AppData\\Local\\Programs\\Julia-1.6.0\\share\\julia\\stdlib\\v1.6\\SparseArrays\\src\\linalg.jl:26</a></li> <li> +(A::<b>LinearAlgebra.Hermitian</b>, B::<b>LinearAlgebra.Symmetric{var\"#s832\", S} where {var\"#s832\"<:Real, S<:(AbstractMatrix{var\"#s832\"} where var\"#s832\"<:var\"#s832\")}</b>) in LinearAlgebra at <a href=\"file://C:/buildbot/worker/package_win64/build/usr/share/julia/stdlib/v1.6/LinearAlgebra/src/symmetric.jl\" target=\"_blank\">C:\\Users\\Ryan\\AppData\\Local\\Programs\\Julia-1.6.0\\share\\julia\\stdlib\\v1.6\\LinearAlgebra\\src\\symmetric.jl:483</a></li> <li> +(A::<b>LinearAlgebra.Hermitian{var\"#s828\", var\"#s827\"} where {var\"#s828\", var\"#s827\"<:(SparseArrays.AbstractSparseMatrix{Tv, Ti} where {Tv, Ti})}</b>, B::<b>LinearAlgebra.Symmetric{var\"#s826\", var\"#s825\"} where {var\"#s826\", var\"#s825\"<:(SparseArrays.AbstractSparseMatrix{Tv, Ti} where {Tv, Ti})}</b>) in SparseArrays at <a href=\"file://C:/buildbot/worker/package_win64/build/usr/share/julia/stdlib/v1.6/SparseArrays/src/linalg.jl\" target=\"_blank\">C:\\Users\\Ryan\\AppData\\Local\\Programs\\Julia-1.6.0\\share\\julia\\stdlib\\v1.6\\SparseArrays\\src\\linalg.jl:24</a></li> <li> +(A::<b>LinearAlgebra.SymTridiagonal</b>, B::<b>LinearAlgebra.SymTridiagonal</b>) in LinearAlgebra at <a href=\"file://C:/buildbot/worker/package_win64/build/usr/share/julia/stdlib/v1.6/LinearAlgebra/src/tridiag.jl\" target=\"_blank\">C:\\Users\\Ryan\\AppData\\Local\\Programs\\Julia-1.6.0\\share\\julia\\stdlib\\v1.6\\LinearAlgebra\\src\\tridiag.jl:205</a></li> <li> +(A::<b>LinearAlgebra.SymTridiagonal</b>, B::<b>LinearAlgebra.Diagonal</b>) in LinearAlgebra at <a href=\"file://C:/buildbot/worker/package_win64/build/usr/share/julia/stdlib/v1.6/LinearAlgebra/src/special.jl\" target=\"_blank\">C:\\Users\\Ryan\\AppData\\Local\\Programs\\Julia-1.6.0\\share\\julia\\stdlib\\v1.6\\LinearAlgebra\\src\\special.jl:145</a></li> <li> +(A::<b>LinearAlgebra.SymTridiagonal</b>, B::<b>LinearAlgebra.Tridiagonal</b>) in LinearAlgebra at <a href=\"file://C:/buildbot/worker/package_win64/build/usr/share/julia/stdlib/v1.6/LinearAlgebra/src/special.jl\" target=\"_blank\">C:\\Users\\Ryan\\AppData\\Local\\Programs\\Julia-1.6.0\\share\\julia\\stdlib\\v1.6\\LinearAlgebra\\src\\special.jl:159</a></li> <li> +(A::<b>LinearAlgebra.SymTridiagonal</b>, B::<b>LinearAlgebra.Bidiagonal</b>) in LinearAlgebra at <a href=\"file://C:/buildbot/worker/package_win64/build/usr/share/julia/stdlib/v1.6/LinearAlgebra/src/special.jl\" target=\"_blank\">C:\\Users\\Ryan\\AppData\\Local\\Programs\\Julia-1.6.0\\share\\julia\\stdlib\\v1.6\\LinearAlgebra\\src\\special.jl:213</a></li> <li> +(A::<b>LinearAlgebra.SymTridiagonal{var\"#s832\", V} where {var\"#s832\"<:Number, V<:AbstractVector{var\"#s832\"}}</b>, B::<b>LinearAlgebra.UniformScaling</b>) in LinearAlgebra at <a href=\"file://C:/buildbot/worker/package_win64/build/usr/share/julia/stdlib/v1.6/LinearAlgebra/src/special.jl\" target=\"_blank\">C:\\Users\\Ryan\\AppData\\Local\\Programs\\Julia-1.6.0\\share\\julia\\stdlib\\v1.6\\LinearAlgebra\\src\\special.jl:231</a></li> <li> +(y::<b>Dates.TimeType</b>, x::<b>StridedArray{var\"#s832\", N} where {var\"#s832\"<:Union{Dates.CompoundPeriod, Dates.Period}, N}</b>) in Dates at <a href=\"file://C:/buildbot/worker/package_win64/build/usr/share/julia/stdlib/v1.6/Dates/src/deprecated.jl\" target=\"_blank\">C:\\Users\\Ryan\\AppData\\Local\\Programs\\Julia-1.6.0\\share\\julia\\stdlib\\v1.6\\Dates\\src\\deprecated.jl:18</a></li> <li> +(J::<b>LinearAlgebra.UniformScaling</b>) in LinearAlgebra at <a href=\"file://C:/buildbot/worker/package_win64/build/usr/share/julia/stdlib/v1.6/LinearAlgebra/src/uniformscaling.jl\" target=\"_blank\">C:\\Users\\Ryan\\AppData\\Local\\Programs\\Julia-1.6.0\\share\\julia\\stdlib\\v1.6\\LinearAlgebra\\src\\uniformscaling.jl:150</a></li> <li> +(J::<b>LinearAlgebra.UniformScaling</b>, x::<b>Number</b>) in LinearAlgebra at <a href=\"file://C:/buildbot/worker/package_win64/build/usr/share/julia/stdlib/v1.6/LinearAlgebra/src/uniformscaling.jl\" target=\"_blank\">C:\\Users\\Ryan\\AppData\\Local\\Programs\\Julia-1.6.0\\share\\julia\\stdlib\\v1.6\\LinearAlgebra\\src\\uniformscaling.jl:145</a></li> <li> +(J1::<b>LinearAlgebra.UniformScaling</b>, J2::<b>LinearAlgebra.UniformScaling</b>) in LinearAlgebra at <a href=\"file://C:/buildbot/worker/package_win64/build/usr/share/julia/stdlib/v1.6/LinearAlgebra/src/uniformscaling.jl\" target=\"_blank\">C:\\Users\\Ryan\\AppData\\Local\\Programs\\Julia-1.6.0\\share\\julia\\stdlib\\v1.6\\LinearAlgebra\\src\\uniformscaling.jl:151</a></li> <li> +(J::<b>LinearAlgebra.UniformScaling</b>, B::<b>BitMatrix</b>) in LinearAlgebra at <a href=\"file://C:/buildbot/worker/package_win64/build/usr/share/julia/stdlib/v1.6/LinearAlgebra/src/uniformscaling.jl\" target=\"_blank\">C:\\Users\\Ryan\\AppData\\Local\\Programs\\Julia-1.6.0\\share\\julia\\stdlib\\v1.6\\LinearAlgebra\\src\\uniformscaling.jl:153</a></li> <li> +(J::<b>LinearAlgebra.UniformScaling</b>, F::<b>LinearAlgebra.Hessenberg</b>) in LinearAlgebra at <a href=\"file://C:/buildbot/worker/package_win64/build/usr/share/julia/stdlib/v1.6/LinearAlgebra/src/hessenberg.jl\" target=\"_blank\">C:\\Users\\Ryan\\AppData\\Local\\Programs\\Julia-1.6.0\\share\\julia\\stdlib\\v1.6\\LinearAlgebra\\src\\hessenberg.jl:560</a></li> <li> +(A::<b>LinearAlgebra.UniformScaling</b>, B::<b>LinearAlgebra.Tridiagonal{var\"#s832\", V} where {var\"#s832\"<:Number, V<:AbstractVector{var\"#s832\"}}</b>) in LinearAlgebra at <a href=\"file://C:/buildbot/worker/package_win64/build/usr/share/julia/stdlib/v1.6/LinearAlgebra/src/special.jl\" target=\"_blank\">C:\\Users\\Ryan\\AppData\\Local\\Programs\\Julia-1.6.0\\share\\julia\\stdlib\\v1.6\\LinearAlgebra\\src\\special.jl:245</a></li> <li> +(A::<b>LinearAlgebra.UniformScaling</b>, B::<b>LinearAlgebra.SymTridiagonal{var\"#s832\", V} where {var\"#s832\"<:Number, V<:AbstractVector{var\"#s832\"}}</b>) in LinearAlgebra at <a href=\"file://C:/buildbot/worker/package_win64/build/usr/share/julia/stdlib/v1.6/LinearAlgebra/src/special.jl\" target=\"_blank\">C:\\Users\\Ryan\\AppData\\Local\\Programs\\Julia-1.6.0\\share\\julia\\stdlib\\v1.6\\LinearAlgebra\\src\\special.jl:250</a></li> <li> +(A::<b>LinearAlgebra.UniformScaling</b>, B::<b>LinearAlgebra.Bidiagonal{var\"#s832\", V} where {var\"#s832\"<:Number, V<:AbstractVector{var\"#s832\"}}</b>) in LinearAlgebra at <a href=\"file://C:/buildbot/worker/package_win64/build/usr/share/julia/stdlib/v1.6/LinearAlgebra/src/special.jl\" target=\"_blank\">C:\\Users\\Ryan\\AppData\\Local\\Programs\\Julia-1.6.0\\share\\julia\\stdlib\\v1.6\\LinearAlgebra\\src\\special.jl:255</a></li> <li> +(A::<b>LinearAlgebra.UniformScaling</b>, B::<b>LinearAlgebra.Diagonal{var\"#s832\", V} where {var\"#s832\"<:Number, V<:AbstractVector{var\"#s832\"}}</b>) in LinearAlgebra at <a href=\"file://C:/buildbot/worker/package_win64/build/usr/share/julia/stdlib/v1.6/LinearAlgebra/src/special.jl\" target=\"_blank\">C:\\Users\\Ryan\\AppData\\Local\\Programs\\Julia-1.6.0\\share\\julia\\stdlib\\v1.6\\LinearAlgebra\\src\\special.jl:260</a></li> <li> +(J::<b>LinearAlgebra.UniformScaling</b>, A::<b>AbstractMatrix{T} where T</b>) in LinearAlgebra at <a href=\"file://C:/buildbot/worker/package_win64/build/usr/share/julia/stdlib/v1.6/LinearAlgebra/src/uniformscaling.jl\" target=\"_blank\">C:\\Users\\Ryan\\AppData\\Local\\Programs\\Julia-1.6.0\\share\\julia\\stdlib\\v1.6\\LinearAlgebra\\src\\uniformscaling.jl:154</a></li> <li> +(A::<b>LinearAlgebra.Symmetric</b>, B::<b>LinearAlgebra.Symmetric</b>) in LinearAlgebra at <a href=\"file://C:/buildbot/worker/package_win64/build/usr/share/julia/stdlib/v1.6/LinearAlgebra/src/symmetric.jl\" target=\"_blank\">C:\\Users\\Ryan\\AppData\\Local\\Programs\\Julia-1.6.0\\share\\julia\\stdlib\\v1.6\\LinearAlgebra\\src\\symmetric.jl:469</a></li> <li> +(S::<b>LinearAlgebra.Symmetric</b>, D::<b>LinearAlgebra.Diagonal</b>) in LinearAlgebra at <a href=\"file://C:/buildbot/worker/package_win64/build/usr/share/julia/stdlib/v1.6/LinearAlgebra/src/diagonal.jl\" target=\"_blank\">C:\\Users\\Ryan\\AppData\\Local\\Programs\\Julia-1.6.0\\share\\julia\\stdlib\\v1.6\\LinearAlgebra\\src\\diagonal.jl:163</a></li> <li> +(A::<b>LinearAlgebra.Symmetric{var\"#s830\", var\"#s829\"} where {var\"#s830\", var\"#s829\"<:(SparseArrays.AbstractSparseMatrix{Tv, Ti} where {Tv, Ti})}</b>, B::<b>SparseArrays.AbstractSparseMatrix{Tv, Ti} where {Tv, Ti}</b>) in SparseArrays at <a href=\"file://C:/buildbot/worker/package_win64/build/usr/share/julia/stdlib/v1.6/SparseArrays/src/linalg.jl\" target=\"_blank\">C:\\Users\\Ryan\\AppData\\Local\\Programs\\Julia-1.6.0\\share\\julia\\stdlib\\v1.6\\SparseArrays\\src\\linalg.jl:15</a></li> <li> +(A::<b>LinearAlgebra.Symmetric</b>, B::<b>SparseArrays.AbstractSparseMatrix{Tv, Ti} where {Tv, Ti}</b>) in SparseArrays at <a href=\"file://C:/buildbot/worker/package_win64/build/usr/share/julia/stdlib/v1.6/SparseArrays/src/linalg.jl\" target=\"_blank\">C:\\Users\\Ryan\\AppData\\Local\\Programs\\Julia-1.6.0\\share\\julia\\stdlib\\v1.6\\SparseArrays\\src\\linalg.jl:18</a></li> <li> +(A::<b>LinearAlgebra.Symmetric{var\"#s824\", var\"#s823\"} where {var\"#s824\"<:Real, var\"#s823\"<:(SparseArrays.AbstractSparseMatrix{Tv, Ti} where {Tv, Ti})}</b>, B::<b>LinearAlgebra.Hermitian{var\"#s822\", var\"#s821\"} where {var\"#s822\", var\"#s821\"<:(SparseArrays.AbstractSparseMatrix{Tv, Ti} where {Tv, Ti})}</b>) in SparseArrays at <a href=\"file://C:/buildbot/worker/package_win64/build/usr/share/julia/stdlib/v1.6/SparseArrays/src/linalg.jl\" target=\"_blank\">C:\\Users\\Ryan\\AppData\\Local\\Programs\\Julia-1.6.0\\share\\julia\\stdlib\\v1.6\\SparseArrays\\src\\linalg.jl:25</a></li> <li> +(A::<b>LinearAlgebra.Symmetric{var\"#s831\", S} where {var\"#s831\"<:Real, S<:(AbstractMatrix{var\"#s832\"} where var\"#s832\"<:var\"#s831\")}</b>, B::<b>LinearAlgebra.Hermitian</b>) in LinearAlgebra at <a href=\"file://C:/buildbot/worker/package_win64/build/usr/share/julia/stdlib/v1.6/LinearAlgebra/src/symmetric.jl\" target=\"_blank\">C:\\Users\\Ryan\\AppData\\Local\\Programs\\Julia-1.6.0\\share\\julia\\stdlib\\v1.6\\LinearAlgebra\\src\\symmetric.jl:484</a></li> <li> +(A::<b>LinearAlgebra.Symmetric{var\"#s832\", var\"#s831\"} where {var\"#s832\", var\"#s831\"<:(SparseArrays.AbstractSparseMatrix{Tv, Ti} where {Tv, Ti})}</b>, B::<b>LinearAlgebra.Hermitian{var\"#s830\", var\"#s829\"} where {var\"#s830\", var\"#s829\"<:(SparseArrays.AbstractSparseMatrix{Tv, Ti} where {Tv, Ti})}</b>) in SparseArrays at <a href=\"file://C:/buildbot/worker/package_win64/build/usr/share/julia/stdlib/v1.6/SparseArrays/src/linalg.jl\" target=\"_blank\">C:\\Users\\Ryan\\AppData\\Local\\Programs\\Julia-1.6.0\\share\\julia\\stdlib\\v1.6\\SparseArrays\\src\\linalg.jl:23</a></li> <li> +(A::<b>LinearAlgebra.Tridiagonal</b>, B::<b>LinearAlgebra.Tridiagonal</b>) in LinearAlgebra at <a href=\"file://C:/buildbot/worker/package_win64/build/usr/share/julia/stdlib/v1.6/LinearAlgebra/src/tridiag.jl\" target=\"_blank\">C:\\Users\\Ryan\\AppData\\Local\\Programs\\Julia-1.6.0\\share\\julia\\stdlib\\v1.6\\LinearAlgebra\\src\\tridiag.jl:733</a></li> <li> +(A::<b>LinearAlgebra.Tridiagonal</b>, B::<b>LinearAlgebra.SymTridiagonal</b>) in LinearAlgebra at <a href=\"file://C:/buildbot/worker/package_win64/build/usr/share/julia/stdlib/v1.6/LinearAlgebra/src/special.jl\" target=\"_blank\">C:\\Users\\Ryan\\AppData\\Local\\Programs\\Julia-1.6.0\\share\\julia\\stdlib\\v1.6\\LinearAlgebra\\src\\special.jl:157</a></li> <li> +(A::<b>LinearAlgebra.Tridiagonal</b>, B::<b>LinearAlgebra.Diagonal</b>) in LinearAlgebra at <a href=\"file://C:/buildbot/worker/package_win64/build/usr/share/julia/stdlib/v1.6/LinearAlgebra/src/special.jl\" target=\"_blank\">C:\\Users\\Ryan\\AppData\\Local\\Programs\\Julia-1.6.0\\share\\julia\\stdlib\\v1.6\\LinearAlgebra\\src\\special.jl:173</a></li> <li> +(A::<b>LinearAlgebra.Tridiagonal</b>, B::<b>LinearAlgebra.Bidiagonal</b>) in LinearAlgebra at <a href=\"file://C:/buildbot/worker/package_win64/build/usr/share/julia/stdlib/v1.6/LinearAlgebra/src/special.jl\" target=\"_blank\">C:\\Users\\Ryan\\AppData\\Local\\Programs\\Julia-1.6.0\\share\\julia\\stdlib\\v1.6\\LinearAlgebra\\src\\special.jl:193</a></li> <li> +(A::<b>LinearAlgebra.Tridiagonal{var\"#s832\", V} where {var\"#s832\"<:Number, V<:AbstractVector{var\"#s832\"}}</b>, B::<b>LinearAlgebra.UniformScaling</b>) in LinearAlgebra at <a href=\"file://C:/buildbot/worker/package_win64/build/usr/share/julia/stdlib/v1.6/LinearAlgebra/src/special.jl\" target=\"_blank\">C:\\Users\\Ryan\\AppData\\Local\\Programs\\Julia-1.6.0\\share\\julia\\stdlib\\v1.6\\LinearAlgebra\\src\\special.jl:226</a></li> <li> +(A::<b>LinearAlgebra.LowerTriangular</b>, B::<b>LinearAlgebra.LowerTriangular</b>) in LinearAlgebra at <a href=\"file://C:/buildbot/worker/package_win64/build/usr/share/julia/stdlib/v1.6/LinearAlgebra/src/triangular.jl\" target=\"_blank\">C:\\Users\\Ryan\\AppData\\Local\\Programs\\Julia-1.6.0\\share\\julia\\stdlib\\v1.6\\LinearAlgebra\\src\\triangular.jl:649</a></li> <li> +(A::<b>LinearAlgebra.LowerTriangular</b>, B::<b>LinearAlgebra.UnitLowerTriangular</b>) in LinearAlgebra at <a href=\"file://C:/buildbot/worker/package_win64/build/usr/share/julia/stdlib/v1.6/LinearAlgebra/src/triangular.jl\" target=\"_blank\">C:\\Users\\Ryan\\AppData\\Local\\Programs\\Julia-1.6.0\\share\\julia\\stdlib\\v1.6\\LinearAlgebra\\src\\triangular.jl:651</a></li> <li> +(A::<b>LinearAlgebra.LowerTriangular</b>, B::<b>LinearAlgebra.Bidiagonal</b>) in LinearAlgebra at <a href=\"file://C:/buildbot/worker/package_win64/build/usr/share/julia/stdlib/v1.6/LinearAlgebra/src/special.jl\" target=\"_blank\">C:\\Users\\Ryan\\AppData\\Local\\Programs\\Julia-1.6.0\\share\\julia\\stdlib\\v1.6\\LinearAlgebra\\src\\special.jl:86</a></li> <li> +(r1::<b>OrdinalRange</b>, r2::<b>OrdinalRange</b>) in Base at <a href=\"https://github.com/JuliaLang/julia/tree/f9720dc2ebd6cd9e3086365f281e62506444ef37/base/range.jl#L1101\" target=\"_blank\">range.jl:1101</a></li> <li> +(A::<b>Array</b>, Bs::<b>Array...</b>) in Base at <a href=\"https://github.com/JuliaLang/julia/tree/f9720dc2ebd6cd9e3086365f281e62506444ef37/base/arraymath.jl#L43\" target=\"_blank\">arraymath.jl:43</a></li> <li> +(X::<b>StridedArray{var\"#s832\", N} where {var\"#s832\"<:Union{Dates.CompoundPeriod, Dates.Period}, N}</b>, Y::<b>StridedArray{var\"#s831\", N} where {var\"#s831\"<:Union{Dates.CompoundPeriod, Dates.Period}, N}</b>) in Dates at <a href=\"file://C:/buildbot/worker/package_win64/build/usr/share/julia/stdlib/v1.6/Dates/src/deprecated.jl\" target=\"_blank\">C:\\Users\\Ryan\\AppData\\Local\\Programs\\Julia-1.6.0\\share\\julia\\stdlib\\v1.6\\Dates\\src\\deprecated.jl:62</a></li> <li> +(A::<b>Array</b>, B::<b>SparseArrays.AbstractSparseMatrixCSC</b>) in SparseArrays at <a href=\"file://C:/buildbot/worker/package_win64/build/usr/share/julia/stdlib/v1.6/SparseArrays/src/sparsematrix.jl\" target=\"_blank\">C:\\Users\\Ryan\\AppData\\Local\\Programs\\Julia-1.6.0\\share\\julia\\stdlib\\v1.6\\SparseArrays\\src\\sparsematrix.jl:1745</a></li> <li> +(x::<b>StridedArray{var\"#s832\", N} where {var\"#s832\"<:Union{Dates.CompoundPeriod, Dates.Period}, N}</b>) in Dates at <a href=\"file://C:/buildbot/worker/package_win64/build/usr/share/julia/stdlib/v1.6/Dates/src/deprecated.jl\" target=\"_blank\">C:\\Users\\Ryan\\AppData\\Local\\Programs\\Julia-1.6.0\\share\\julia\\stdlib\\v1.6\\Dates\\src\\deprecated.jl:55</a></li> <li> +(x::<b>StridedArray{var\"#s832\", N} where {var\"#s832\"<:Union{Dates.CompoundPeriod, Dates.Period}, N}</b>, y::<b>Dates.TimeType</b>) in Dates at <a href=\"file://C:/buildbot/worker/package_win64/build/usr/share/julia/stdlib/v1.6/Dates/src/deprecated.jl\" target=\"_blank\">C:\\Users\\Ryan\\AppData\\Local\\Programs\\Julia-1.6.0\\share\\julia\\stdlib\\v1.6\\Dates\\src\\deprecated.jl:10</a></li> <li> +(A::<b>LinearAlgebra.UpperHessenberg</b>, B::<b>LinearAlgebra.UpperHessenberg</b>) in LinearAlgebra at <a href=\"file://C:/buildbot/worker/package_win64/build/usr/share/julia/stdlib/v1.6/LinearAlgebra/src/hessenberg.jl\" target=\"_blank\">C:\\Users\\Ryan\\AppData\\Local\\Programs\\Julia-1.6.0\\share\\julia\\stdlib\\v1.6\\LinearAlgebra\\src\\hessenberg.jl:101</a></li> <li> +(H::<b>LinearAlgebra.UpperHessenberg</b>, J::<b>LinearAlgebra.UniformScaling</b>) in LinearAlgebra at <a href=\"file://C:/buildbot/worker/package_win64/build/usr/share/julia/stdlib/v1.6/LinearAlgebra/src/hessenberg.jl\" target=\"_blank\">C:\\Users\\Ryan\\AppData\\Local\\Programs\\Julia-1.6.0\\share\\julia\\stdlib\\v1.6\\LinearAlgebra\\src\\hessenberg.jl:106</a></li> <li> +(y::<b>AbstractFloat</b>, x::<b>Bool</b>) in Base at <a href=\"https://github.com/JuliaLang/julia/tree/f9720dc2ebd6cd9e3086365f281e62506444ef37/base/bool.jl#L102\" target=\"_blank\">bool.jl:102</a></li> <li> +(A::<b>BitArray</b>, B::<b>BitArray</b>) in Base at <a href=\"https://github.com/JuliaLang/julia/tree/f9720dc2ebd6cd9e3086365f281e62506444ef37/base/bitarray.jl#L1127\" target=\"_blank\">bitarray.jl:1127</a></li> <li> +(x::<b>Ptr</b>, y::<b>Integer</b>) in Base at <a href=\"https://github.com/JuliaLang/julia/tree/f9720dc2ebd6cd9e3086365f281e62506444ef37/base/pointer.jl#L159\" target=\"_blank\">pointer.jl:159</a></li> <li> +(x::<b>Dates.AbstractTime</b>, y::<b>Missing</b>) in Dates at <a href=\"file://C:/buildbot/worker/package_win64/build/usr/share/julia/stdlib/v1.6/Dates/src/arithmetic.jl\" target=\"_blank\">C:\\Users\\Ryan\\AppData\\Local\\Programs\\Julia-1.6.0\\share\\julia\\stdlib\\v1.6\\Dates\\src\\arithmetic.jl:88</a></li> <li> +(A::<b>LinearAlgebra.UpperTriangular</b>, B::<b>LinearAlgebra.UpperTriangular</b>) in LinearAlgebra at <a href=\"file://C:/buildbot/worker/package_win64/build/usr/share/julia/stdlib/v1.6/LinearAlgebra/src/triangular.jl\" target=\"_blank\">C:\\Users\\Ryan\\AppData\\Local\\Programs\\Julia-1.6.0\\share\\julia\\stdlib\\v1.6\\LinearAlgebra\\src\\triangular.jl:648</a></li> <li> +(A::<b>LinearAlgebra.UpperTriangular</b>, B::<b>LinearAlgebra.UnitUpperTriangular</b>) in LinearAlgebra at <a href=\"file://C:/buildbot/worker/package_win64/build/usr/share/julia/stdlib/v1.6/LinearAlgebra/src/triangular.jl\" target=\"_blank\">C:\\Users\\Ryan\\AppData\\Local\\Programs\\Julia-1.6.0\\share\\julia\\stdlib\\v1.6\\LinearAlgebra\\src\\triangular.jl:650</a></li> <li> +(A::<b>LinearAlgebra.UpperTriangular</b>, B::<b>LinearAlgebra.Bidiagonal</b>) in LinearAlgebra at <a href=\"file://C:/buildbot/worker/package_win64/build/usr/share/julia/stdlib/v1.6/LinearAlgebra/src/special.jl\" target=\"_blank\">C:\\Users\\Ryan\\AppData\\Local\\Programs\\Julia-1.6.0\\share\\julia\\stdlib\\v1.6\\LinearAlgebra\\src\\special.jl:86</a></li> <li> +(r1::<b>LinRange{T}</b>, r2::<b>LinRange{T}</b>)<i> where T</i> in Base at <a href=\"https://github.com/JuliaLang/julia/tree/f9720dc2ebd6cd9e3086365f281e62506444ef37/base/range.jl#L1108\" target=\"_blank\">range.jl:1108</a></li> <li> +(r1::<b>Union{LinRange, OrdinalRange, StepRangeLen}</b>, r2::<b>Union{LinRange, OrdinalRange, StepRangeLen}</b>) in Base at <a href=\"https://github.com/JuliaLang/julia/tree/f9720dc2ebd6cd9e3086365f281e62506444ef37/base/range.jl#L1117\" target=\"_blank\">range.jl:1117</a></li> <li> +(index1::<b>CartesianIndex{N}</b>, index2::<b>CartesianIndex{N}</b>)<i> where N</i> in Base.IteratorsMD at <a href=\"https://github.com/JuliaLang/julia/tree/f9720dc2ebd6cd9e3086365f281e62506444ef37/base/multidimensional.jl#L114\" target=\"_blank\">multidimensional.jl:114</a></li> <li> +(x::<b>AbstractArray{var\"#s832\", N} where {var\"#s832\"<:Dates.TimeType, N}</b>, y::<b>Union{Dates.CompoundPeriod, Dates.Period}</b>) in Dates at <a href=\"file://C:/buildbot/worker/package_win64/build/usr/share/julia/stdlib/v1.6/Dates/src/deprecated.jl\" target=\"_blank\">C:\\Users\\Ryan\\AppData\\Local\\Programs\\Julia-1.6.0\\share\\julia\\stdlib\\v1.6\\Dates\\src\\deprecated.jl:6</a></li> <li> +(A::<b>LinearAlgebra.UnitUpperTriangular</b>, B::<b>LinearAlgebra.UpperTriangular</b>) in LinearAlgebra at <a href=\"file://C:/buildbot/worker/package_win64/build/usr/share/julia/stdlib/v1.6/LinearAlgebra/src/triangular.jl\" target=\"_blank\">C:\\Users\\Ryan\\AppData\\Local\\Programs\\Julia-1.6.0\\share\\julia\\stdlib\\v1.6\\LinearAlgebra\\src\\triangular.jl:652</a></li> <li> +(A::<b>LinearAlgebra.UnitUpperTriangular</b>, B::<b>LinearAlgebra.UnitUpperTriangular</b>) in LinearAlgebra at <a href=\"file://C:/buildbot/worker/package_win64/build/usr/share/julia/stdlib/v1.6/LinearAlgebra/src/triangular.jl\" target=\"_blank\">C:\\Users\\Ryan\\AppData\\Local\\Programs\\Julia-1.6.0\\share\\julia\\stdlib\\v1.6\\LinearAlgebra\\src\\triangular.jl:654</a></li> <li> +(A::<b>LinearAlgebra.AbstractTriangular</b>, B::<b>LinearAlgebra.AbstractTriangular</b>) in LinearAlgebra at <a href=\"file://C:/buildbot/worker/package_win64/build/usr/share/julia/stdlib/v1.6/LinearAlgebra/src/triangular.jl\" target=\"_blank\">C:\\Users\\Ryan\\AppData\\Local\\Programs\\Julia-1.6.0\\share\\julia\\stdlib\\v1.6\\LinearAlgebra\\src\\triangular.jl:656</a></li> <li> +(UL::<b>LinearAlgebra.UnitUpperTriangular</b>, J::<b>LinearAlgebra.UniformScaling</b>) in LinearAlgebra at <a href=\"file://C:/buildbot/worker/package_win64/build/usr/share/julia/stdlib/v1.6/LinearAlgebra/src/uniformscaling.jl\" target=\"_blank\">C:\\Users\\Ryan\\AppData\\Local\\Programs\\Julia-1.6.0\\share\\julia\\stdlib\\v1.6\\LinearAlgebra\\src\\uniformscaling.jl:182</a></li> <li> +(A::<b>LinearAlgebra.UnitUpperTriangular</b>, B::<b>LinearAlgebra.Bidiagonal</b>) in LinearAlgebra at <a href=\"file://C:/buildbot/worker/package_win64/build/usr/share/julia/stdlib/v1.6/LinearAlgebra/src/special.jl\" target=\"_blank\">C:\\Users\\Ryan\\AppData\\Local\\Programs\\Julia-1.6.0\\share\\julia\\stdlib\\v1.6\\LinearAlgebra\\src\\special.jl:86</a></li> <li> +(A::<b>AbstractArray</b>, B::<b>AbstractArray</b>) in Base at <a href=\"https://github.com/JuliaLang/julia/tree/f9720dc2ebd6cd9e3086365f281e62506444ef37/base/arraymath.jl#L37\" target=\"_blank\">arraymath.jl:37</a></li> <li> +(x::<b>P</b>, y::<b>P</b>)<i> where P<:Dates.Period</i> in Dates at <a href=\"file://C:/buildbot/worker/package_win64/build/usr/share/julia/stdlib/v1.6/Dates/src/periods.jl\" target=\"_blank\">C:\\Users\\Ryan\\AppData\\Local\\Programs\\Julia-1.6.0\\share\\julia\\stdlib\\v1.6\\Dates\\src\\periods.jl:79</a></li> <li> +(x::<b>Dates.Period</b>, y::<b>Dates.Period</b>) in Dates at <a href=\"file://C:/buildbot/worker/package_win64/build/usr/share/julia/stdlib/v1.6/Dates/src/periods.jl\" target=\"_blank\">C:\\Users\\Ryan\\AppData\\Local\\Programs\\Julia-1.6.0\\share\\julia\\stdlib\\v1.6\\Dates\\src\\periods.jl:351</a></li> <li> +(y::<b>Dates.Period</b>, x::<b>Dates.CompoundPeriod</b>) in Dates at <a href=\"file://C:/buildbot/worker/package_win64/build/usr/share/julia/stdlib/v1.6/Dates/src/periods.jl\" target=\"_blank\">C:\\Users\\Ryan\\AppData\\Local\\Programs\\Julia-1.6.0\\share\\julia\\stdlib\\v1.6\\Dates\\src\\periods.jl:353</a></li> <li> +(y::<b>Dates.Period</b>, x::<b>Dates.TimeType</b>) in Dates at <a href=\"file://C:/buildbot/worker/package_win64/build/usr/share/julia/stdlib/v1.6/Dates/src/arithmetic.jl\" target=\"_blank\">C:\\Users\\Ryan\\AppData\\Local\\Programs\\Julia-1.6.0\\share\\julia\\stdlib\\v1.6\\Dates\\src\\arithmetic.jl:85</a></li> <li> +(x::<b>Dates.Period</b>, r::<b>AbstractRange{var\"#s832\"} where var\"#s832\"<:Dates.TimeType</b>) in Dates at <a href=\"file://C:/buildbot/worker/package_win64/build/usr/share/julia/stdlib/v1.6/Dates/src/ranges.jl\" target=\"_blank\">C:\\Users\\Ryan\\AppData\\Local\\Programs\\Julia-1.6.0\\share\\julia\\stdlib\\v1.6\\Dates\\src\\ranges.jl:62</a></li> <li> +(y::<b>Union{Dates.CompoundPeriod, Dates.Period}</b>, x::<b>AbstractArray{var\"#s832\", N} where {var\"#s832\"<:Dates.TimeType, N}</b>) in Dates at <a href=\"file://C:/buildbot/worker/package_win64/build/usr/share/julia/stdlib/v1.6/Dates/src/deprecated.jl\" target=\"_blank\">C:\\Users\\Ryan\\AppData\\Local\\Programs\\Julia-1.6.0\\share\\julia\\stdlib\\v1.6\\Dates\\src\\deprecated.jl:14</a></li> <li> +(F::<b>LinearAlgebra.Hessenberg</b>, J::<b>LinearAlgebra.UniformScaling</b>) in LinearAlgebra at <a href=\"file://C:/buildbot/worker/package_win64/build/usr/share/julia/stdlib/v1.6/LinearAlgebra/src/hessenberg.jl\" target=\"_blank\">C:\\Users\\Ryan\\AppData\\Local\\Programs\\Julia-1.6.0\\share\\julia\\stdlib\\v1.6\\LinearAlgebra\\src\\hessenberg.jl:559</a></li> <li> +(x::<b>AbstractIrrational</b>, y::<b>AbstractIrrational</b>) in Base at <a href=\"https://github.com/JuliaLang/julia/tree/f9720dc2ebd6cd9e3086365f281e62506444ef37/base/irrationals.jl#L156\" target=\"_blank\">irrationals.jl:156</a></li> <li> +(x::<b>BigInt</b>, y::<b>BigInt</b>) in Base.GMP at <a href=\"https://github.com/JuliaLang/julia/tree/f9720dc2ebd6cd9e3086365f281e62506444ef37/base/gmp.jl#L479\" target=\"_blank\">gmp.jl:479</a></li> <li> +(a::<b>BigInt</b>, b::<b>BigInt</b>, c::<b>BigInt</b>) in Base.GMP at <a href=\"https://github.com/JuliaLang/julia/tree/f9720dc2ebd6cd9e3086365f281e62506444ef37/base/gmp.jl#L519\" target=\"_blank\">gmp.jl:519</a></li> <li> +(a::<b>BigInt</b>, b::<b>BigInt</b>, c::<b>BigInt</b>, d::<b>BigInt</b>) in Base.GMP at <a href=\"https://github.com/JuliaLang/julia/tree/f9720dc2ebd6cd9e3086365f281e62506444ef37/base/gmp.jl#L520\" target=\"_blank\">gmp.jl:520</a></li> <li> +(a::<b>BigInt</b>, b::<b>BigInt</b>, c::<b>BigInt</b>, d::<b>BigInt</b>, e::<b>BigInt</b>) in Base.GMP at <a href=\"https://github.com/JuliaLang/julia/tree/f9720dc2ebd6cd9e3086365f281e62506444ef37/base/gmp.jl#L521\" target=\"_blank\">gmp.jl:521</a></li> <li> +(x::<b>BigInt</b>, c::<b>Union{UInt16, UInt32, UInt8}</b>) in Base.GMP at <a href=\"https://github.com/JuliaLang/julia/tree/f9720dc2ebd6cd9e3086365f281e62506444ef37/base/gmp.jl#L527\" target=\"_blank\">gmp.jl:527</a></li> <li> +(x::<b>BigInt</b>, c::<b>Union{Int16, Int32, Int8}</b>) in Base.GMP at <a href=\"https://github.com/JuliaLang/julia/tree/f9720dc2ebd6cd9e3086365f281e62506444ef37/base/gmp.jl#L533\" target=\"_blank\">gmp.jl:533</a></li> <li> +(c::<b>BigInt</b>, x::<b>BigFloat</b>) in Base.MPFR at <a href=\"https://github.com/JuliaLang/julia/tree/f9720dc2ebd6cd9e3086365f281e62506444ef37/base/mpfr.jl#L400\" target=\"_blank\">mpfr.jl:400</a></li> <li> +(x::<b>Float16</b>, y::<b>Float16</b>) in Base at <a href=\"https://github.com/JuliaLang/julia/tree/f9720dc2ebd6cd9e3086365f281e62506444ef37/base/float.jl#L324\" target=\"_blank\">float.jl:324</a></li> <li> +(a::<b>Pkg.Resolve.FieldValue</b>, b::<b>Pkg.Resolve.FieldValue</b>) in Pkg.Resolve at <a href=\"file://C:/buildbot/worker/package_win64/build/usr/share/julia/stdlib/v1.6/Pkg/src/Resolve/fieldvalues.jl\" target=\"_blank\">C:\\Users\\Ryan\\AppData\\Local\\Programs\\Julia-1.6.0\\share\\julia\\stdlib\\v1.6\\Pkg\\src\\Resolve\\fieldvalues.jl:43</a></li> <li> +(dt::<b>Dates.Date</b>, t::<b>Dates.Time</b>) in Dates at <a href=\"file://C:/buildbot/worker/package_win64/build/usr/share/julia/stdlib/v1.6/Dates/src/arithmetic.jl\" target=\"_blank\">C:\\Users\\Ryan\\AppData\\Local\\Programs\\Julia-1.6.0\\share\\julia\\stdlib\\v1.6\\Dates\\src\\arithmetic.jl:19</a></li> <li> +(dt::<b>Dates.Date</b>, y::<b>Dates.Year</b>) in Dates at <a href=\"file://C:/buildbot/worker/package_win64/build/usr/share/julia/stdlib/v1.6/Dates/src/arithmetic.jl\" target=\"_blank\">C:\\Users\\Ryan\\AppData\\Local\\Programs\\Julia-1.6.0\\share\\julia\\stdlib\\v1.6\\Dates\\src\\arithmetic.jl:27</a></li> <li> +(dt::<b>Dates.Date</b>, z::<b>Dates.Month</b>) in Dates at <a href=\"file://C:/buildbot/worker/package_win64/build/usr/share/julia/stdlib/v1.6/Dates/src/arithmetic.jl\" target=\"_blank\">C:\\Users\\Ryan\\AppData\\Local\\Programs\\Julia-1.6.0\\share\\julia\\stdlib\\v1.6\\Dates\\src\\arithmetic.jl:54</a></li> <li> +(x::<b>Dates.Date</b>, y::<b>Dates.Quarter</b>) in Dates at <a href=\"file://C:/buildbot/worker/package_win64/build/usr/share/julia/stdlib/v1.6/Dates/src/arithmetic.jl\" target=\"_blank\">C:\\Users\\Ryan\\AppData\\Local\\Programs\\Julia-1.6.0\\share\\julia\\stdlib\\v1.6\\Dates\\src\\arithmetic.jl:73</a></li> <li> +(x::<b>Dates.Date</b>, y::<b>Dates.Week</b>) in Dates at <a href=\"file://C:/buildbot/worker/package_win64/build/usr/share/julia/stdlib/v1.6/Dates/src/arithmetic.jl\" target=\"_blank\">C:\\Users\\Ryan\\AppData\\Local\\Programs\\Julia-1.6.0\\share\\julia\\stdlib\\v1.6\\Dates\\src\\arithmetic.jl:77</a></li> <li> +(x::<b>Dates.Date</b>, y::<b>Dates.Day</b>) in Dates at <a href=\"file://C:/buildbot/worker/package_win64/build/usr/share/julia/stdlib/v1.6/Dates/src/arithmetic.jl\" target=\"_blank\">C:\\Users\\Ryan\\AppData\\Local\\Programs\\Julia-1.6.0\\share\\julia\\stdlib\\v1.6\\Dates\\src\\arithmetic.jl:79</a></li> <li> +(level::<b>Base.CoreLogging.LogLevel</b>, inc::<b>Integer</b>) in Base.CoreLogging at <a href=\"https://github.com/JuliaLang/julia/tree/f9720dc2ebd6cd9e3086365f281e62506444ef37/base/logging.jl#L131\" target=\"_blank\">logging.jl:131</a></li> <li> +(x::<b>Float32</b>, y::<b>Float32</b>) in Base at <a href=\"https://github.com/JuliaLang/julia/tree/f9720dc2ebd6cd9e3086365f281e62506444ef37/base/float.jl#L325\" target=\"_blank\">float.jl:325</a></li> <li> +(B::<b>BitMatrix</b>, J::<b>LinearAlgebra.UniformScaling</b>) in LinearAlgebra at <a href=\"file://C:/buildbot/worker/package_win64/build/usr/share/julia/stdlib/v1.6/LinearAlgebra/src/uniformscaling.jl\" target=\"_blank\">C:\\Users\\Ryan\\AppData\\Local\\Programs\\Julia-1.6.0\\share\\julia\\stdlib\\v1.6\\LinearAlgebra\\src\\uniformscaling.jl:152</a></li> <li> +(A::<b>AbstractMatrix{T} where T</b>, J::<b>LinearAlgebra.UniformScaling</b>) in LinearAlgebra at <a href=\"file://C:/buildbot/worker/package_win64/build/usr/share/julia/stdlib/v1.6/LinearAlgebra/src/uniformscaling.jl\" target=\"_blank\">C:\\Users\\Ryan\\AppData\\Local\\Programs\\Julia-1.6.0\\share\\julia\\stdlib\\v1.6\\LinearAlgebra\\src\\uniformscaling.jl:215</a></li> <li> +(x::<b>AbstractArray{var\"#s79\", N} where {var\"#s79\"<:Number, N}</b>) in Base at <a href=\"https://github.com/JuliaLang/julia/tree/f9720dc2ebd6cd9e3086365f281e62506444ef37/base/abstractarraymath.jl#L97\" target=\"_blank\">abstractarraymath.jl:97</a></li> <li> +(x::<b>Rational{BigInt}</b>, y::<b>Rational{BigInt}</b>) in Base.GMP.MPQ at <a href=\"https://github.com/JuliaLang/julia/tree/f9720dc2ebd6cd9e3086365f281e62506444ef37/base/gmp.jl#L886\" target=\"_blank\">gmp.jl:886</a></li> <li> +(x::<b>Rational</b>) in Base at <a href=\"https://github.com/JuliaLang/julia/tree/f9720dc2ebd6cd9e3086365f281e62506444ef37/base/rational.jl#L267\" target=\"_blank\">rational.jl:267</a></li> <li> +(x::<b>Rational</b>, y::<b>Rational</b>) in Base at <a href=\"https://github.com/JuliaLang/julia/tree/f9720dc2ebd6cd9e3086365f281e62506444ef37/base/rational.jl#L283\" target=\"_blank\">rational.jl:283</a></li> <li> +(a::<b>Pkg.Resolve.VersionWeight</b>, b::<b>Pkg.Resolve.VersionWeight</b>) in Pkg.Resolve at <a href=\"file://C:/buildbot/worker/package_win64/build/usr/share/julia/stdlib/v1.6/Pkg/src/Resolve/versionweights.jl\" target=\"_blank\">C:\\Users\\Ryan\\AppData\\Local\\Programs\\Julia-1.6.0\\share\\julia\\stdlib\\v1.6\\Pkg\\src\\Resolve\\versionweights.jl:22</a></li> <li> +(x::<b>Dates.CompoundPeriod</b>, y::<b>Dates.Period</b>) in Dates at <a href=\"file://C:/buildbot/worker/package_win64/build/usr/share/julia/stdlib/v1.6/Dates/src/periods.jl\" target=\"_blank\">C:\\Users\\Ryan\\AppData\\Local\\Programs\\Julia-1.6.0\\share\\julia\\stdlib\\v1.6\\Dates\\src\\periods.jl:352</a></li> <li> +(x::<b>Dates.CompoundPeriod</b>, y::<b>Dates.CompoundPeriod</b>) in Dates at <a href=\"file://C:/buildbot/worker/package_win64/build/usr/share/julia/stdlib/v1.6/Dates/src/periods.jl\" target=\"_blank\">C:\\Users\\Ryan\\AppData\\Local\\Programs\\Julia-1.6.0\\share\\julia\\stdlib\\v1.6\\Dates\\src\\periods.jl:354</a></li> <li> +(x::<b>Dates.CompoundPeriod</b>, y::<b>Dates.TimeType</b>) in Dates at <a href=\"file://C:/buildbot/worker/package_win64/build/usr/share/julia/stdlib/v1.6/Dates/src/periods.jl\" target=\"_blank\">C:\\Users\\Ryan\\AppData\\Local\\Programs\\Julia-1.6.0\\share\\julia\\stdlib\\v1.6\\Dates\\src\\periods.jl:382</a></li> <li> +(x::<b>Bool</b>) in Base at <a href=\"https://github.com/JuliaLang/julia/tree/f9720dc2ebd6cd9e3086365f281e62506444ef37/base/bool.jl#L89\" target=\"_blank\">bool.jl:89</a></li> <li> +(x::<b>Integer</b>, y::<b>Ptr</b>) in Base at <a href=\"https://github.com/JuliaLang/julia/tree/f9720dc2ebd6cd9e3086365f281e62506444ef37/base/pointer.jl#L161\" target=\"_blank\">pointer.jl:161</a></li> <li> +(y::<b>Integer</b>, x::<b>Rational</b>) in Base at <a href=\"https://github.com/JuliaLang/julia/tree/f9720dc2ebd6cd9e3086365f281e62506444ef37/base/rational.jl#L295\" target=\"_blank\">rational.jl:295</a></li> <li> +(x::<b>Integer</b>, y::<b>AbstractChar</b>) in Base at <a href=\"https://github.com/JuliaLang/julia/tree/f9720dc2ebd6cd9e3086365f281e62506444ef37/base/char.jl#L224\" target=\"_blank\">char.jl:224</a></li> <li> +(x::<b>Bool</b>, y::<b>Bool</b>) in Base at <a href=\"https://github.com/JuliaLang/julia/tree/f9720dc2ebd6cd9e3086365f281e62506444ef37/base/bool.jl#L92\" target=\"_blank\">bool.jl:92</a></li> <li> +(a::<b>Integer</b>, b::<b>Integer</b>) in Base at <a href=\"https://github.com/JuliaLang/julia/tree/f9720dc2ebd6cd9e3086365f281e62506444ef37/base/int.jl#L919\" target=\"_blank\">int.jl:919</a></li> <li> +(x::<b>Bool</b>, y::<b>T</b>)<i> where T<:AbstractFloat</i> in Base at <a href=\"https://github.com/JuliaLang/julia/tree/f9720dc2ebd6cd9e3086365f281e62506444ef37/base/bool.jl#L99\" target=\"_blank\">bool.jl:99</a></li> <li> +(x::<b>Bool</b>, z::<b>Complex{Bool}</b>) in Base at <a href=\"https://github.com/JuliaLang/julia/tree/f9720dc2ebd6cd9e3086365f281e62506444ef37/base/complex.jl#L286\" target=\"_blank\">complex.jl:286</a></li> <li> +(x::<b>Real</b>, z::<b>Complex{Bool}</b>) in Base at <a href=\"https://github.com/JuliaLang/julia/tree/f9720dc2ebd6cd9e3086365f281e62506444ef37/base/complex.jl#L300\" target=\"_blank\">complex.jl:300</a></li> <li> +(x::<b>Bool</b>, z::<b>Complex</b>) in Base at <a href=\"https://github.com/JuliaLang/julia/tree/f9720dc2ebd6cd9e3086365f281e62506444ef37/base/complex.jl#L293\" target=\"_blank\">complex.jl:293</a></li> <li> +(x::<b>Real</b>, z::<b>Complex</b>) in Base at <a href=\"https://github.com/JuliaLang/julia/tree/f9720dc2ebd6cd9e3086365f281e62506444ef37/base/complex.jl#L312\" target=\"_blank\">complex.jl:312</a></li> <li> +(dt::<b>Dates.DateTime</b>, y::<b>Dates.Year</b>) in Dates at <a href=\"file://C:/buildbot/worker/package_win64/build/usr/share/julia/stdlib/v1.6/Dates/src/arithmetic.jl\" target=\"_blank\">C:\\Users\\Ryan\\AppData\\Local\\Programs\\Julia-1.6.0\\share\\julia\\stdlib\\v1.6\\Dates\\src\\arithmetic.jl:23</a></li> <li> +(dt::<b>Dates.DateTime</b>, z::<b>Dates.Month</b>) in Dates at <a href=\"file://C:/buildbot/worker/package_win64/build/usr/share/julia/stdlib/v1.6/Dates/src/arithmetic.jl\" target=\"_blank\">C:\\Users\\Ryan\\AppData\\Local\\Programs\\Julia-1.6.0\\share\\julia\\stdlib\\v1.6\\Dates\\src\\arithmetic.jl:47</a></li> <li> +(x::<b>Dates.DateTime</b>, y::<b>Dates.Quarter</b>) in Dates at <a href=\"file://C:/buildbot/worker/package_win64/build/usr/share/julia/stdlib/v1.6/Dates/src/arithmetic.jl\" target=\"_blank\">C:\\Users\\Ryan\\AppData\\Local\\Programs\\Julia-1.6.0\\share\\julia\\stdlib\\v1.6\\Dates\\src\\arithmetic.jl:75</a></li> <li> +(x::<b>Dates.DateTime</b>, y::<b>Dates.Period</b>) in Dates at <a href=\"file://C:/buildbot/worker/package_win64/build/usr/share/julia/stdlib/v1.6/Dates/src/arithmetic.jl\" target=\"_blank\">C:\\Users\\Ryan\\AppData\\Local\\Programs\\Julia-1.6.0\\share\\julia\\stdlib\\v1.6\\Dates\\src\\arithmetic.jl:81</a></li> <li> +(::<b>Missing</b>) in Base at <a href=\"https://github.com/JuliaLang/julia/tree/f9720dc2ebd6cd9e3086365f281e62506444ef37/base/missing.jl#L101\" target=\"_blank\">missing.jl:101</a></li> <li> +(::<b>Missing</b>, ::<b>Missing</b>) in Base at <a href=\"https://github.com/JuliaLang/julia/tree/f9720dc2ebd6cd9e3086365f281e62506444ef37/base/missing.jl#L115\" target=\"_blank\">missing.jl:115</a></li> <li> +(::<b>Missing</b>, ::<b>Number</b>) in Base at <a href=\"https://github.com/JuliaLang/julia/tree/f9720dc2ebd6cd9e3086365f281e62506444ef37/base/missing.jl#L116\" target=\"_blank\">missing.jl:116</a></li> <li> +(x::<b>Missing</b>, y::<b>Dates.AbstractTime</b>) in Dates at <a href=\"file://C:/buildbot/worker/package_win64/build/usr/share/julia/stdlib/v1.6/Dates/src/arithmetic.jl\" target=\"_blank\">C:\\Users\\Ryan\\AppData\\Local\\Programs\\Julia-1.6.0\\share\\julia\\stdlib\\v1.6\\Dates\\src\\arithmetic.jl:89</a></li> <li> +(z::<b>Complex{Bool}</b>, x::<b>Bool</b>) in Base at <a href=\"https://github.com/JuliaLang/julia/tree/f9720dc2ebd6cd9e3086365f281e62506444ef37/base/complex.jl#L287\" target=\"_blank\">complex.jl:287</a></li> <li> +(z::<b>Complex</b>, x::<b>Bool</b>) in Base at <a href=\"https://github.com/JuliaLang/julia/tree/f9720dc2ebd6cd9e3086365f281e62506444ef37/base/complex.jl#L294\" target=\"_blank\">complex.jl:294</a></li> <li> +(z::<b>Complex{Bool}</b>, x::<b>Real</b>) in Base at <a href=\"https://github.com/JuliaLang/julia/tree/f9720dc2ebd6cd9e3086365f281e62506444ef37/base/complex.jl#L301\" target=\"_blank\">complex.jl:301</a></li> <li> +(z::<b>Complex</b>) in Base at <a href=\"https://github.com/JuliaLang/julia/tree/f9720dc2ebd6cd9e3086365f281e62506444ef37/base/complex.jl#L273\" target=\"_blank\">complex.jl:273</a></li> <li> +(x::<b>Number</b>, y::<b>Base.TwicePrecision</b>) in Base at <a href=\"https://github.com/JuliaLang/julia/tree/f9720dc2ebd6cd9e3086365f281e62506444ef37/base/twiceprecision.jl#L271\" target=\"_blank\">twiceprecision.jl:271</a></li> <li> +(::<b>Number</b>, ::<b>Missing</b>) in Base at <a href=\"https://github.com/JuliaLang/julia/tree/f9720dc2ebd6cd9e3086365f281e62506444ef37/base/missing.jl#L117\" target=\"_blank\">missing.jl:117</a></li> <li> +(x::<b>Number</b>, J::<b>LinearAlgebra.UniformScaling</b>) in LinearAlgebra at <a href=\"file://C:/buildbot/worker/package_win64/build/usr/share/julia/stdlib/v1.6/LinearAlgebra/src/uniformscaling.jl\" target=\"_blank\">C:\\Users\\Ryan\\AppData\\Local\\Programs\\Julia-1.6.0\\share\\julia\\stdlib\\v1.6\\LinearAlgebra\\src\\uniformscaling.jl:146</a></li> <li> +(z::<b>Complex</b>, x::<b>Real</b>) in Base at <a href=\"https://github.com/JuliaLang/julia/tree/f9720dc2ebd6cd9e3086365f281e62506444ef37/base/complex.jl#L313\" target=\"_blank\">complex.jl:313</a></li> <li> +(x::<b>Float64</b>, y::<b>Float64</b>) in Base at <a href=\"https://github.com/JuliaLang/julia/tree/f9720dc2ebd6cd9e3086365f281e62506444ef37/base/float.jl#L326\" target=\"_blank\">float.jl:326</a></li> <li> +(t::<b>Dates.Time</b>, dt::<b>Dates.Date</b>) in Dates at <a href=\"file://C:/buildbot/worker/package_win64/build/usr/share/julia/stdlib/v1.6/Dates/src/arithmetic.jl\" target=\"_blank\">C:\\Users\\Ryan\\AppData\\Local\\Programs\\Julia-1.6.0\\share\\julia\\stdlib\\v1.6\\Dates\\src\\arithmetic.jl:20</a></li> <li> +(x::<b>Dates.Time</b>, y::<b>Dates.TimePeriod</b>) in Dates at <a href=\"file://C:/buildbot/worker/package_win64/build/usr/share/julia/stdlib/v1.6/Dates/src/arithmetic.jl\" target=\"_blank\">C:\\Users\\Ryan\\AppData\\Local\\Programs\\Julia-1.6.0\\share\\julia\\stdlib\\v1.6\\Dates\\src\\arithmetic.jl:83</a></li> <li> +(x::<b>Dates.TimeType</b>) in Dates at <a href=\"file://C:/buildbot/worker/package_win64/build/usr/share/julia/stdlib/v1.6/Dates/src/arithmetic.jl\" target=\"_blank\">C:\\Users\\Ryan\\AppData\\Local\\Programs\\Julia-1.6.0\\share\\julia\\stdlib\\v1.6\\Dates\\src\\arithmetic.jl:8</a></li> <li> +(a::<b>Dates.TimeType</b>, b::<b>Dates.Period</b>, c::<b>Dates.Period</b>) in Dates at <a href=\"file://C:/buildbot/worker/package_win64/build/usr/share/julia/stdlib/v1.6/Dates/src/periods.jl\" target=\"_blank\">C:\\Users\\Ryan\\AppData\\Local\\Programs\\Julia-1.6.0\\share\\julia\\stdlib\\v1.6\\Dates\\src\\periods.jl:373</a></li> <li> +(a::<b>Dates.TimeType</b>, b::<b>Dates.Period</b>, c::<b>Dates.Period</b>, d::<b>Dates.Period...</b>) in Dates at <a href=\"file://C:/buildbot/worker/package_win64/build/usr/share/julia/stdlib/v1.6/Dates/src/periods.jl\" target=\"_blank\">C:\\Users\\Ryan\\AppData\\Local\\Programs\\Julia-1.6.0\\share\\julia\\stdlib\\v1.6\\Dates\\src\\periods.jl:374</a></li> <li> +(x::<b>Dates.TimeType</b>, y::<b>Dates.CompoundPeriod</b>) in Dates at <a href=\"file://C:/buildbot/worker/package_win64/build/usr/share/julia/stdlib/v1.6/Dates/src/periods.jl\" target=\"_blank\">C:\\Users\\Ryan\\AppData\\Local\\Programs\\Julia-1.6.0\\share\\julia\\stdlib\\v1.6\\Dates\\src\\periods.jl:376</a></li> <li> +(x::<b>BigFloat</b>, y::<b>BigFloat</b>) in Base.MPFR at <a href=\"https://github.com/JuliaLang/julia/tree/f9720dc2ebd6cd9e3086365f281e62506444ef37/base/mpfr.jl#L364\" target=\"_blank\">mpfr.jl:364</a></li> <li> +(x::<b>BigFloat</b>, c::<b>Union{UInt16, UInt32, UInt8}</b>) in Base.MPFR at <a href=\"https://github.com/JuliaLang/julia/tree/f9720dc2ebd6cd9e3086365f281e62506444ef37/base/mpfr.jl#L371\" target=\"_blank\">mpfr.jl:371</a></li> <li> +(x::<b>BigFloat</b>, c::<b>Union{Int16, Int32, Int8}</b>) in Base.MPFR at <a href=\"https://github.com/JuliaLang/julia/tree/f9720dc2ebd6cd9e3086365f281e62506444ef37/base/mpfr.jl#L379\" target=\"_blank\">mpfr.jl:379</a></li> <li> +(x::<b>BigFloat</b>, c::<b>Union{Float16, Float32, Float64}</b>) in Base.MPFR at <a href=\"https://github.com/JuliaLang/julia/tree/f9720dc2ebd6cd9e3086365f281e62506444ef37/base/mpfr.jl#L387\" target=\"_blank\">mpfr.jl:387</a></li> <li> +(x::<b>BigFloat</b>, c::<b>BigInt</b>) in Base.MPFR at <a href=\"https://github.com/JuliaLang/julia/tree/f9720dc2ebd6cd9e3086365f281e62506444ef37/base/mpfr.jl#L395\" target=\"_blank\">mpfr.jl:395</a></li> <li> +(a::<b>BigFloat</b>, b::<b>BigFloat</b>, c::<b>BigFloat</b>) in Base.MPFR at <a href=\"https://github.com/JuliaLang/julia/tree/f9720dc2ebd6cd9e3086365f281e62506444ef37/base/mpfr.jl#L536\" target=\"_blank\">mpfr.jl:536</a></li> <li> +(a::<b>BigFloat</b>, b::<b>BigFloat</b>, c::<b>BigFloat</b>, d::<b>BigFloat</b>) in Base.MPFR at <a href=\"https://github.com/JuliaLang/julia/tree/f9720dc2ebd6cd9e3086365f281e62506444ef37/base/mpfr.jl#L542\" target=\"_blank\">mpfr.jl:542</a></li> <li> +(a::<b>BigFloat</b>, b::<b>BigFloat</b>, c::<b>BigFloat</b>, d::<b>BigFloat</b>, e::<b>BigFloat</b>) in Base.MPFR at <a href=\"https://github.com/JuliaLang/julia/tree/f9720dc2ebd6cd9e3086365f281e62506444ef37/base/mpfr.jl#L549\" target=\"_blank\">mpfr.jl:549</a></li> <li> +(x::<b>Number</b>) in Base at <a href=\"https://github.com/JuliaLang/julia/tree/f9720dc2ebd6cd9e3086365f281e62506444ef37/base/operators.jl#L515\" target=\"_blank\">operators.jl:515</a></li> <li> +(x::<b>T</b>, y::<b>T</b>)<i> where T<:Number</i> in Base at <a href=\"https://github.com/JuliaLang/julia/tree/f9720dc2ebd6cd9e3086365f281e62506444ef37/base/promotion.jl#L396\" target=\"_blank\">promotion.jl:396</a></li> <li> +(x::<b>Number</b>, y::<b>Number</b>) in Base at <a href=\"https://github.com/JuliaLang/julia/tree/f9720dc2ebd6cd9e3086365f281e62506444ef37/base/promotion.jl#L321\" target=\"_blank\">promotion.jl:321</a></li> <li> +(a, b, c, xs...) in Base at <a href=\"https://github.com/JuliaLang/julia/tree/f9720dc2ebd6cd9e3086365f281e62506444ef37/base/operators.jl#L560\" target=\"_blank\">operators.jl:560</a></li> </ul>"
      ],
      "text/plain": [
       "# 190 methods for generic function \"+\":\n",
       "[1] +(x::T, y::T) where T<:Union{Int128, Int16, Int32, Int64, Int8, UInt128, UInt16, UInt32, UInt64, UInt8} in Base at int.jl:87\n",
       "[2] +(c::Union{UInt16, UInt32, UInt8}, x::BigInt) in Base.GMP at gmp.jl:528\n",
       "[3] +(c::Union{Int16, Int32, Int8}, x::BigInt) in Base.GMP at gmp.jl:534\n",
       "[4] +(c::Union{UInt16, UInt32, UInt8}, x::BigFloat) in Base.MPFR at mpfr.jl:376\n",
       "[5] +(c::Union{Int16, Int32, Int8}, x::BigFloat) in Base.MPFR at mpfr.jl:384\n",
       "[6] +(c::Union{Float16, Float32, Float64}, x::BigFloat) in Base.MPFR at mpfr.jl:392\n",
       "[7] +(x::Union{Dates.CompoundPeriod, Dates.Period}) in Dates at C:\\Users\\Ryan\\AppData\\Local\\Programs\\Julia-1.6.0\\share\\julia\\stdlib\\v1.6\\Dates\\src\\periods.jl:362\n",
       "[8] +(A::LinearAlgebra.UnitLowerTriangular, B::LinearAlgebra.LowerTriangular) in LinearAlgebra at C:\\Users\\Ryan\\AppData\\Local\\Programs\\Julia-1.6.0\\share\\julia\\stdlib\\v1.6\\LinearAlgebra\\src\\triangular.jl:653\n",
       "[9] +(A::LinearAlgebra.UnitLowerTriangular, B::LinearAlgebra.UnitLowerTriangular) in LinearAlgebra at C:\\Users\\Ryan\\AppData\\Local\\Programs\\Julia-1.6.0\\share\\julia\\stdlib\\v1.6\\LinearAlgebra\\src\\triangular.jl:655\n",
       "[10] +(UL::LinearAlgebra.UnitLowerTriangular, J::LinearAlgebra.UniformScaling) in LinearAlgebra at C:\\Users\\Ryan\\AppData\\Local\\Programs\\Julia-1.6.0\\share\\julia\\stdlib\\v1.6\\LinearAlgebra\\src\\uniformscaling.jl:182\n",
       "[11] +(A::LinearAlgebra.UnitLowerTriangular, B::LinearAlgebra.Bidiagonal) in LinearAlgebra at C:\\Users\\Ryan\\AppData\\Local\\Programs\\Julia-1.6.0\\share\\julia\\stdlib\\v1.6\\LinearAlgebra\\src\\special.jl:86\n",
       "[12] +(r1::StepRangeLen{T, R, S} where S, r2::StepRangeLen{T, R, S} where S) where {R<:Base.TwicePrecision, T} in Base at twiceprecision.jl:574\n",
       "[13] +(r1::StepRangeLen{T, S, S1} where S1, r2::StepRangeLen{T, S, S1} where S1) where {T, S} in Base at range.jl:1124\n",
       "[14] +(x::Rational, y::Integer) in Base at rational.jl:288\n",
       "[15] +(x::Base.TwicePrecision, y::Number) in Base at twiceprecision.jl:267\n",
       "[16] +(x::Base.TwicePrecision{T}, y::Base.TwicePrecision{T}) where T in Base at twiceprecision.jl:273\n",
       "[17] +(x::Base.TwicePrecision, y::Base.TwicePrecision) in Base at twiceprecision.jl:278\n",
       "[18] +(Da::LinearAlgebra.Diagonal, Db::LinearAlgebra.Diagonal) in LinearAlgebra at C:\\Users\\Ryan\\AppData\\Local\\Programs\\Julia-1.6.0\\share\\julia\\stdlib\\v1.6\\LinearAlgebra\\src\\diagonal.jl:156\n",
       "[19] +(D::LinearAlgebra.Diagonal, S::LinearAlgebra.Symmetric) in LinearAlgebra at C:\\Users\\Ryan\\AppData\\Local\\Programs\\Julia-1.6.0\\share\\julia\\stdlib\\v1.6\\LinearAlgebra\\src\\diagonal.jl:160\n",
       "[20] +(D::LinearAlgebra.Diagonal{var\"#s832\", V} where {var\"#s832\"<:Real, V<:AbstractVector{var\"#s832\"}}, H::LinearAlgebra.Hermitian) in LinearAlgebra at C:\\Users\\Ryan\\AppData\\Local\\Programs\\Julia-1.6.0\\share\\julia\\stdlib\\v1.6\\LinearAlgebra\\src\\diagonal.jl:166\n",
       "[21] +(A::LinearAlgebra.Diagonal, B::LinearAlgebra.Bidiagonal) in LinearAlgebra at C:\\Users\\Ryan\\AppData\\Local\\Programs\\Julia-1.6.0\\share\\julia\\stdlib\\v1.6\\LinearAlgebra\\src\\special.jl:125\n",
       "[22] +(A::LinearAlgebra.Diagonal, B::LinearAlgebra.SymTridiagonal) in LinearAlgebra at C:\\Users\\Ryan\\AppData\\Local\\Programs\\Julia-1.6.0\\share\\julia\\stdlib\\v1.6\\LinearAlgebra\\src\\special.jl:135\n",
       "[23] +(A::LinearAlgebra.Diagonal, B::LinearAlgebra.Tridiagonal) in LinearAlgebra at C:\\Users\\Ryan\\AppData\\Local\\Programs\\Julia-1.6.0\\share\\julia\\stdlib\\v1.6\\LinearAlgebra\\src\\special.jl:163\n",
       "[24] +(A::LinearAlgebra.Diagonal{var\"#s832\", V} where {var\"#s832\"<:Number, V<:AbstractVector{var\"#s832\"}}, B::LinearAlgebra.UniformScaling) in LinearAlgebra at C:\\Users\\Ryan\\AppData\\Local\\Programs\\Julia-1.6.0\\share\\julia\\stdlib\\v1.6\\LinearAlgebra\\src\\special.jl:241\n",
       "[25] +(x::T, y::Integer) where T<:AbstractChar in Base at char.jl:223\n",
       "[26] +(A::SparseArrays.AbstractSparseMatrix{Tv, Ti} where {Tv, Ti}, B::LinearAlgebra.Hermitian{var\"#s832\", var\"#s831\"} where {var\"#s832\", var\"#s831\"<:(SparseArrays.AbstractSparseMatrix{Tv, Ti} where {Tv, Ti})}) in SparseArrays at C:\\Users\\Ryan\\AppData\\Local\\Programs\\Julia-1.6.0\\share\\julia\\stdlib\\v1.6\\SparseArrays\\src\\linalg.jl:14\n",
       "[27] +(A::SparseArrays.AbstractSparseMatrix{Tv, Ti} where {Tv, Ti}, B::LinearAlgebra.Hermitian) in SparseArrays at C:\\Users\\Ryan\\AppData\\Local\\Programs\\Julia-1.6.0\\share\\julia\\stdlib\\v1.6\\SparseArrays\\src\\linalg.jl:17\n",
       "[28] +(A::SparseArrays.AbstractSparseMatrix{Tv, Ti} where {Tv, Ti}, B::LinearAlgebra.Symmetric{var\"#s832\", var\"#s831\"} where {var\"#s832\", var\"#s831\"<:(SparseArrays.AbstractSparseMatrix{Tv, Ti} where {Tv, Ti})}) in SparseArrays at C:\\Users\\Ryan\\AppData\\Local\\Programs\\Julia-1.6.0\\share\\julia\\stdlib\\v1.6\\SparseArrays\\src\\linalg.jl:14\n",
       "[29] +(A::SparseArrays.AbstractSparseMatrix{Tv, Ti} where {Tv, Ti}, B::LinearAlgebra.Symmetric) in SparseArrays at C:\\Users\\Ryan\\AppData\\Local\\Programs\\Julia-1.6.0\\share\\julia\\stdlib\\v1.6\\SparseArrays\\src\\linalg.jl:17\n",
       "[30] +(A::SparseArrays.AbstractSparseMatrixCSC, B::SparseArrays.AbstractSparseMatrixCSC) in SparseArrays at C:\\Users\\Ryan\\AppData\\Local\\Programs\\Julia-1.6.0\\share\\julia\\stdlib\\v1.6\\SparseArrays\\src\\sparsematrix.jl:1741\n",
       "[31] +(x::SparseArrays.AbstractSparseVector{Tv, Ti} where {Tv, Ti}, y::SparseArrays.AbstractSparseVector{Tv, Ti} where {Tv, Ti}) in SparseArrays at C:\\Users\\Ryan\\AppData\\Local\\Programs\\Julia-1.6.0\\share\\julia\\stdlib\\v1.6\\SparseArrays\\src\\sparsevector.jl:1345\n",
       "[32] +(A::SparseArrays.AbstractSparseMatrixCSC, B::Array) in SparseArrays at C:\\Users\\Ryan\\AppData\\Local\\Programs\\Julia-1.6.0\\share\\julia\\stdlib\\v1.6\\SparseArrays\\src\\sparsematrix.jl:1744\n",
       "[33] +(A::SparseArrays.AbstractSparseMatrixCSC, J::LinearAlgebra.UniformScaling) in SparseArrays at C:\\Users\\Ryan\\AppData\\Local\\Programs\\Julia-1.6.0\\share\\julia\\stdlib\\v1.6\\SparseArrays\\src\\sparsematrix.jl:3797\n",
       "[34] +(r::AbstractRange{var\"#s832\"} where var\"#s832\"<:Dates.TimeType, x::Dates.Period) in Dates at C:\\Users\\Ryan\\AppData\\Local\\Programs\\Julia-1.6.0\\share\\julia\\stdlib\\v1.6\\Dates\\src\\ranges.jl:63\n",
       "[35] +(x::Dates.Instant) in Dates at C:\\Users\\Ryan\\AppData\\Local\\Programs\\Julia-1.6.0\\share\\julia\\stdlib\\v1.6\\Dates\\src\\arithmetic.jl:4\n",
       "[36] +(A::LinearAlgebra.Bidiagonal, B::LinearAlgebra.Bidiagonal) in LinearAlgebra at C:\\Users\\Ryan\\AppData\\Local\\Programs\\Julia-1.6.0\\share\\julia\\stdlib\\v1.6\\LinearAlgebra\\src\\bidiag.jl:354\n",
       "[37] +(A::LinearAlgebra.Bidiagonal, B::LinearAlgebra.UpperTriangular) in LinearAlgebra at C:\\Users\\Ryan\\AppData\\Local\\Programs\\Julia-1.6.0\\share\\julia\\stdlib\\v1.6\\LinearAlgebra\\src\\special.jl:94\n",
       "[38] +(A::LinearAlgebra.Bidiagonal, B::LinearAlgebra.UnitUpperTriangular) in LinearAlgebra at C:\\Users\\Ryan\\AppData\\Local\\Programs\\Julia-1.6.0\\share\\julia\\stdlib\\v1.6\\LinearAlgebra\\src\\special.jl:94\n",
       "[39] +(A::LinearAlgebra.Bidiagonal, B::LinearAlgebra.LowerTriangular) in LinearAlgebra at C:\\Users\\Ryan\\AppData\\Local\\Programs\\Julia-1.6.0\\share\\julia\\stdlib\\v1.6\\LinearAlgebra\\src\\special.jl:94\n",
       "[40] +(A::LinearAlgebra.Bidiagonal, B::LinearAlgebra.UnitLowerTriangular) in LinearAlgebra at C:\\Users\\Ryan\\AppData\\Local\\Programs\\Julia-1.6.0\\share\\julia\\stdlib\\v1.6\\LinearAlgebra\\src\\special.jl:94\n",
       "[41] +(A::LinearAlgebra.Bidiagonal, B::LinearAlgebra.Diagonal) in LinearAlgebra at C:\\Users\\Ryan\\AppData\\Local\\Programs\\Julia-1.6.0\\share\\julia\\stdlib\\v1.6\\LinearAlgebra\\src\\special.jl:115\n",
       "[42] +(A::LinearAlgebra.Bidiagonal, B::LinearAlgebra.Tridiagonal) in LinearAlgebra at C:\\Users\\Ryan\\AppData\\Local\\Programs\\Julia-1.6.0\\share\\julia\\stdlib\\v1.6\\LinearAlgebra\\src\\special.jl:183\n",
       "[43] +(A::LinearAlgebra.Bidiagonal, B::LinearAlgebra.SymTridiagonal) in LinearAlgebra at C:\\Users\\Ryan\\AppData\\Local\\Programs\\Julia-1.6.0\\share\\julia\\stdlib\\v1.6\\LinearAlgebra\\src\\special.jl:203\n",
       "[44] +(A::LinearAlgebra.Bidiagonal{var\"#s832\", V} where {var\"#s832\"<:Number, V<:AbstractVector{var\"#s832\"}}, B::LinearAlgebra.UniformScaling) in LinearAlgebra at C:\\Users\\Ryan\\AppData\\Local\\Programs\\Julia-1.6.0\\share\\julia\\stdlib\\v1.6\\LinearAlgebra\\src\\special.jl:236\n",
       "[45] +(z::Complex, w::Complex) in Base at complex.jl:275\n",
       "[46] +(A::LinearAlgebra.Hermitian, B::LinearAlgebra.Hermitian) in LinearAlgebra at C:\\Users\\Ryan\\AppData\\Local\\Programs\\Julia-1.6.0\\share\\julia\\stdlib\\v1.6\\LinearAlgebra\\src\\symmetric.jl:469\n",
       "[47] +(H::LinearAlgebra.Hermitian, D::LinearAlgebra.Diagonal{var\"#s832\", V} where {var\"#s832\"<:Real, V<:AbstractVector{var\"#s832\"}}) in LinearAlgebra at C:\\Users\\Ryan\\AppData\\Local\\Programs\\Julia-1.6.0\\share\\julia\\stdlib\\v1.6\\LinearAlgebra\\src\\diagonal.jl:169\n",
       "[48] +(A::LinearAlgebra.Hermitian, J::LinearAlgebra.UniformScaling{var\"#s832\"} where var\"#s832\"<:Complex) in LinearAlgebra at C:\\Users\\Ryan\\AppData\\Local\\Programs\\Julia-1.6.0\\share\\julia\\stdlib\\v1.6\\LinearAlgebra\\src\\uniformscaling.jl:196\n",
       "[49] +(A::LinearAlgebra.Hermitian{var\"#s830\", var\"#s829\"} where {var\"#s830\", var\"#s829\"<:(SparseArrays.AbstractSparseMatrix{Tv, Ti} where {Tv, Ti})}, B::SparseArrays.AbstractSparseMatrix{Tv, Ti} where {Tv, Ti}) in SparseArrays at C:\\Users\\Ryan\\AppData\\Local\\Programs\\Julia-1.6.0\\share\\julia\\stdlib\\v1.6\\SparseArrays\\src\\linalg.jl:15\n",
       "[50] +(A::LinearAlgebra.Hermitian, B::SparseArrays.AbstractSparseMatrix{Tv, Ti} where {Tv, Ti}) in SparseArrays at C:\\Users\\Ryan\\AppData\\Local\\Programs\\Julia-1.6.0\\share\\julia\\stdlib\\v1.6\\SparseArrays\\src\\linalg.jl:18\n",
       "[51] +(A::LinearAlgebra.Hermitian{var\"#s820\", var\"#s819\"} where {var\"#s820\", var\"#s819\"<:(SparseArrays.AbstractSparseMatrix{Tv, Ti} where {Tv, Ti})}, B::LinearAlgebra.Symmetric{var\"#s818\", var\"#s817\"} where {var\"#s818\"<:Real, var\"#s817\"<:(SparseArrays.AbstractSparseMatrix{Tv, Ti} where {Tv, Ti})}) in SparseArrays at C:\\Users\\Ryan\\AppData\\Local\\Programs\\Julia-1.6.0\\share\\julia\\stdlib\\v1.6\\SparseArrays\\src\\linalg.jl:26\n",
       "[52] +(A::LinearAlgebra.Hermitian, B::LinearAlgebra.Symmetric{var\"#s832\", S} where {var\"#s832\"<:Real, S<:(AbstractMatrix{var\"#s832\"} where var\"#s832\"<:var\"#s832\")}) in LinearAlgebra at C:\\Users\\Ryan\\AppData\\Local\\Programs\\Julia-1.6.0\\share\\julia\\stdlib\\v1.6\\LinearAlgebra\\src\\symmetric.jl:483\n",
       "[53] +(A::LinearAlgebra.Hermitian{var\"#s828\", var\"#s827\"} where {var\"#s828\", var\"#s827\"<:(SparseArrays.AbstractSparseMatrix{Tv, Ti} where {Tv, Ti})}, B::LinearAlgebra.Symmetric{var\"#s826\", var\"#s825\"} where {var\"#s826\", var\"#s825\"<:(SparseArrays.AbstractSparseMatrix{Tv, Ti} where {Tv, Ti})}) in SparseArrays at C:\\Users\\Ryan\\AppData\\Local\\Programs\\Julia-1.6.0\\share\\julia\\stdlib\\v1.6\\SparseArrays\\src\\linalg.jl:24\n",
       "[54] +(A::LinearAlgebra.SymTridiagonal, B::LinearAlgebra.SymTridiagonal) in LinearAlgebra at C:\\Users\\Ryan\\AppData\\Local\\Programs\\Julia-1.6.0\\share\\julia\\stdlib\\v1.6\\LinearAlgebra\\src\\tridiag.jl:205\n",
       "[55] +(A::LinearAlgebra.SymTridiagonal, B::LinearAlgebra.Diagonal) in LinearAlgebra at C:\\Users\\Ryan\\AppData\\Local\\Programs\\Julia-1.6.0\\share\\julia\\stdlib\\v1.6\\LinearAlgebra\\src\\special.jl:145\n",
       "[56] +(A::LinearAlgebra.SymTridiagonal, B::LinearAlgebra.Tridiagonal) in LinearAlgebra at C:\\Users\\Ryan\\AppData\\Local\\Programs\\Julia-1.6.0\\share\\julia\\stdlib\\v1.6\\LinearAlgebra\\src\\special.jl:159\n",
       "[57] +(A::LinearAlgebra.SymTridiagonal, B::LinearAlgebra.Bidiagonal) in LinearAlgebra at C:\\Users\\Ryan\\AppData\\Local\\Programs\\Julia-1.6.0\\share\\julia\\stdlib\\v1.6\\LinearAlgebra\\src\\special.jl:213\n",
       "[58] +(A::LinearAlgebra.SymTridiagonal{var\"#s832\", V} where {var\"#s832\"<:Number, V<:AbstractVector{var\"#s832\"}}, B::LinearAlgebra.UniformScaling) in LinearAlgebra at C:\\Users\\Ryan\\AppData\\Local\\Programs\\Julia-1.6.0\\share\\julia\\stdlib\\v1.6\\LinearAlgebra\\src\\special.jl:231\n",
       "[59] +(y::Dates.TimeType, x::StridedArray{var\"#s832\", N} where {var\"#s832\"<:Union{Dates.CompoundPeriod, Dates.Period}, N}) in Dates at C:\\Users\\Ryan\\AppData\\Local\\Programs\\Julia-1.6.0\\share\\julia\\stdlib\\v1.6\\Dates\\src\\deprecated.jl:18\n",
       "[60] +(J::LinearAlgebra.UniformScaling) in LinearAlgebra at C:\\Users\\Ryan\\AppData\\Local\\Programs\\Julia-1.6.0\\share\\julia\\stdlib\\v1.6\\LinearAlgebra\\src\\uniformscaling.jl:150\n",
       "[61] +(J::LinearAlgebra.UniformScaling, x::Number) in LinearAlgebra at C:\\Users\\Ryan\\AppData\\Local\\Programs\\Julia-1.6.0\\share\\julia\\stdlib\\v1.6\\LinearAlgebra\\src\\uniformscaling.jl:145\n",
       "[62] +(J1::LinearAlgebra.UniformScaling, J2::LinearAlgebra.UniformScaling) in LinearAlgebra at C:\\Users\\Ryan\\AppData\\Local\\Programs\\Julia-1.6.0\\share\\julia\\stdlib\\v1.6\\LinearAlgebra\\src\\uniformscaling.jl:151\n",
       "[63] +(J::LinearAlgebra.UniformScaling, B::BitMatrix) in LinearAlgebra at C:\\Users\\Ryan\\AppData\\Local\\Programs\\Julia-1.6.0\\share\\julia\\stdlib\\v1.6\\LinearAlgebra\\src\\uniformscaling.jl:153\n",
       "[64] +(J::LinearAlgebra.UniformScaling, F::LinearAlgebra.Hessenberg) in LinearAlgebra at C:\\Users\\Ryan\\AppData\\Local\\Programs\\Julia-1.6.0\\share\\julia\\stdlib\\v1.6\\LinearAlgebra\\src\\hessenberg.jl:560\n",
       "[65] +(A::LinearAlgebra.UniformScaling, B::LinearAlgebra.Tridiagonal{var\"#s832\", V} where {var\"#s832\"<:Number, V<:AbstractVector{var\"#s832\"}}) in LinearAlgebra at C:\\Users\\Ryan\\AppData\\Local\\Programs\\Julia-1.6.0\\share\\julia\\stdlib\\v1.6\\LinearAlgebra\\src\\special.jl:245\n",
       "[66] +(A::LinearAlgebra.UniformScaling, B::LinearAlgebra.SymTridiagonal{var\"#s832\", V} where {var\"#s832\"<:Number, V<:AbstractVector{var\"#s832\"}}) in LinearAlgebra at C:\\Users\\Ryan\\AppData\\Local\\Programs\\Julia-1.6.0\\share\\julia\\stdlib\\v1.6\\LinearAlgebra\\src\\special.jl:250\n",
       "[67] +(A::LinearAlgebra.UniformScaling, B::LinearAlgebra.Bidiagonal{var\"#s832\", V} where {var\"#s832\"<:Number, V<:AbstractVector{var\"#s832\"}}) in LinearAlgebra at C:\\Users\\Ryan\\AppData\\Local\\Programs\\Julia-1.6.0\\share\\julia\\stdlib\\v1.6\\LinearAlgebra\\src\\special.jl:255\n",
       "[68] +(A::LinearAlgebra.UniformScaling, B::LinearAlgebra.Diagonal{var\"#s832\", V} where {var\"#s832\"<:Number, V<:AbstractVector{var\"#s832\"}}) in LinearAlgebra at C:\\Users\\Ryan\\AppData\\Local\\Programs\\Julia-1.6.0\\share\\julia\\stdlib\\v1.6\\LinearAlgebra\\src\\special.jl:260\n",
       "[69] +(J::LinearAlgebra.UniformScaling, A::AbstractMatrix{T} where T) in LinearAlgebra at C:\\Users\\Ryan\\AppData\\Local\\Programs\\Julia-1.6.0\\share\\julia\\stdlib\\v1.6\\LinearAlgebra\\src\\uniformscaling.jl:154\n",
       "[70] +(A::LinearAlgebra.Symmetric, B::LinearAlgebra.Symmetric) in LinearAlgebra at C:\\Users\\Ryan\\AppData\\Local\\Programs\\Julia-1.6.0\\share\\julia\\stdlib\\v1.6\\LinearAlgebra\\src\\symmetric.jl:469\n",
       "[71] +(S::LinearAlgebra.Symmetric, D::LinearAlgebra.Diagonal) in LinearAlgebra at C:\\Users\\Ryan\\AppData\\Local\\Programs\\Julia-1.6.0\\share\\julia\\stdlib\\v1.6\\LinearAlgebra\\src\\diagonal.jl:163\n",
       "[72] +(A::LinearAlgebra.Symmetric{var\"#s830\", var\"#s829\"} where {var\"#s830\", var\"#s829\"<:(SparseArrays.AbstractSparseMatrix{Tv, Ti} where {Tv, Ti})}, B::SparseArrays.AbstractSparseMatrix{Tv, Ti} where {Tv, Ti}) in SparseArrays at C:\\Users\\Ryan\\AppData\\Local\\Programs\\Julia-1.6.0\\share\\julia\\stdlib\\v1.6\\SparseArrays\\src\\linalg.jl:15\n",
       "[73] +(A::LinearAlgebra.Symmetric, B::SparseArrays.AbstractSparseMatrix{Tv, Ti} where {Tv, Ti}) in SparseArrays at C:\\Users\\Ryan\\AppData\\Local\\Programs\\Julia-1.6.0\\share\\julia\\stdlib\\v1.6\\SparseArrays\\src\\linalg.jl:18\n",
       "[74] +(A::LinearAlgebra.Symmetric{var\"#s824\", var\"#s823\"} where {var\"#s824\"<:Real, var\"#s823\"<:(SparseArrays.AbstractSparseMatrix{Tv, Ti} where {Tv, Ti})}, B::LinearAlgebra.Hermitian{var\"#s822\", var\"#s821\"} where {var\"#s822\", var\"#s821\"<:(SparseArrays.AbstractSparseMatrix{Tv, Ti} where {Tv, Ti})}) in SparseArrays at C:\\Users\\Ryan\\AppData\\Local\\Programs\\Julia-1.6.0\\share\\julia\\stdlib\\v1.6\\SparseArrays\\src\\linalg.jl:25\n",
       "[75] +(A::LinearAlgebra.Symmetric{var\"#s831\", S} where {var\"#s831\"<:Real, S<:(AbstractMatrix{var\"#s832\"} where var\"#s832\"<:var\"#s831\")}, B::LinearAlgebra.Hermitian) in LinearAlgebra at C:\\Users\\Ryan\\AppData\\Local\\Programs\\Julia-1.6.0\\share\\julia\\stdlib\\v1.6\\LinearAlgebra\\src\\symmetric.jl:484\n",
       "[76] +(A::LinearAlgebra.Symmetric{var\"#s832\", var\"#s831\"} where {var\"#s832\", var\"#s831\"<:(SparseArrays.AbstractSparseMatrix{Tv, Ti} where {Tv, Ti})}, B::LinearAlgebra.Hermitian{var\"#s830\", var\"#s829\"} where {var\"#s830\", var\"#s829\"<:(SparseArrays.AbstractSparseMatrix{Tv, Ti} where {Tv, Ti})}) in SparseArrays at C:\\Users\\Ryan\\AppData\\Local\\Programs\\Julia-1.6.0\\share\\julia\\stdlib\\v1.6\\SparseArrays\\src\\linalg.jl:23\n",
       "[77] +(A::LinearAlgebra.Tridiagonal, B::LinearAlgebra.Tridiagonal) in LinearAlgebra at C:\\Users\\Ryan\\AppData\\Local\\Programs\\Julia-1.6.0\\share\\julia\\stdlib\\v1.6\\LinearAlgebra\\src\\tridiag.jl:733\n",
       "[78] +(A::LinearAlgebra.Tridiagonal, B::LinearAlgebra.SymTridiagonal) in LinearAlgebra at C:\\Users\\Ryan\\AppData\\Local\\Programs\\Julia-1.6.0\\share\\julia\\stdlib\\v1.6\\LinearAlgebra\\src\\special.jl:157\n",
       "[79] +(A::LinearAlgebra.Tridiagonal, B::LinearAlgebra.Diagonal) in LinearAlgebra at C:\\Users\\Ryan\\AppData\\Local\\Programs\\Julia-1.6.0\\share\\julia\\stdlib\\v1.6\\LinearAlgebra\\src\\special.jl:173\n",
       "[80] +(A::LinearAlgebra.Tridiagonal, B::LinearAlgebra.Bidiagonal) in LinearAlgebra at C:\\Users\\Ryan\\AppData\\Local\\Programs\\Julia-1.6.0\\share\\julia\\stdlib\\v1.6\\LinearAlgebra\\src\\special.jl:193\n",
       "[81] +(A::LinearAlgebra.Tridiagonal{var\"#s832\", V} where {var\"#s832\"<:Number, V<:AbstractVector{var\"#s832\"}}, B::LinearAlgebra.UniformScaling) in LinearAlgebra at C:\\Users\\Ryan\\AppData\\Local\\Programs\\Julia-1.6.0\\share\\julia\\stdlib\\v1.6\\LinearAlgebra\\src\\special.jl:226\n",
       "[82] +(A::LinearAlgebra.LowerTriangular, B::LinearAlgebra.LowerTriangular) in LinearAlgebra at C:\\Users\\Ryan\\AppData\\Local\\Programs\\Julia-1.6.0\\share\\julia\\stdlib\\v1.6\\LinearAlgebra\\src\\triangular.jl:649\n",
       "[83] +(A::LinearAlgebra.LowerTriangular, B::LinearAlgebra.UnitLowerTriangular) in LinearAlgebra at C:\\Users\\Ryan\\AppData\\Local\\Programs\\Julia-1.6.0\\share\\julia\\stdlib\\v1.6\\LinearAlgebra\\src\\triangular.jl:651\n",
       "[84] +(A::LinearAlgebra.LowerTriangular, B::LinearAlgebra.Bidiagonal) in LinearAlgebra at C:\\Users\\Ryan\\AppData\\Local\\Programs\\Julia-1.6.0\\share\\julia\\stdlib\\v1.6\\LinearAlgebra\\src\\special.jl:86\n",
       "[85] +(r1::OrdinalRange, r2::OrdinalRange) in Base at range.jl:1101\n",
       "[86] +(A::Array, Bs::Array...) in Base at arraymath.jl:43\n",
       "[87] +(X::StridedArray{var\"#s832\", N} where {var\"#s832\"<:Union{Dates.CompoundPeriod, Dates.Period}, N}, Y::StridedArray{var\"#s831\", N} where {var\"#s831\"<:Union{Dates.CompoundPeriod, Dates.Period}, N}) in Dates at C:\\Users\\Ryan\\AppData\\Local\\Programs\\Julia-1.6.0\\share\\julia\\stdlib\\v1.6\\Dates\\src\\deprecated.jl:62\n",
       "[88] +(A::Array, B::SparseArrays.AbstractSparseMatrixCSC) in SparseArrays at C:\\Users\\Ryan\\AppData\\Local\\Programs\\Julia-1.6.0\\share\\julia\\stdlib\\v1.6\\SparseArrays\\src\\sparsematrix.jl:1745\n",
       "[89] +(x::StridedArray{var\"#s832\", N} where {var\"#s832\"<:Union{Dates.CompoundPeriod, Dates.Period}, N}) in Dates at C:\\Users\\Ryan\\AppData\\Local\\Programs\\Julia-1.6.0\\share\\julia\\stdlib\\v1.6\\Dates\\src\\deprecated.jl:55\n",
       "[90] +(x::StridedArray{var\"#s832\", N} where {var\"#s832\"<:Union{Dates.CompoundPeriod, Dates.Period}, N}, y::Dates.TimeType) in Dates at C:\\Users\\Ryan\\AppData\\Local\\Programs\\Julia-1.6.0\\share\\julia\\stdlib\\v1.6\\Dates\\src\\deprecated.jl:10\n",
       "[91] +(A::LinearAlgebra.UpperHessenberg, B::LinearAlgebra.UpperHessenberg) in LinearAlgebra at C:\\Users\\Ryan\\AppData\\Local\\Programs\\Julia-1.6.0\\share\\julia\\stdlib\\v1.6\\LinearAlgebra\\src\\hessenberg.jl:101\n",
       "[92] +(H::LinearAlgebra.UpperHessenberg, J::LinearAlgebra.UniformScaling) in LinearAlgebra at C:\\Users\\Ryan\\AppData\\Local\\Programs\\Julia-1.6.0\\share\\julia\\stdlib\\v1.6\\LinearAlgebra\\src\\hessenberg.jl:106\n",
       "[93] +(y::AbstractFloat, x::Bool) in Base at bool.jl:102\n",
       "[94] +(A::BitArray, B::BitArray) in Base at bitarray.jl:1127\n",
       "[95] +(x::Ptr, y::Integer) in Base at pointer.jl:159\n",
       "[96] +(x::Dates.AbstractTime, y::Missing) in Dates at C:\\Users\\Ryan\\AppData\\Local\\Programs\\Julia-1.6.0\\share\\julia\\stdlib\\v1.6\\Dates\\src\\arithmetic.jl:88\n",
       "[97] +(A::LinearAlgebra.UpperTriangular, B::LinearAlgebra.UpperTriangular) in LinearAlgebra at C:\\Users\\Ryan\\AppData\\Local\\Programs\\Julia-1.6.0\\share\\julia\\stdlib\\v1.6\\LinearAlgebra\\src\\triangular.jl:648\n",
       "[98] +(A::LinearAlgebra.UpperTriangular, B::LinearAlgebra.UnitUpperTriangular) in LinearAlgebra at C:\\Users\\Ryan\\AppData\\Local\\Programs\\Julia-1.6.0\\share\\julia\\stdlib\\v1.6\\LinearAlgebra\\src\\triangular.jl:650\n",
       "[99] +(A::LinearAlgebra.UpperTriangular, B::LinearAlgebra.Bidiagonal) in LinearAlgebra at C:\\Users\\Ryan\\AppData\\Local\\Programs\\Julia-1.6.0\\share\\julia\\stdlib\\v1.6\\LinearAlgebra\\src\\special.jl:86\n",
       "[100] +(r1::LinRange{T}, r2::LinRange{T}) where T in Base at range.jl:1108\n",
       "[101] +(r1::Union{LinRange, OrdinalRange, StepRangeLen}, r2::Union{LinRange, OrdinalRange, StepRangeLen}) in Base at range.jl:1117\n",
       "[102] +(index1::CartesianIndex{N}, index2::CartesianIndex{N}) where N in Base.IteratorsMD at multidimensional.jl:114\n",
       "[103] +(x::AbstractArray{var\"#s832\", N} where {var\"#s832\"<:Dates.TimeType, N}, y::Union{Dates.CompoundPeriod, Dates.Period}) in Dates at C:\\Users\\Ryan\\AppData\\Local\\Programs\\Julia-1.6.0\\share\\julia\\stdlib\\v1.6\\Dates\\src\\deprecated.jl:6\n",
       "[104] +(A::LinearAlgebra.UnitUpperTriangular, B::LinearAlgebra.UpperTriangular) in LinearAlgebra at C:\\Users\\Ryan\\AppData\\Local\\Programs\\Julia-1.6.0\\share\\julia\\stdlib\\v1.6\\LinearAlgebra\\src\\triangular.jl:652\n",
       "[105] +(A::LinearAlgebra.UnitUpperTriangular, B::LinearAlgebra.UnitUpperTriangular) in LinearAlgebra at C:\\Users\\Ryan\\AppData\\Local\\Programs\\Julia-1.6.0\\share\\julia\\stdlib\\v1.6\\LinearAlgebra\\src\\triangular.jl:654\n",
       "[106] +(A::LinearAlgebra.AbstractTriangular, B::LinearAlgebra.AbstractTriangular) in LinearAlgebra at C:\\Users\\Ryan\\AppData\\Local\\Programs\\Julia-1.6.0\\share\\julia\\stdlib\\v1.6\\LinearAlgebra\\src\\triangular.jl:656\n",
       "[107] +(UL::LinearAlgebra.UnitUpperTriangular, J::LinearAlgebra.UniformScaling) in LinearAlgebra at C:\\Users\\Ryan\\AppData\\Local\\Programs\\Julia-1.6.0\\share\\julia\\stdlib\\v1.6\\LinearAlgebra\\src\\uniformscaling.jl:182\n",
       "[108] +(A::LinearAlgebra.UnitUpperTriangular, B::LinearAlgebra.Bidiagonal) in LinearAlgebra at C:\\Users\\Ryan\\AppData\\Local\\Programs\\Julia-1.6.0\\share\\julia\\stdlib\\v1.6\\LinearAlgebra\\src\\special.jl:86\n",
       "[109] +(A::AbstractArray, B::AbstractArray) in Base at arraymath.jl:37\n",
       "[110] +(x::P, y::P) where P<:Dates.Period in Dates at C:\\Users\\Ryan\\AppData\\Local\\Programs\\Julia-1.6.0\\share\\julia\\stdlib\\v1.6\\Dates\\src\\periods.jl:79\n",
       "[111] +(x::Dates.Period, y::Dates.Period) in Dates at C:\\Users\\Ryan\\AppData\\Local\\Programs\\Julia-1.6.0\\share\\julia\\stdlib\\v1.6\\Dates\\src\\periods.jl:351\n",
       "[112] +(y::Dates.Period, x::Dates.CompoundPeriod) in Dates at C:\\Users\\Ryan\\AppData\\Local\\Programs\\Julia-1.6.0\\share\\julia\\stdlib\\v1.6\\Dates\\src\\periods.jl:353\n",
       "[113] +(y::Dates.Period, x::Dates.TimeType) in Dates at C:\\Users\\Ryan\\AppData\\Local\\Programs\\Julia-1.6.0\\share\\julia\\stdlib\\v1.6\\Dates\\src\\arithmetic.jl:85\n",
       "[114] +(x::Dates.Period, r::AbstractRange{var\"#s832\"} where var\"#s832\"<:Dates.TimeType) in Dates at C:\\Users\\Ryan\\AppData\\Local\\Programs\\Julia-1.6.0\\share\\julia\\stdlib\\v1.6\\Dates\\src\\ranges.jl:62\n",
       "[115] +(y::Union{Dates.CompoundPeriod, Dates.Period}, x::AbstractArray{var\"#s832\", N} where {var\"#s832\"<:Dates.TimeType, N}) in Dates at C:\\Users\\Ryan\\AppData\\Local\\Programs\\Julia-1.6.0\\share\\julia\\stdlib\\v1.6\\Dates\\src\\deprecated.jl:14\n",
       "[116] +(F::LinearAlgebra.Hessenberg, J::LinearAlgebra.UniformScaling) in LinearAlgebra at C:\\Users\\Ryan\\AppData\\Local\\Programs\\Julia-1.6.0\\share\\julia\\stdlib\\v1.6\\LinearAlgebra\\src\\hessenberg.jl:559\n",
       "[117] +(x::AbstractIrrational, y::AbstractIrrational) in Base at irrationals.jl:156\n",
       "[118] +(x::BigInt, y::BigInt) in Base.GMP at gmp.jl:479\n",
       "[119] +(a::BigInt, b::BigInt, c::BigInt) in Base.GMP at gmp.jl:519\n",
       "[120] +(a::BigInt, b::BigInt, c::BigInt, d::BigInt) in Base.GMP at gmp.jl:520\n",
       "[121] +(a::BigInt, b::BigInt, c::BigInt, d::BigInt, e::BigInt) in Base.GMP at gmp.jl:521\n",
       "[122] +(x::BigInt, c::Union{UInt16, UInt32, UInt8}) in Base.GMP at gmp.jl:527\n",
       "[123] +(x::BigInt, c::Union{Int16, Int32, Int8}) in Base.GMP at gmp.jl:533\n",
       "[124] +(c::BigInt, x::BigFloat) in Base.MPFR at mpfr.jl:400\n",
       "[125] +(x::Float16, y::Float16) in Base at float.jl:324\n",
       "[126] +(a::Pkg.Resolve.FieldValue, b::Pkg.Resolve.FieldValue) in Pkg.Resolve at C:\\Users\\Ryan\\AppData\\Local\\Programs\\Julia-1.6.0\\share\\julia\\stdlib\\v1.6\\Pkg\\src\\Resolve\\fieldvalues.jl:43\n",
       "[127] +(dt::Dates.Date, t::Dates.Time) in Dates at C:\\Users\\Ryan\\AppData\\Local\\Programs\\Julia-1.6.0\\share\\julia\\stdlib\\v1.6\\Dates\\src\\arithmetic.jl:19\n",
       "[128] +(dt::Dates.Date, y::Dates.Year) in Dates at C:\\Users\\Ryan\\AppData\\Local\\Programs\\Julia-1.6.0\\share\\julia\\stdlib\\v1.6\\Dates\\src\\arithmetic.jl:27\n",
       "[129] +(dt::Dates.Date, z::Dates.Month) in Dates at C:\\Users\\Ryan\\AppData\\Local\\Programs\\Julia-1.6.0\\share\\julia\\stdlib\\v1.6\\Dates\\src\\arithmetic.jl:54\n",
       "[130] +(x::Dates.Date, y::Dates.Quarter) in Dates at C:\\Users\\Ryan\\AppData\\Local\\Programs\\Julia-1.6.0\\share\\julia\\stdlib\\v1.6\\Dates\\src\\arithmetic.jl:73\n",
       "[131] +(x::Dates.Date, y::Dates.Week) in Dates at C:\\Users\\Ryan\\AppData\\Local\\Programs\\Julia-1.6.0\\share\\julia\\stdlib\\v1.6\\Dates\\src\\arithmetic.jl:77\n",
       "[132] +(x::Dates.Date, y::Dates.Day) in Dates at C:\\Users\\Ryan\\AppData\\Local\\Programs\\Julia-1.6.0\\share\\julia\\stdlib\\v1.6\\Dates\\src\\arithmetic.jl:79\n",
       "[133] +(level::Base.CoreLogging.LogLevel, inc::Integer) in Base.CoreLogging at logging.jl:131\n",
       "[134] +(x::Float32, y::Float32) in Base at float.jl:325\n",
       "[135] +(B::BitMatrix, J::LinearAlgebra.UniformScaling) in LinearAlgebra at C:\\Users\\Ryan\\AppData\\Local\\Programs\\Julia-1.6.0\\share\\julia\\stdlib\\v1.6\\LinearAlgebra\\src\\uniformscaling.jl:152\n",
       "[136] +(A::AbstractMatrix{T} where T, J::LinearAlgebra.UniformScaling) in LinearAlgebra at C:\\Users\\Ryan\\AppData\\Local\\Programs\\Julia-1.6.0\\share\\julia\\stdlib\\v1.6\\LinearAlgebra\\src\\uniformscaling.jl:215\n",
       "[137] +(x::AbstractArray{var\"#s79\", N} where {var\"#s79\"<:Number, N}) in Base at abstractarraymath.jl:97\n",
       "[138] +(x::Rational{BigInt}, y::Rational{BigInt}) in Base.GMP.MPQ at gmp.jl:886\n",
       "[139] +(x::Rational) in Base at rational.jl:267\n",
       "[140] +(x::Rational, y::Rational) in Base at rational.jl:283\n",
       "[141] +(a::Pkg.Resolve.VersionWeight, b::Pkg.Resolve.VersionWeight) in Pkg.Resolve at C:\\Users\\Ryan\\AppData\\Local\\Programs\\Julia-1.6.0\\share\\julia\\stdlib\\v1.6\\Pkg\\src\\Resolve\\versionweights.jl:22\n",
       "[142] +(x::Dates.CompoundPeriod, y::Dates.Period) in Dates at C:\\Users\\Ryan\\AppData\\Local\\Programs\\Julia-1.6.0\\share\\julia\\stdlib\\v1.6\\Dates\\src\\periods.jl:352\n",
       "[143] +(x::Dates.CompoundPeriod, y::Dates.CompoundPeriod) in Dates at C:\\Users\\Ryan\\AppData\\Local\\Programs\\Julia-1.6.0\\share\\julia\\stdlib\\v1.6\\Dates\\src\\periods.jl:354\n",
       "[144] +(x::Dates.CompoundPeriod, y::Dates.TimeType) in Dates at C:\\Users\\Ryan\\AppData\\Local\\Programs\\Julia-1.6.0\\share\\julia\\stdlib\\v1.6\\Dates\\src\\periods.jl:382\n",
       "[145] +(x::Bool) in Base at bool.jl:89\n",
       "[146] +(x::Integer, y::Ptr) in Base at pointer.jl:161\n",
       "[147] +(y::Integer, x::Rational) in Base at rational.jl:295\n",
       "[148] +(x::Integer, y::AbstractChar) in Base at char.jl:224\n",
       "[149] +(x::Bool, y::Bool) in Base at bool.jl:92\n",
       "[150] +(a::Integer, b::Integer) in Base at int.jl:919\n",
       "[151] +(x::Bool, y::T) where T<:AbstractFloat in Base at bool.jl:99\n",
       "[152] +(x::Bool, z::Complex{Bool}) in Base at complex.jl:286\n",
       "[153] +(x::Real, z::Complex{Bool}) in Base at complex.jl:300\n",
       "[154] +(x::Bool, z::Complex) in Base at complex.jl:293\n",
       "[155] +(x::Real, z::Complex) in Base at complex.jl:312\n",
       "[156] +(dt::Dates.DateTime, y::Dates.Year) in Dates at C:\\Users\\Ryan\\AppData\\Local\\Programs\\Julia-1.6.0\\share\\julia\\stdlib\\v1.6\\Dates\\src\\arithmetic.jl:23\n",
       "[157] +(dt::Dates.DateTime, z::Dates.Month) in Dates at C:\\Users\\Ryan\\AppData\\Local\\Programs\\Julia-1.6.0\\share\\julia\\stdlib\\v1.6\\Dates\\src\\arithmetic.jl:47\n",
       "[158] +(x::Dates.DateTime, y::Dates.Quarter) in Dates at C:\\Users\\Ryan\\AppData\\Local\\Programs\\Julia-1.6.0\\share\\julia\\stdlib\\v1.6\\Dates\\src\\arithmetic.jl:75\n",
       "[159] +(x::Dates.DateTime, y::Dates.Period) in Dates at C:\\Users\\Ryan\\AppData\\Local\\Programs\\Julia-1.6.0\\share\\julia\\stdlib\\v1.6\\Dates\\src\\arithmetic.jl:81\n",
       "[160] +(::Missing) in Base at missing.jl:101\n",
       "[161] +(::Missing, ::Missing) in Base at missing.jl:115\n",
       "[162] +(::Missing, ::Number) in Base at missing.jl:116\n",
       "[163] +(x::Missing, y::Dates.AbstractTime) in Dates at C:\\Users\\Ryan\\AppData\\Local\\Programs\\Julia-1.6.0\\share\\julia\\stdlib\\v1.6\\Dates\\src\\arithmetic.jl:89\n",
       "[164] +(z::Complex{Bool}, x::Bool) in Base at complex.jl:287\n",
       "[165] +(z::Complex, x::Bool) in Base at complex.jl:294\n",
       "[166] +(z::Complex{Bool}, x::Real) in Base at complex.jl:301\n",
       "[167] +(z::Complex) in Base at complex.jl:273\n",
       "[168] +(x::Number, y::Base.TwicePrecision) in Base at twiceprecision.jl:271\n",
       "[169] +(::Number, ::Missing) in Base at missing.jl:117\n",
       "[170] +(x::Number, J::LinearAlgebra.UniformScaling) in LinearAlgebra at C:\\Users\\Ryan\\AppData\\Local\\Programs\\Julia-1.6.0\\share\\julia\\stdlib\\v1.6\\LinearAlgebra\\src\\uniformscaling.jl:146\n",
       "[171] +(z::Complex, x::Real) in Base at complex.jl:313\n",
       "[172] +(x::Float64, y::Float64) in Base at float.jl:326\n",
       "[173] +(t::Dates.Time, dt::Dates.Date) in Dates at C:\\Users\\Ryan\\AppData\\Local\\Programs\\Julia-1.6.0\\share\\julia\\stdlib\\v1.6\\Dates\\src\\arithmetic.jl:20\n",
       "[174] +(x::Dates.Time, y::Dates.TimePeriod) in Dates at C:\\Users\\Ryan\\AppData\\Local\\Programs\\Julia-1.6.0\\share\\julia\\stdlib\\v1.6\\Dates\\src\\arithmetic.jl:83\n",
       "[175] +(x::Dates.TimeType) in Dates at C:\\Users\\Ryan\\AppData\\Local\\Programs\\Julia-1.6.0\\share\\julia\\stdlib\\v1.6\\Dates\\src\\arithmetic.jl:8\n",
       "[176] +(a::Dates.TimeType, b::Dates.Period, c::Dates.Period) in Dates at C:\\Users\\Ryan\\AppData\\Local\\Programs\\Julia-1.6.0\\share\\julia\\stdlib\\v1.6\\Dates\\src\\periods.jl:373\n",
       "[177] +(a::Dates.TimeType, b::Dates.Period, c::Dates.Period, d::Dates.Period...) in Dates at C:\\Users\\Ryan\\AppData\\Local\\Programs\\Julia-1.6.0\\share\\julia\\stdlib\\v1.6\\Dates\\src\\periods.jl:374\n",
       "[178] +(x::Dates.TimeType, y::Dates.CompoundPeriod) in Dates at C:\\Users\\Ryan\\AppData\\Local\\Programs\\Julia-1.6.0\\share\\julia\\stdlib\\v1.6\\Dates\\src\\periods.jl:376\n",
       "[179] +(x::BigFloat, y::BigFloat) in Base.MPFR at mpfr.jl:364\n",
       "[180] +(x::BigFloat, c::Union{UInt16, UInt32, UInt8}) in Base.MPFR at mpfr.jl:371\n",
       "[181] +(x::BigFloat, c::Union{Int16, Int32, Int8}) in Base.MPFR at mpfr.jl:379\n",
       "[182] +(x::BigFloat, c::Union{Float16, Float32, Float64}) in Base.MPFR at mpfr.jl:387\n",
       "[183] +(x::BigFloat, c::BigInt) in Base.MPFR at mpfr.jl:395\n",
       "[184] +(a::BigFloat, b::BigFloat, c::BigFloat) in Base.MPFR at mpfr.jl:536\n",
       "[185] +(a::BigFloat, b::BigFloat, c::BigFloat, d::BigFloat) in Base.MPFR at mpfr.jl:542\n",
       "[186] +(a::BigFloat, b::BigFloat, c::BigFloat, d::BigFloat, e::BigFloat) in Base.MPFR at mpfr.jl:549\n",
       "[187] +(x::Number) in Base at operators.jl:515\n",
       "[188] +(x::T, y::T) where T<:Number in Base at promotion.jl:396\n",
       "[189] +(x::Number, y::Number) in Base at promotion.jl:321\n",
       "[190] +(a, b, c, xs...) in Base at operators.jl:560"
      ]
     },
     "execution_count": 1,
     "metadata": {},
     "output_type": "execute_result"
    }
   ],
   "source": [
    "methods(+)"
   ]
  },
  {
   "cell_type": "code",
   "execution_count": 2,
   "id": "driven-interest",
   "metadata": {},
   "outputs": [
    {
     "data": {
      "text/html": [
       "+(x::<b>T</b>, y::<b>T</b>)<i> where T<:Union{Int128, Int16, Int32, Int64, Int8, UInt128, UInt16, UInt32, UInt64, UInt8}</i> in Base at <a href=\"https://github.com/JuliaLang/julia/tree/f9720dc2ebd6cd9e3086365f281e62506444ef37/base/int.jl#L87\" target=\"_blank\">int.jl:87</a>"
      ],
      "text/plain": [
       "+(x::T, y::T) where T<:Union{Int128, Int16, Int32, Int64, Int8, UInt128, UInt16, UInt32, UInt64, UInt8} in Base at int.jl:87"
      ]
     },
     "execution_count": 2,
     "metadata": {},
     "output_type": "execute_result"
    }
   ],
   "source": [
    "@which 3+3"
   ]
  },
  {
   "cell_type": "code",
   "execution_count": 3,
   "id": "precise-shoot",
   "metadata": {},
   "outputs": [
    {
     "data": {
      "text/html": [
       "+(x::<b>Float64</b>, y::<b>Float64</b>) in Base at <a href=\"https://github.com/JuliaLang/julia/tree/f9720dc2ebd6cd9e3086365f281e62506444ef37/base/float.jl#L326\" target=\"_blank\">float.jl:326</a>"
      ],
      "text/plain": [
       "+(x::Float64, y::Float64) in Base at float.jl:326"
      ]
     },
     "execution_count": 3,
     "metadata": {},
     "output_type": "execute_result"
    }
   ],
   "source": [
    "@which 3.0+3.0"
   ]
  },
  {
   "cell_type": "code",
   "execution_count": 4,
   "id": "premium-personality",
   "metadata": {},
   "outputs": [
    {
     "data": {
      "text/html": [
       "+(x::<b>Number</b>, y::<b>Number</b>) in Base at <a href=\"https://github.com/JuliaLang/julia/tree/f9720dc2ebd6cd9e3086365f281e62506444ef37/base/promotion.jl#L321\" target=\"_blank\">promotion.jl:321</a>"
      ],
      "text/plain": [
       "+(x::Number, y::Number) in Base at promotion.jl:321"
      ]
     },
     "execution_count": 4,
     "metadata": {},
     "output_type": "execute_result"
    }
   ],
   "source": [
    "@which 3 + 3.0"
   ]
  },
  {
   "cell_type": "code",
   "execution_count": 6,
   "id": "completed-burst",
   "metadata": {},
   "outputs": [
    {
     "data": {
      "text/plain": [
       "\"hello world!\""
      ]
     },
     "execution_count": 6,
     "metadata": {},
     "output_type": "execute_result"
    }
   ],
   "source": [
    "import Base: +\n",
    "+(x::String, y::String) = string(x,y)\n",
    "\"hello \" + \"world!\""
   ]
  },
  {
   "cell_type": "code",
   "execution_count": 7,
   "id": "italian-current",
   "metadata": {
    "scrolled": true
   },
   "outputs": [
    {
     "data": {
      "text/html": [
       "+(x::<b>String</b>, y::<b>String</b>) in Main at In[6]:2"
      ],
      "text/plain": [
       "+(x::String, y::String) in Main at In[6]:2"
      ]
     },
     "execution_count": 7,
     "metadata": {},
     "output_type": "execute_result"
    }
   ],
   "source": [
    "@which \"hello \" + \"world!\""
   ]
  },
  {
   "cell_type": "code",
   "execution_count": 8,
   "id": "vocal-convert",
   "metadata": {},
   "outputs": [
    {
     "data": {
      "text/plain": [
       "foo (generic function with 4 methods)"
      ]
     },
     "execution_count": 8,
     "metadata": {},
     "output_type": "execute_result"
    }
   ],
   "source": [
    "foo(x,y) = println(\"duck-typed foo!\")\n",
    "foo(x::Int, y::Float64) = println(\"foo with an integer and float\")\n",
    "foo(x::Float64, y::Float64) = println(\"foo with two floats!\")\n",
    "foo(x::Int, y::Int) = println(\"foo with two integers\")"
   ]
  },
  {
   "cell_type": "code",
   "execution_count": 9,
   "id": "junior-insulation",
   "metadata": {},
   "outputs": [
    {
     "name": "stdout",
     "output_type": "stream",
     "text": [
      "foo with two integer floats\n"
     ]
    }
   ],
   "source": [
    "foo(1,1)"
   ]
  },
  {
   "cell_type": "code",
   "execution_count": 10,
   "id": "assigned-welsh",
   "metadata": {
    "scrolled": true
   },
   "outputs": [
    {
     "name": "stdout",
     "output_type": "stream",
     "text": [
      "foo with two floats!\n"
     ]
    }
   ],
   "source": [
    "foo(1.,1.)"
   ]
  },
  {
   "cell_type": "code",
   "execution_count": 11,
   "id": "creative-verse",
   "metadata": {
    "scrolled": true
   },
   "outputs": [
    {
     "name": "stdout",
     "output_type": "stream",
     "text": [
      "foo with an integer and float\n"
     ]
    }
   ],
   "source": [
    "foo(1,1.0)"
   ]
  },
  {
   "cell_type": "code",
   "execution_count": 13,
   "id": "incredible-blood",
   "metadata": {},
   "outputs": [
    {
     "name": "stdout",
     "output_type": "stream",
     "text": [
      "duck-typed foo!\n"
     ]
    }
   ],
   "source": [
    "foo(true,false)"
   ]
  },
  {
   "cell_type": "code",
   "execution_count": null,
   "id": "magnetic-sarah",
   "metadata": {},
   "outputs": [],
   "source": [
    "using Test\n",
    "\n",
    "\n",
    "foo(x::String, y::String) = println(\"My inputs x and y are both strings!\")\n",
    "\n",
    "# ------------------------------------------------------------------------------------------\n",
    "# We see here that in order to restrict the type of `x` and `y` to `String`s, we just follow\n",
    "# the input argument name by a double colon and the keyword `String`.\n",
    "#\n",
    "# Now we'll see that `foo` works on `String`s and doesn't work on other input argument\n",
    "# types.\n",
    "# ------------------------------------------------------------------------------------------\n",
    "\n",
    "foo(\"hello\", \"hi!\")\n",
    "\n",
    "#foo(3, 4)\n",
    "#This code gives an error \n",
    "\n",
    "# ------------------------------------------------------------------------------------------\n",
    "# To get `foo` to work on integer (`Int`) inputs, let's tack `::Int` onto our input\n",
    "# arguments when we declare `foo`.\n",
    "# ------------------------------------------------------------------------------------------\n",
    "\n",
    "foo(x::Int, y::Int) = println(\"My inputs x and y are both integers!\")\n",
    "\n",
    "foo(3, 4)\n",
    "\n",
    "# ------------------------------------------------------------------------------------------\n",
    "# Now `foo` works on integers! But look, `foo` also still works when `x` and `y` are\n",
    "# strings!\n",
    "# ------------------------------------------------------------------------------------------\n",
    "\n",
    "foo(\"hello\", \"hi!\")\n",
    "\n",
    "# ------------------------------------------------------------------------------------------\n",
    "# This is starting to get to the heart of multiple dispatch. When we declared\n",
    "#\n",
    "# ```julia\n",
    "# foo(x::Int, y::Int) = println(\"My inputs x and y are both integers!\")\n",
    "# ```\n",
    "# we didn't overwrite or replace\n",
    "# ```julia\n",
    "# foo(y::String, y::String)\n",
    "# ```\n",
    "# Instead, we just added an additional ***method*** to the ***generic function*** called\n",
    "# `foo`.\n",
    "#\n",
    "# A ***generic function*** is the abstract concept associated with a particular operation.\n",
    "#\n",
    "# For example, the generic function `+` represents the concept of addition.\n",
    "#\n",
    "# A ***method*** is a specific implementation of a generic function for *particular argument\n",
    "# types*.\n",
    "#\n",
    "# For example, `+` has methods that accept floating point numbers, integers, matrices, etc.\n",
    "#\n",
    "# We can use the `methods` to see how many methods there are for `foo`.\n",
    "# ------------------------------------------------------------------------------------------\n",
    "\n",
    "methods(foo)\n",
    "\n",
    "# ------------------------------------------------------------------------------------------\n",
    "# Aside: how many methods do you think there are for addition?\n",
    "# ------------------------------------------------------------------------------------------\n",
    "\n",
    "methods(+)\n",
    "\n",
    "# ------------------------------------------------------------------------------------------\n",
    "# So, we now can call `foo` on integers or strings. When you call `foo` on a particular set\n",
    "# of arguments, Julia will infer the types of the inputs and dispatch the appropriate\n",
    "# method. *This* is multiple dispatch.\n",
    "#\n",
    "# Multiple dispatch makes our code generic and fast. Our code can be generic and flexible\n",
    "# because we can write code in terms of abstract operations such as addition and\n",
    "# multiplication, rather than in terms of specific implementations. At the same time, our\n",
    "# code runs quickly because Julia is able to call efficient methods for the relevant types.\n",
    "#\n",
    "# To see which method is being dispatched when we call a generic function, we can use the\n",
    "# @which macro:\n",
    "# ------------------------------------------------------------------------------------------\n",
    "\n",
    "#@which foo(3, 4)\n",
    "#Code gives an error in Repl.it but should work locally. \n",
    "\n",
    "# ------------------------------------------------------------------------------------------\n",
    "# Let's see what happens when we use `@which` with the addition operator!\n",
    "# ------------------------------------------------------------------------------------------\n",
    "\n",
    "#@which 3.0 + 3.0\n",
    "#Code gives an error in Repl.it but should work locally. \n",
    "\n",
    "# ------------------------------------------------------------------------------------------\n",
    "# And we can continue to add other methods to our generic function `foo`. Let's add one that\n",
    "# takes the ***abstract type*** `Number`, which includes subtypes such as `Int`, `Float64`,\n",
    "# and other objects you would think of as numbers:\n",
    "# ------------------------------------------------------------------------------------------\n",
    "\n",
    "foo(x::Number, y::Number) = println(\"My inputs x and y are both numbers!\")\n",
    "\n",
    "# ------------------------------------------------------------------------------------------\n",
    "# This method for `foo` will work on, for example, floating point numbers:\n",
    "# ------------------------------------------------------------------------------------------\n",
    "\n",
    "foo(3.0, 4.0)\n",
    "\n",
    "# ------------------------------------------------------------------------------------------\n",
    "# We can also add a fallback, duck-typed method for `foo` that takes inputs of any type:\n",
    "# ------------------------------------------------------------------------------------------\n",
    "\n",
    "foo(x, y) = println(\"I accept inputs of any type!\")\n",
    "\n",
    "# ------------------------------------------------------------------------------------------\n",
    "# Given the methods we've already written for `foo` so far, this method will be called\n",
    "# whenever we pass non-numbers to `foo`:\n",
    "# ------------------------------------------------------------------------------------------\n",
    "\n",
    "v = rand(3)\n",
    "foo(v, v)\n",
    "\n",
    "# ------------------------------------------------------------------------------------------\n",
    "# ### Exercises\n",
    "#\n",
    "# #### 9.1\n",
    "#\n",
    "# Extend the function `foo`, adding a method that takes only one input argument, which is of\n",
    "# type `Bool`, and returns \"foo with one boolean!\"\n",
    "# ------------------------------------------------------------------------------------------\n",
    "\n",
    "\n",
    "\n",
    "# ------------------------------------------------------------------------------------------\n",
    "# #### 9.2\n",
    "#\n",
    "# Check that the method being dispatched when you execute\n",
    "# ```julia\n",
    "# foo(true)\n",
    "# ```\n",
    "# is the one you wrote.\n",
    "# ------------------------------------------------------------------------------------------\n",
    "\n",
    "\n",
    "\n",
    "#@assert foo(true) == \"foo with one boolean!\"\n",
    "#Code gives an error in Repl.it but should work locally. \n"
   ]
  },
  {
   "cell_type": "markdown",
   "id": "brief-colon",
   "metadata": {},
   "source": [
    "## Fast af boi!\n"
   ]
  },
  {
   "cell_type": "markdown",
   "id": "caring-document",
   "metadata": {},
   "source": [
    "# Julia is fast\n",
    "\n",
    "Very often, benchmarks are used to compare languages.  These benchmarks can lead to long\n",
    "discussions, first as to exactly what is being benchmarked and secondly what explains the\n",
    "differences.  These simple questions can sometimes get more complicated than you at first\n",
    "might imagine.\n",
    "\n",
    "(This material began life as a wonderful lecture by Steven Johnson at MIT:\n",
    "https://github.com/stevengj/18S096/blob/master/lectures/lecture1/Boxes-and-\n",
    "registers.ipynb.)\n",
    "------------------------------------------------------------------------------------------\n",
    "\n",
    "------------------------------------------------------------------------------------------\n",
    "# Outline of this notebook\n",
    "\n",
    "- Define the sum function\n",
    "- Implementations & benchmarking of sum in...\n",
    "    - C (hand-written)\n",
    "    - C (hand-written with -ffast-math)\n",
    "    - python (built-in)\n",
    "    - python (numpy)\n",
    "    - python (hand-written)\n",
    "    - Julia (built-in)\n",
    "    - Julia (hand-written)\n",
    "    - Julia (hand-written with SIMD)"
   ]
  },
  {
   "cell_type": "markdown",
   "id": "taken-transition",
   "metadata": {},
   "source": [
    "- Summary of benchmarks\n",
    "------------------------------------------------------------------------------------------\n",
    "\n",
    "------------------------------------------------------------------------------------------\n",
    "# `sum`: An easy enough function to understand\n",
    "------------------------------------------------------------------------------------------\n",
    "\n",
    "------------------------------------------------------------------------------------------\n",
    "Consider the  **sum** function `sum(a)`, which computes\n",
    "$$\n",
    "\\mathrm{sum}(a) = \\sum_{i=1}^n a_i,\n",
    "$$\n",
    "where $n$ is the length of `a`."
   ]
  },
  {
   "cell_type": "code",
   "execution_count": null,
   "id": "prospective-winning",
   "metadata": {},
   "outputs": [],
   "source": [
    "a = rand(10^7) # 1D vector of random numbers, uniform on [0,1)\n",
    "\n",
    "sum(a)"
   ]
  },
  {
   "cell_type": "markdown",
   "id": "imported-married",
   "metadata": {},
   "source": [
    "------------------------------------------------------------------------------------------\n",
    "The expected result is 0.5 * 10^7, since the mean of each entry is 0.5\n",
    "------------------------------------------------------------------------------------------\n",
    "\n",
    "------------------------------------------------------------------------------------------\n",
    "Benchmarking a few ways in a few languages\n",
    "------------------------------------------------------------------------------------------\n"
   ]
  },
  {
   "cell_type": "code",
   "execution_count": null,
   "id": "answering-yield",
   "metadata": {},
   "outputs": [],
   "source": [
    "@time sum(a)"
   ]
  },
  {
   "cell_type": "code",
   "execution_count": null,
   "id": "intended-anatomy",
   "metadata": {},
   "outputs": [],
   "source": [
    "@time sum(a)"
   ]
  },
  {
   "cell_type": "code",
   "execution_count": null,
   "id": "refined-better",
   "metadata": {},
   "outputs": [],
   "source": [
    "@time sum(a)"
   ]
  },
  {
   "cell_type": "code",
   "execution_count": null,
   "id": "occupational-product",
   "metadata": {},
   "outputs": [],
   "source": [
    "------------------------------------------------------------------------------------------\n",
    "The `@time` macro can yield noisy results, so it's not our best choice for benchmarking!\n",
    "\n",
    "Luckily, Julia has a `BenchmarkTools.jl` package to make benchmarking easy and accurate:\n",
    "------------------------------------------------------------------------------------------"
   ]
  },
  {
   "cell_type": "code",
   "execution_count": null,
   "id": "advanced-throat",
   "metadata": {},
   "outputs": [],
   "source": [
    "using Pkg\n",
    "Pkg.add(\"BenchmarkTools\")\n",
    "\n",
    "using BenchmarkTools  "
   ]
  },
  {
   "cell_type": "code",
   "execution_count": null,
   "id": "touched-knowing",
   "metadata": {},
   "outputs": [],
   "source": [
    "------------------------------------------------------------------------------------------\n",
    "#  1. The C language\n",
    "\n",
    "# C is often considered the gold standard: difficult on the human, nice for the machine.\n",
    "# Getting within a factor of 2 of C is often satisfying. Nonetheless, even within C, there\n",
    "# are many kinds of optimizations possible that a naive C writer may or may not get the\n",
    "# advantage of.\n",
    "\n",
    "# The current author does not speak C, so he does not read the cell below, but is happy to\n",
    "# know that you can put C code in a Julia session, compile it, and run it. Note that the\n",
    "# `\"\"\"` wrap a multi-line string.\n",
    "# ------------------------------------------------------------------------------------------\n",
    "\n",
    "using Libdl\n",
    "C_code = \"\"\"\n",
    "#include <stddef.h>\n",
    "double c_sum(size_t n, double *X) {\n",
    "    double s = 0.0;\n",
    "    for (size_t i = 0; i < n; ++i) {\n",
    "        s += X[i];\n",
    "    }\n",
    "    return s;\n",
    "}\n",
    "\"\"\"\n",
    "\n",
    "const Clib = tempname()   # make a temporary file\n",
    "\n",
    "\n",
    "# compile to a shared library by piping C_code to gcc\n",
    "# (works only if you have gcc installed):\n",
    "\n",
    "open(`gcc -fPIC -O3 -msse3 -xc -shared -o $(Clib * \".\" * Libdl.dlext) -`, \"w\") do f\n",
    "    print(f, C_code) \n",
    "end"
   ]
  },
  {
   "cell_type": "markdown",
   "id": "cardiac-sleeping",
   "metadata": {},
   "source": [
    "# define a Julia function that calls the C function:"
   ]
  },
  {
   "cell_type": "code",
   "execution_count": null,
   "id": "offensive-caution",
   "metadata": {},
   "outputs": [],
   "source": [
    "c_sum(X::Array{Float64}) = ccall((\"c_sum\", Clib), Float64, (Csize_t, Ptr{Float64}), length(X), X)"
   ]
  },
  {
   "cell_type": "code",
   "execution_count": null,
   "id": "historic-sleep",
   "metadata": {},
   "outputs": [],
   "source": [
    "c_sum(a)"
   ]
  },
  {
   "cell_type": "code",
   "execution_count": null,
   "id": "appointed-drill",
   "metadata": {},
   "outputs": [],
   "source": [
    "c_sum(a) ≈ sum(a) # type \\approx and then <TAB> to get the ≈ symbolb"
   ]
  },
  {
   "cell_type": "code",
   "execution_count": null,
   "id": "metropolitan-island",
   "metadata": {},
   "outputs": [],
   "source": [
    "c_sum(a) - sum(a)  "
   ]
  },
  {
   "cell_type": "code",
   "execution_count": null,
   "id": "unique-authority",
   "metadata": {},
   "outputs": [],
   "source": [
    "#≈  # alias for the `isapprox` function #?isapprox"
   ]
  },
  {
   "cell_type": "markdown",
   "id": "aerial-store",
   "metadata": {},
   "source": [
    "------------------------------------------------------------------------------------------\n",
    "We can now benchmark the C code directly from Julia:\n",
    "------------------------------------------------------------------------------------------"
   ]
  },
  {
   "cell_type": "code",
   "execution_count": null,
   "id": "healthy-singles",
   "metadata": {},
   "outputs": [],
   "source": [
    "c_bench = @benchmark c_sum($a)\n",
    "\n",
    "println(\"C: Fastest time was $(minimum(c_bench.times) / 1e6) msec\")\n",
    "\n",
    "d = Dict()  # a \"dictionary\", i.e. an associative array\n",
    "d[\"C\"] = minimum(c_bench.times) / 1e6  # in milliseconds\n",
    "d\n"
   ]
  },
  {
   "cell_type": "code",
   "execution_count": null,
   "id": "streaming-johnson",
   "metadata": {},
   "outputs": [],
   "source": [
    "Pkg.add(\"Plots\")\n",
    "using Plots\n",
    "gr()"
   ]
  },
  {
   "cell_type": "code",
   "execution_count": null,
   "id": "typical-crash",
   "metadata": {},
   "outputs": [],
   "source": [
    "using Statistics # bring in statistical support for standard deviations\n",
    "t = c_bench.times / 1e6 # times in milliseconds\n",
    "m, σ = minimum(t), std(t)"
   ]
  },
  {
   "cell_type": "code",
   "execution_count": null,
   "id": "fiscal-gilbert",
   "metadata": {},
   "outputs": [],
   "source": [
    "histogram(t, bins=500,\n",
    "    xlim=(m - 0.01, m + σ),\n",
    "    xlabel=\"milliseconds\", ylabel=\"count\", label=\"\")"
   ]
  },
  {
   "cell_type": "markdown",
   "id": "retired-philip",
   "metadata": {},
   "source": [
    "------------------------------------------------------------------------------------------\n",
    "# 2. C with -ffast-math\n",
    "\n",
    "If we allow C to re-arrange the floating point operations, then it'll vectorize with SIMD\n",
    "(single instruction, multiple data) instructions.\n",
    "------------------------------------------------------------------------------------------"
   ]
  },
  {
   "cell_type": "code",
   "execution_count": null,
   "id": "boxed-beverage",
   "metadata": {},
   "outputs": [],
   "source": [
    "const Clib_fastmath = tempname()   # make a temporary file\n",
    "\n",
    "# The same as above but with a -ffast-math flag added\n",
    "open(`gcc -fPIC -O3 -msse3 -xc -shared -ffast-math -o $(Clib_fastmath * \".\" * Libdl.dlext) -`, \"w\") do f\n",
    "    print(f, C_code) \n",
    "end"
   ]
  },
  {
   "cell_type": "code",
   "execution_count": null,
   "id": "polyphonic-definition",
   "metadata": {},
   "outputs": [],
   "source": [
    "# define a Julia function that calls the C function:\n",
    "c_sum_fastmath(X::Array{Float64}) = ccall((\"c_sum\", Clib_fastmath), Float64, (Csize_t, Ptr{Float64}), length(X), X)\n",
    "\n",
    "c_fastmath_bench = @benchmark $c_sum_fastmath($a)\n",
    "\n",
    "d[\"C -ffast-math\"] = minimum(c_fastmath_bench.times) / 1e6  # in milliseconds"
   ]
  },
  {
   "cell_type": "code",
   "execution_count": null,
   "id": "cloudy-coating",
   "metadata": {},
   "outputs": [],
   "source": [
    "------------------------------------------------------------------------------------------\n",
    "# 3. Python's built in `sum`\n",
    "------------------------------------------------------------------------------------------\n",
    "\n",
    "------------------------------------------------------------------------------------------\n",
    "The `PyCall` package provides a Julia interface to Python:\n",
    "------------------------------------------------------------------------------------------"
   ]
  },
  {
   "cell_type": "code",
   "execution_count": null,
   "id": "animal-tutorial",
   "metadata": {},
   "outputs": [],
   "source": [
    "using Pkg; Pkg.add(\"PyCall\")\n",
    "using PyCall\n",
    "\n",
    "# get the Python built-in \"sum\" function:\n",
    "pysum = pybuiltin(\"sum\")"
   ]
  },
  {
   "cell_type": "code",
   "execution_count": null,
   "id": "designing-assessment",
   "metadata": {},
   "outputs": [],
   "source": [
    "pysum(a)"
   ]
  },
  {
   "cell_type": "code",
   "execution_count": null,
   "id": "criminal-cherry",
   "metadata": {},
   "outputs": [],
   "source": [
    "pysum(a) ≈ sum(a)"
   ]
  },
  {
   "cell_type": "code",
   "execution_count": null,
   "id": "convenient-uruguay",
   "metadata": {},
   "outputs": [],
   "source": [
    "py_list_bench = @benchmark $pysum($a)"
   ]
  },
  {
   "cell_type": "code",
   "execution_count": null,
   "id": "lesbian-glasgow",
   "metadata": {},
   "outputs": [],
   "source": [
    "d[\"Python built-in\"] = minimum(py_list_bench.times) / 1e6\n",
    "d"
   ]
  },
  {
   "cell_type": "markdown",
   "id": "suspended-reality",
   "metadata": {},
   "source": [
    "------------------------------------------------------------------------------------------\n",
    "# 4. Python: `numpy`\n",
    "\n",
    "## Takes advantage of hardware \"SIMD\", but only works when it works.\n",
    "\n",
    "`numpy` is an optimized C library, callable from Python.\n",
    "It may be installed within Julia as follows:\n",
    "------------------------------------------------------------------------------------------"
   ]
  },
  {
   "cell_type": "code",
   "execution_count": null,
   "id": "popular-endorsement",
   "metadata": {},
   "outputs": [],
   "source": [
    "using Pkg; Pkg.add(\"Conda\")\n",
    "using Conda\n",
    "\n",
    "Conda.add(\"numpy\")\n",
    "\n",
    "numpy_sum = pyimport(\"numpy\")[\"sum\"]\n",
    "\n",
    "py_numpy_bench = @benchmark $numpy_sum($a)"
   ]
  },
  {
   "cell_type": "code",
   "execution_count": null,
   "id": "swedish-childhood",
   "metadata": {},
   "outputs": [],
   "source": [
    "numpy_sum(a)"
   ]
  },
  {
   "cell_type": "code",
   "execution_count": null,
   "id": "little-collectible",
   "metadata": {},
   "outputs": [],
   "source": [
    "numpy_sum(a) ≈ sum(a)"
   ]
  },
  {
   "cell_type": "code",
   "execution_count": null,
   "id": "vocational-rebecca",
   "metadata": {},
   "outputs": [],
   "source": [
    "d[\"Python numpy\"] = minimum(py_numpy_bench.times) / 1e6\n",
    "d"
   ]
  },
  {
   "cell_type": "markdown",
   "id": "trained-haiti",
   "metadata": {},
   "source": [
    "------------------------------------------------------------------------------------------\n",
    "# 5. Python, hand-written\n",
    "------------------------------------------------------------------------------------------"
   ]
  },
  {
   "cell_type": "code",
   "execution_count": null,
   "id": "dynamic-louis",
   "metadata": {},
   "outputs": [],
   "source": [
    "\"\"\"py\n",
    "def py_sum(A):\n",
    "    s = 0.0\n",
    "    for a in A:\n",
    "        s += a\n",
    "    return s\n",
    "\"\"\"\n",
    "sum_py = \"py_sum\"\n",
    "\n",
    "py_hand = @benchmark $sum_py($a)\n"
   ]
  },
  {
   "cell_type": "code",
   "execution_count": null,
   "id": "occupational-discrimination",
   "metadata": {},
   "outputs": [],
   "source": [
    "sum_py(a)"
   ]
  },
  {
   "cell_type": "code",
   "execution_count": null,
   "id": "nearby-potato",
   "metadata": {},
   "outputs": [],
   "source": [
    "sum_py(a) ≈ sum(a)"
   ]
  },
  {
   "cell_type": "code",
   "execution_count": null,
   "id": "married-funeral",
   "metadata": {},
   "outputs": [],
   "source": [
    "d[\"Python hand-written\"] = minimum(py_hand.times) / 1e6\n",
    "d"
   ]
  },
  {
   "cell_type": "markdown",
   "id": "secret-serbia",
   "metadata": {},
   "source": [
    "------------------------------------------------------------------------------------------\n",
    "# 6. Julia (built-in)\n",
    "\n",
    "## Written directly in Julia, not in C!\n",
    "------------------------------------------------------------------------------------------\n"
   ]
  },
  {
   "cell_type": "code",
   "execution_count": null,
   "id": "multiple-honor",
   "metadata": {},
   "outputs": [],
   "source": [
    "@which sum(a)"
   ]
  },
  {
   "cell_type": "code",
   "execution_count": null,
   "id": "impressed-component",
   "metadata": {},
   "outputs": [],
   "source": [
    "j_bench = @benchmark sum($a)"
   ]
  },
  {
   "cell_type": "code",
   "execution_count": null,
   "id": "informational-beach",
   "metadata": {},
   "outputs": [],
   "source": [
    "d[\"Julia built-in\"] = minimum(j_bench.times) / 1e6\n",
    "d"
   ]
  },
  {
   "cell_type": "markdown",
   "id": "upper-while",
   "metadata": {},
   "source": [
    "------------------------------------------------------------------------------------------\n",
    "# 7. Julia (hand-written)\n",
    "------------------------------------------------------------------------------------------"
   ]
  },
  {
   "cell_type": "code",
   "execution_count": null,
   "id": "indoor-advice",
   "metadata": {},
   "outputs": [],
   "source": [
    "function mysum(A)   \n",
    "    s = 0.0 # s = zero(eltype(a))\n",
    "    for a in A\n",
    "        s += a\n",
    "    end\n",
    "    s\n",
    "end\n",
    "\n",
    "j_bench_hand = @benchmark mysum($a)"
   ]
  },
  {
   "cell_type": "code",
   "execution_count": null,
   "id": "broad-ghana",
   "metadata": {},
   "outputs": [],
   "source": [
    "d[\"Julia hand-written\"] = minimum(j_bench_hand.times) / 1e6\n",
    "d"
   ]
  },
  {
   "cell_type": "markdown",
   "id": "interpreted-times",
   "metadata": {},
   "source": [
    "------------------------------------------------------------------------------------------\n",
    "# 8. Julia (hand-written w. simd)\n",
    "------------------------------------------------------------------------------------------"
   ]
  },
  {
   "cell_type": "code",
   "execution_count": null,
   "id": "efficient-drove",
   "metadata": {},
   "outputs": [],
   "source": [
    "function mysum_simd(A)   \n",
    "    s = 0.0 # s = zero(eltype(A))\n",
    "    @simd for a in A\n",
    "        s += a\n",
    "    end\n",
    "    s\n",
    "end\n",
    "\n",
    "j_bench_hand_simd = @benchmark mysum_simd($a)"
   ]
  },
  {
   "cell_type": "code",
   "execution_count": null,
   "id": "thorough-graphics",
   "metadata": {},
   "outputs": [],
   "source": [
    "mysum_simd(a)"
   ]
  },
  {
   "cell_type": "code",
   "execution_count": null,
   "id": "agricultural-medication",
   "metadata": {},
   "outputs": [],
   "source": [
    "d[\"Julia hand-written simd\"] = minimum(j_bench_hand_simd.times) / 1e6\n",
    "d"
   ]
  },
  {
   "cell_type": "code",
   "execution_count": null,
   "id": "competent-bridal",
   "metadata": {},
   "outputs": [],
   "source": [
    "# ------------------------------------------------------------------------------------------\n",
    "# # Summary\n",
    "# ------------------------------------------------------------------------------------------\n",
    "\n",
    "for (key, value) in sort(collect(d), by=last)\n",
    "    println(rpad(key, 25, \".\"), lpad(round(value; digits=1), 6, \".\"))\n",
    "end"
   ]
  }
 ],
 "metadata": {
  "kernelspec": {
   "display_name": "Julia 1.6.0",
   "language": "julia",
   "name": "julia-1.6"
  },
  "language_info": {
   "file_extension": ".jl",
   "mimetype": "application/julia",
   "name": "julia",
   "version": "1.6.0"
  }
 },
 "nbformat": 4,
 "nbformat_minor": 5
}
